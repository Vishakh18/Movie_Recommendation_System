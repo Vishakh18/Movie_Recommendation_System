{
  "nbformat": 4,
  "nbformat_minor": 0,
  "metadata": {
    "colab": {
      "provenance": [],
      "authorship_tag": "ABX9TyNwTzUqeDIze3yjTCta9o2j",
      "include_colab_link": true
    },
    "kernelspec": {
      "name": "python3",
      "display_name": "Python 3"
    },
    "language_info": {
      "name": "python"
    }
  },
  "cells": [
    {
      "cell_type": "markdown",
      "metadata": {
        "id": "view-in-github",
        "colab_type": "text"
      },
      "source": [
        "<a href=\"https://colab.research.google.com/github/Vishakh18/Movie_Recommendation_System/blob/main/Untitled1.ipynb\" target=\"_parent\"><img src=\"https://colab.research.google.com/assets/colab-badge.svg\" alt=\"Open In Colab\"/></a>"
      ]
    },
    {
      "cell_type": "markdown",
      "source": [
        "# Movie_Recommendation"
      ],
      "metadata": {
        "id": "r8GQV0DsdJTe"
      }
    },
    {
      "cell_type": "markdown",
      "source": [
        "Import Library"
      ],
      "metadata": {
        "id": "6voPwHJ1dXx2"
      }
    },
    {
      "cell_type": "code",
      "execution_count": 1,
      "metadata": {
        "id": "OSR1926pc7mZ"
      },
      "outputs": [],
      "source": [
        "import pandas as pd"
      ]
    },
    {
      "cell_type": "code",
      "source": [
        "import numpy as np"
      ],
      "metadata": {
        "id": "Y3rzAIHVdeI9"
      },
      "execution_count": 4,
      "outputs": []
    },
    {
      "cell_type": "code",
      "source": [
        "df=pd.read_csv('https://github.com/YBI-Foundation/Dataset/raw/refs/heads/main/Movies%20Recommendation.csv')\n"
      ],
      "metadata": {
        "id": "twujJLZbdk6d"
      },
      "execution_count": 5,
      "outputs": []
    },
    {
      "cell_type": "code",
      "source": [
        "df.head()"
      ],
      "metadata": {
        "colab": {
          "base_uri": "https://localhost:8080/",
          "height": 672
        },
        "id": "Ws_whGKUd4oF",
        "outputId": "a434e619-dcb6-4314-e654-3e3425f822ab"
      },
      "execution_count": 6,
      "outputs": [
        {
          "output_type": "execute_result",
          "data": {
            "text/plain": [
              "   Movie_ID      Movie_Title                       Movie_Genre Movie_Language  \\\n",
              "0         1       Four Rooms                      Crime Comedy             en   \n",
              "1         2        Star Wars  Adventure Action Science Fiction             en   \n",
              "2         3     Finding Nemo                  Animation Family             en   \n",
              "3         4     Forrest Gump              Comedy Drama Romance             en   \n",
              "4         5  American Beauty                             Drama             en   \n",
              "\n",
              "   Movie_Budget  Movie_Popularity Movie_Release_Date  Movie_Revenue  \\\n",
              "0       4000000         22.876230         09-12-1995        4300000   \n",
              "1      11000000        126.393695         25-05-1977      775398007   \n",
              "2      94000000         85.688789         30-05-2003      940335536   \n",
              "3      55000000        138.133331         06-07-1994      677945399   \n",
              "4      15000000         80.878605         15-09-1999      356296601   \n",
              "\n",
              "   Movie_Runtime  Movie_Vote  ...  \\\n",
              "0           98.0         6.5  ...   \n",
              "1          121.0         8.1  ...   \n",
              "2          100.0         7.6  ...   \n",
              "3          142.0         8.2  ...   \n",
              "4          122.0         7.9  ...   \n",
              "\n",
              "                                      Movie_Homepage  \\\n",
              "0                                                NaN   \n",
              "1  http://www.starwars.com/films/star-wars-episod...   \n",
              "2              http://movies.disney.com/finding-nemo   \n",
              "3                                                NaN   \n",
              "4                      http://www.dreamworks.com/ab/   \n",
              "\n",
              "                                      Movie_Keywords  \\\n",
              "0          hotel new year's eve witch bet hotel room   \n",
              "1        android galaxy hermit death star lightsaber   \n",
              "2  father son relationship harbor underwater fish...   \n",
              "3  vietnam veteran hippie mentally disabled runni...   \n",
              "4  male nudity female nudity adultery midlife cri...   \n",
              "\n",
              "                                      Movie_Overview  \\\n",
              "0  It's Ted the Bellhop's first night on the job....   \n",
              "1  Princess Leia is captured and held hostage by ...   \n",
              "2  Nemo, an adventurous young clownfish, is unexp...   \n",
              "3  A man with a low IQ has accomplished great thi...   \n",
              "4  Lester Burnham, a depressed suburban father in...   \n",
              "\n",
              "                              Movie_Production_House  \\\n",
              "0  [{\"name\": \"Miramax Films\", \"id\": 14}, {\"name\":...   \n",
              "1  [{\"name\": \"Lucasfilm\", \"id\": 1}, {\"name\": \"Twe...   \n",
              "2     [{\"name\": \"Pixar Animation Studios\", \"id\": 3}]   \n",
              "3          [{\"name\": \"Paramount Pictures\", \"id\": 4}]   \n",
              "4  [{\"name\": \"DreamWorks SKG\", \"id\": 27}, {\"name\"...   \n",
              "\n",
              "                            Movie_Production_Country  \\\n",
              "0  [{\"iso_3166_1\": \"US\", \"name\": \"United States o...   \n",
              "1  [{\"iso_3166_1\": \"US\", \"name\": \"United States o...   \n",
              "2  [{\"iso_3166_1\": \"US\", \"name\": \"United States o...   \n",
              "3  [{\"iso_3166_1\": \"US\", \"name\": \"United States o...   \n",
              "4  [{\"iso_3166_1\": \"US\", \"name\": \"United States o...   \n",
              "\n",
              "                      Movie_Spoken_Language  \\\n",
              "0  [{\"iso_639_1\": \"en\", \"name\": \"English\"}]   \n",
              "1  [{\"iso_639_1\": \"en\", \"name\": \"English\"}]   \n",
              "2  [{\"iso_639_1\": \"en\", \"name\": \"English\"}]   \n",
              "3  [{\"iso_639_1\": \"en\", \"name\": \"English\"}]   \n",
              "4  [{\"iso_639_1\": \"en\", \"name\": \"English\"}]   \n",
              "\n",
              "                                       Movie_Tagline  \\\n",
              "0  Twelve outrageous guests. Four scandalous requ...   \n",
              "1       A long time ago in a galaxy far, far away...   \n",
              "2  There are 3.7 trillion fish in the ocean, they...   \n",
              "3  The world will never be the same, once you've ...   \n",
              "4                                       Look closer.   \n",
              "\n",
              "                                          Movie_Cast  \\\n",
              "0  Tim Roth Antonio Banderas Jennifer Beals Madon...   \n",
              "1  Mark Hamill Harrison Ford Carrie Fisher Peter ...   \n",
              "2  Albert Brooks Ellen DeGeneres Alexander Gould ...   \n",
              "3  Tom Hanks Robin Wright Gary Sinise Mykelti Wil...   \n",
              "4  Kevin Spacey Annette Bening Thora Birch Wes Be...   \n",
              "\n",
              "                                          Movie_Crew   Movie_Director  \n",
              "0  [{'name': 'Allison Anders', 'gender': 1, 'depa...   Allison Anders  \n",
              "1  [{'name': 'George Lucas', 'gender': 2, 'depart...     George Lucas  \n",
              "2  [{'name': 'Andrew Stanton', 'gender': 2, 'depa...   Andrew Stanton  \n",
              "3  [{'name': 'Alan Silvestri', 'gender': 2, 'depa...  Robert Zemeckis  \n",
              "4  [{'name': 'Thomas Newman', 'gender': 2, 'depar...       Sam Mendes  \n",
              "\n",
              "[5 rows x 21 columns]"
            ],
            "text/html": [
              "\n",
              "  <div id=\"df-fd235c89-ed43-436c-a19c-cefbc4b8c6eb\" class=\"colab-df-container\">\n",
              "    <div>\n",
              "<style scoped>\n",
              "    .dataframe tbody tr th:only-of-type {\n",
              "        vertical-align: middle;\n",
              "    }\n",
              "\n",
              "    .dataframe tbody tr th {\n",
              "        vertical-align: top;\n",
              "    }\n",
              "\n",
              "    .dataframe thead th {\n",
              "        text-align: right;\n",
              "    }\n",
              "</style>\n",
              "<table border=\"1\" class=\"dataframe\">\n",
              "  <thead>\n",
              "    <tr style=\"text-align: right;\">\n",
              "      <th></th>\n",
              "      <th>Movie_ID</th>\n",
              "      <th>Movie_Title</th>\n",
              "      <th>Movie_Genre</th>\n",
              "      <th>Movie_Language</th>\n",
              "      <th>Movie_Budget</th>\n",
              "      <th>Movie_Popularity</th>\n",
              "      <th>Movie_Release_Date</th>\n",
              "      <th>Movie_Revenue</th>\n",
              "      <th>Movie_Runtime</th>\n",
              "      <th>Movie_Vote</th>\n",
              "      <th>...</th>\n",
              "      <th>Movie_Homepage</th>\n",
              "      <th>Movie_Keywords</th>\n",
              "      <th>Movie_Overview</th>\n",
              "      <th>Movie_Production_House</th>\n",
              "      <th>Movie_Production_Country</th>\n",
              "      <th>Movie_Spoken_Language</th>\n",
              "      <th>Movie_Tagline</th>\n",
              "      <th>Movie_Cast</th>\n",
              "      <th>Movie_Crew</th>\n",
              "      <th>Movie_Director</th>\n",
              "    </tr>\n",
              "  </thead>\n",
              "  <tbody>\n",
              "    <tr>\n",
              "      <th>0</th>\n",
              "      <td>1</td>\n",
              "      <td>Four Rooms</td>\n",
              "      <td>Crime Comedy</td>\n",
              "      <td>en</td>\n",
              "      <td>4000000</td>\n",
              "      <td>22.876230</td>\n",
              "      <td>09-12-1995</td>\n",
              "      <td>4300000</td>\n",
              "      <td>98.0</td>\n",
              "      <td>6.5</td>\n",
              "      <td>...</td>\n",
              "      <td>NaN</td>\n",
              "      <td>hotel new year's eve witch bet hotel room</td>\n",
              "      <td>It's Ted the Bellhop's first night on the job....</td>\n",
              "      <td>[{\"name\": \"Miramax Films\", \"id\": 14}, {\"name\":...</td>\n",
              "      <td>[{\"iso_3166_1\": \"US\", \"name\": \"United States o...</td>\n",
              "      <td>[{\"iso_639_1\": \"en\", \"name\": \"English\"}]</td>\n",
              "      <td>Twelve outrageous guests. Four scandalous requ...</td>\n",
              "      <td>Tim Roth Antonio Banderas Jennifer Beals Madon...</td>\n",
              "      <td>[{'name': 'Allison Anders', 'gender': 1, 'depa...</td>\n",
              "      <td>Allison Anders</td>\n",
              "    </tr>\n",
              "    <tr>\n",
              "      <th>1</th>\n",
              "      <td>2</td>\n",
              "      <td>Star Wars</td>\n",
              "      <td>Adventure Action Science Fiction</td>\n",
              "      <td>en</td>\n",
              "      <td>11000000</td>\n",
              "      <td>126.393695</td>\n",
              "      <td>25-05-1977</td>\n",
              "      <td>775398007</td>\n",
              "      <td>121.0</td>\n",
              "      <td>8.1</td>\n",
              "      <td>...</td>\n",
              "      <td>http://www.starwars.com/films/star-wars-episod...</td>\n",
              "      <td>android galaxy hermit death star lightsaber</td>\n",
              "      <td>Princess Leia is captured and held hostage by ...</td>\n",
              "      <td>[{\"name\": \"Lucasfilm\", \"id\": 1}, {\"name\": \"Twe...</td>\n",
              "      <td>[{\"iso_3166_1\": \"US\", \"name\": \"United States o...</td>\n",
              "      <td>[{\"iso_639_1\": \"en\", \"name\": \"English\"}]</td>\n",
              "      <td>A long time ago in a galaxy far, far away...</td>\n",
              "      <td>Mark Hamill Harrison Ford Carrie Fisher Peter ...</td>\n",
              "      <td>[{'name': 'George Lucas', 'gender': 2, 'depart...</td>\n",
              "      <td>George Lucas</td>\n",
              "    </tr>\n",
              "    <tr>\n",
              "      <th>2</th>\n",
              "      <td>3</td>\n",
              "      <td>Finding Nemo</td>\n",
              "      <td>Animation Family</td>\n",
              "      <td>en</td>\n",
              "      <td>94000000</td>\n",
              "      <td>85.688789</td>\n",
              "      <td>30-05-2003</td>\n",
              "      <td>940335536</td>\n",
              "      <td>100.0</td>\n",
              "      <td>7.6</td>\n",
              "      <td>...</td>\n",
              "      <td>http://movies.disney.com/finding-nemo</td>\n",
              "      <td>father son relationship harbor underwater fish...</td>\n",
              "      <td>Nemo, an adventurous young clownfish, is unexp...</td>\n",
              "      <td>[{\"name\": \"Pixar Animation Studios\", \"id\": 3}]</td>\n",
              "      <td>[{\"iso_3166_1\": \"US\", \"name\": \"United States o...</td>\n",
              "      <td>[{\"iso_639_1\": \"en\", \"name\": \"English\"}]</td>\n",
              "      <td>There are 3.7 trillion fish in the ocean, they...</td>\n",
              "      <td>Albert Brooks Ellen DeGeneres Alexander Gould ...</td>\n",
              "      <td>[{'name': 'Andrew Stanton', 'gender': 2, 'depa...</td>\n",
              "      <td>Andrew Stanton</td>\n",
              "    </tr>\n",
              "    <tr>\n",
              "      <th>3</th>\n",
              "      <td>4</td>\n",
              "      <td>Forrest Gump</td>\n",
              "      <td>Comedy Drama Romance</td>\n",
              "      <td>en</td>\n",
              "      <td>55000000</td>\n",
              "      <td>138.133331</td>\n",
              "      <td>06-07-1994</td>\n",
              "      <td>677945399</td>\n",
              "      <td>142.0</td>\n",
              "      <td>8.2</td>\n",
              "      <td>...</td>\n",
              "      <td>NaN</td>\n",
              "      <td>vietnam veteran hippie mentally disabled runni...</td>\n",
              "      <td>A man with a low IQ has accomplished great thi...</td>\n",
              "      <td>[{\"name\": \"Paramount Pictures\", \"id\": 4}]</td>\n",
              "      <td>[{\"iso_3166_1\": \"US\", \"name\": \"United States o...</td>\n",
              "      <td>[{\"iso_639_1\": \"en\", \"name\": \"English\"}]</td>\n",
              "      <td>The world will never be the same, once you've ...</td>\n",
              "      <td>Tom Hanks Robin Wright Gary Sinise Mykelti Wil...</td>\n",
              "      <td>[{'name': 'Alan Silvestri', 'gender': 2, 'depa...</td>\n",
              "      <td>Robert Zemeckis</td>\n",
              "    </tr>\n",
              "    <tr>\n",
              "      <th>4</th>\n",
              "      <td>5</td>\n",
              "      <td>American Beauty</td>\n",
              "      <td>Drama</td>\n",
              "      <td>en</td>\n",
              "      <td>15000000</td>\n",
              "      <td>80.878605</td>\n",
              "      <td>15-09-1999</td>\n",
              "      <td>356296601</td>\n",
              "      <td>122.0</td>\n",
              "      <td>7.9</td>\n",
              "      <td>...</td>\n",
              "      <td>http://www.dreamworks.com/ab/</td>\n",
              "      <td>male nudity female nudity adultery midlife cri...</td>\n",
              "      <td>Lester Burnham, a depressed suburban father in...</td>\n",
              "      <td>[{\"name\": \"DreamWorks SKG\", \"id\": 27}, {\"name\"...</td>\n",
              "      <td>[{\"iso_3166_1\": \"US\", \"name\": \"United States o...</td>\n",
              "      <td>[{\"iso_639_1\": \"en\", \"name\": \"English\"}]</td>\n",
              "      <td>Look closer.</td>\n",
              "      <td>Kevin Spacey Annette Bening Thora Birch Wes Be...</td>\n",
              "      <td>[{'name': 'Thomas Newman', 'gender': 2, 'depar...</td>\n",
              "      <td>Sam Mendes</td>\n",
              "    </tr>\n",
              "  </tbody>\n",
              "</table>\n",
              "<p>5 rows × 21 columns</p>\n",
              "</div>\n",
              "    <div class=\"colab-df-buttons\">\n",
              "\n",
              "  <div class=\"colab-df-container\">\n",
              "    <button class=\"colab-df-convert\" onclick=\"convertToInteractive('df-fd235c89-ed43-436c-a19c-cefbc4b8c6eb')\"\n",
              "            title=\"Convert this dataframe to an interactive table.\"\n",
              "            style=\"display:none;\">\n",
              "\n",
              "  <svg xmlns=\"http://www.w3.org/2000/svg\" height=\"24px\" viewBox=\"0 -960 960 960\">\n",
              "    <path d=\"M120-120v-720h720v720H120Zm60-500h600v-160H180v160Zm220 220h160v-160H400v160Zm0 220h160v-160H400v160ZM180-400h160v-160H180v160Zm440 0h160v-160H620v160ZM180-180h160v-160H180v160Zm440 0h160v-160H620v160Z\"/>\n",
              "  </svg>\n",
              "    </button>\n",
              "\n",
              "  <style>\n",
              "    .colab-df-container {\n",
              "      display:flex;\n",
              "      gap: 12px;\n",
              "    }\n",
              "\n",
              "    .colab-df-convert {\n",
              "      background-color: #E8F0FE;\n",
              "      border: none;\n",
              "      border-radius: 50%;\n",
              "      cursor: pointer;\n",
              "      display: none;\n",
              "      fill: #1967D2;\n",
              "      height: 32px;\n",
              "      padding: 0 0 0 0;\n",
              "      width: 32px;\n",
              "    }\n",
              "\n",
              "    .colab-df-convert:hover {\n",
              "      background-color: #E2EBFA;\n",
              "      box-shadow: 0px 1px 2px rgba(60, 64, 67, 0.3), 0px 1px 3px 1px rgba(60, 64, 67, 0.15);\n",
              "      fill: #174EA6;\n",
              "    }\n",
              "\n",
              "    .colab-df-buttons div {\n",
              "      margin-bottom: 4px;\n",
              "    }\n",
              "\n",
              "    [theme=dark] .colab-df-convert {\n",
              "      background-color: #3B4455;\n",
              "      fill: #D2E3FC;\n",
              "    }\n",
              "\n",
              "    [theme=dark] .colab-df-convert:hover {\n",
              "      background-color: #434B5C;\n",
              "      box-shadow: 0px 1px 3px 1px rgba(0, 0, 0, 0.15);\n",
              "      filter: drop-shadow(0px 1px 2px rgba(0, 0, 0, 0.3));\n",
              "      fill: #FFFFFF;\n",
              "    }\n",
              "  </style>\n",
              "\n",
              "    <script>\n",
              "      const buttonEl =\n",
              "        document.querySelector('#df-fd235c89-ed43-436c-a19c-cefbc4b8c6eb button.colab-df-convert');\n",
              "      buttonEl.style.display =\n",
              "        google.colab.kernel.accessAllowed ? 'block' : 'none';\n",
              "\n",
              "      async function convertToInteractive(key) {\n",
              "        const element = document.querySelector('#df-fd235c89-ed43-436c-a19c-cefbc4b8c6eb');\n",
              "        const dataTable =\n",
              "          await google.colab.kernel.invokeFunction('convertToInteractive',\n",
              "                                                    [key], {});\n",
              "        if (!dataTable) return;\n",
              "\n",
              "        const docLinkHtml = 'Like what you see? Visit the ' +\n",
              "          '<a target=\"_blank\" href=https://colab.research.google.com/notebooks/data_table.ipynb>data table notebook</a>'\n",
              "          + ' to learn more about interactive tables.';\n",
              "        element.innerHTML = '';\n",
              "        dataTable['output_type'] = 'display_data';\n",
              "        await google.colab.output.renderOutput(dataTable, element);\n",
              "        const docLink = document.createElement('div');\n",
              "        docLink.innerHTML = docLinkHtml;\n",
              "        element.appendChild(docLink);\n",
              "      }\n",
              "    </script>\n",
              "  </div>\n",
              "\n",
              "\n",
              "<div id=\"df-d9e85e8a-14e2-4ee7-8686-7dcf699ba602\">\n",
              "  <button class=\"colab-df-quickchart\" onclick=\"quickchart('df-d9e85e8a-14e2-4ee7-8686-7dcf699ba602')\"\n",
              "            title=\"Suggest charts\"\n",
              "            style=\"display:none;\">\n",
              "\n",
              "<svg xmlns=\"http://www.w3.org/2000/svg\" height=\"24px\"viewBox=\"0 0 24 24\"\n",
              "     width=\"24px\">\n",
              "    <g>\n",
              "        <path d=\"M19 3H5c-1.1 0-2 .9-2 2v14c0 1.1.9 2 2 2h14c1.1 0 2-.9 2-2V5c0-1.1-.9-2-2-2zM9 17H7v-7h2v7zm4 0h-2V7h2v10zm4 0h-2v-4h2v4z\"/>\n",
              "    </g>\n",
              "</svg>\n",
              "  </button>\n",
              "\n",
              "<style>\n",
              "  .colab-df-quickchart {\n",
              "      --bg-color: #E8F0FE;\n",
              "      --fill-color: #1967D2;\n",
              "      --hover-bg-color: #E2EBFA;\n",
              "      --hover-fill-color: #174EA6;\n",
              "      --disabled-fill-color: #AAA;\n",
              "      --disabled-bg-color: #DDD;\n",
              "  }\n",
              "\n",
              "  [theme=dark] .colab-df-quickchart {\n",
              "      --bg-color: #3B4455;\n",
              "      --fill-color: #D2E3FC;\n",
              "      --hover-bg-color: #434B5C;\n",
              "      --hover-fill-color: #FFFFFF;\n",
              "      --disabled-bg-color: #3B4455;\n",
              "      --disabled-fill-color: #666;\n",
              "  }\n",
              "\n",
              "  .colab-df-quickchart {\n",
              "    background-color: var(--bg-color);\n",
              "    border: none;\n",
              "    border-radius: 50%;\n",
              "    cursor: pointer;\n",
              "    display: none;\n",
              "    fill: var(--fill-color);\n",
              "    height: 32px;\n",
              "    padding: 0;\n",
              "    width: 32px;\n",
              "  }\n",
              "\n",
              "  .colab-df-quickchart:hover {\n",
              "    background-color: var(--hover-bg-color);\n",
              "    box-shadow: 0 1px 2px rgba(60, 64, 67, 0.3), 0 1px 3px 1px rgba(60, 64, 67, 0.15);\n",
              "    fill: var(--button-hover-fill-color);\n",
              "  }\n",
              "\n",
              "  .colab-df-quickchart-complete:disabled,\n",
              "  .colab-df-quickchart-complete:disabled:hover {\n",
              "    background-color: var(--disabled-bg-color);\n",
              "    fill: var(--disabled-fill-color);\n",
              "    box-shadow: none;\n",
              "  }\n",
              "\n",
              "  .colab-df-spinner {\n",
              "    border: 2px solid var(--fill-color);\n",
              "    border-color: transparent;\n",
              "    border-bottom-color: var(--fill-color);\n",
              "    animation:\n",
              "      spin 1s steps(1) infinite;\n",
              "  }\n",
              "\n",
              "  @keyframes spin {\n",
              "    0% {\n",
              "      border-color: transparent;\n",
              "      border-bottom-color: var(--fill-color);\n",
              "      border-left-color: var(--fill-color);\n",
              "    }\n",
              "    20% {\n",
              "      border-color: transparent;\n",
              "      border-left-color: var(--fill-color);\n",
              "      border-top-color: var(--fill-color);\n",
              "    }\n",
              "    30% {\n",
              "      border-color: transparent;\n",
              "      border-left-color: var(--fill-color);\n",
              "      border-top-color: var(--fill-color);\n",
              "      border-right-color: var(--fill-color);\n",
              "    }\n",
              "    40% {\n",
              "      border-color: transparent;\n",
              "      border-right-color: var(--fill-color);\n",
              "      border-top-color: var(--fill-color);\n",
              "    }\n",
              "    60% {\n",
              "      border-color: transparent;\n",
              "      border-right-color: var(--fill-color);\n",
              "    }\n",
              "    80% {\n",
              "      border-color: transparent;\n",
              "      border-right-color: var(--fill-color);\n",
              "      border-bottom-color: var(--fill-color);\n",
              "    }\n",
              "    90% {\n",
              "      border-color: transparent;\n",
              "      border-bottom-color: var(--fill-color);\n",
              "    }\n",
              "  }\n",
              "</style>\n",
              "\n",
              "  <script>\n",
              "    async function quickchart(key) {\n",
              "      const quickchartButtonEl =\n",
              "        document.querySelector('#' + key + ' button');\n",
              "      quickchartButtonEl.disabled = true;  // To prevent multiple clicks.\n",
              "      quickchartButtonEl.classList.add('colab-df-spinner');\n",
              "      try {\n",
              "        const charts = await google.colab.kernel.invokeFunction(\n",
              "            'suggestCharts', [key], {});\n",
              "      } catch (error) {\n",
              "        console.error('Error during call to suggestCharts:', error);\n",
              "      }\n",
              "      quickchartButtonEl.classList.remove('colab-df-spinner');\n",
              "      quickchartButtonEl.classList.add('colab-df-quickchart-complete');\n",
              "    }\n",
              "    (() => {\n",
              "      let quickchartButtonEl =\n",
              "        document.querySelector('#df-d9e85e8a-14e2-4ee7-8686-7dcf699ba602 button');\n",
              "      quickchartButtonEl.style.display =\n",
              "        google.colab.kernel.accessAllowed ? 'block' : 'none';\n",
              "    })();\n",
              "  </script>\n",
              "</div>\n",
              "\n",
              "    </div>\n",
              "  </div>\n"
            ],
            "application/vnd.google.colaboratory.intrinsic+json": {
              "type": "dataframe",
              "variable_name": "df"
            }
          },
          "metadata": {},
          "execution_count": 6
        }
      ]
    },
    {
      "cell_type": "code",
      "source": [
        "df.info()"
      ],
      "metadata": {
        "colab": {
          "base_uri": "https://localhost:8080/"
        },
        "id": "GrkpiyYTd77d",
        "outputId": "6f4891eb-046d-4786-e0c2-7371e045f7ba"
      },
      "execution_count": 7,
      "outputs": [
        {
          "output_type": "stream",
          "name": "stdout",
          "text": [
            "<class 'pandas.core.frame.DataFrame'>\n",
            "RangeIndex: 4760 entries, 0 to 4759\n",
            "Data columns (total 21 columns):\n",
            " #   Column                    Non-Null Count  Dtype  \n",
            "---  ------                    --------------  -----  \n",
            " 0   Movie_ID                  4760 non-null   int64  \n",
            " 1   Movie_Title               4760 non-null   object \n",
            " 2   Movie_Genre               4760 non-null   object \n",
            " 3   Movie_Language            4760 non-null   object \n",
            " 4   Movie_Budget              4760 non-null   int64  \n",
            " 5   Movie_Popularity          4760 non-null   float64\n",
            " 6   Movie_Release_Date        4760 non-null   object \n",
            " 7   Movie_Revenue             4760 non-null   int64  \n",
            " 8   Movie_Runtime             4758 non-null   float64\n",
            " 9   Movie_Vote                4760 non-null   float64\n",
            " 10  Movie_Vote_Count          4760 non-null   int64  \n",
            " 11  Movie_Homepage            1699 non-null   object \n",
            " 12  Movie_Keywords            4373 non-null   object \n",
            " 13  Movie_Overview            4757 non-null   object \n",
            " 14  Movie_Production_House    4760 non-null   object \n",
            " 15  Movie_Production_Country  4760 non-null   object \n",
            " 16  Movie_Spoken_Language     4760 non-null   object \n",
            " 17  Movie_Tagline             3942 non-null   object \n",
            " 18  Movie_Cast                4733 non-null   object \n",
            " 19  Movie_Crew                4760 non-null   object \n",
            " 20  Movie_Director            4738 non-null   object \n",
            "dtypes: float64(3), int64(4), object(14)\n",
            "memory usage: 781.1+ KB\n"
          ]
        }
      ]
    },
    {
      "cell_type": "code",
      "source": [
        "df.shape"
      ],
      "metadata": {
        "colab": {
          "base_uri": "https://localhost:8080/"
        },
        "id": "iSPLQ677d_s1",
        "outputId": "0cb538b5-609d-45b7-82f6-91131ac7c08a"
      },
      "execution_count": 9,
      "outputs": [
        {
          "output_type": "execute_result",
          "data": {
            "text/plain": [
              "(4760, 21)"
            ]
          },
          "metadata": {},
          "execution_count": 9
        }
      ]
    },
    {
      "cell_type": "code",
      "source": [
        "df.columns"
      ],
      "metadata": {
        "colab": {
          "base_uri": "https://localhost:8080/"
        },
        "id": "oaij-M1XeDwm",
        "outputId": "f7e2c49e-c208-411d-f0ce-bf64ba47b819"
      },
      "execution_count": 10,
      "outputs": [
        {
          "output_type": "execute_result",
          "data": {
            "text/plain": [
              "Index(['Movie_ID', 'Movie_Title', 'Movie_Genre', 'Movie_Language',\n",
              "       'Movie_Budget', 'Movie_Popularity', 'Movie_Release_Date',\n",
              "       'Movie_Revenue', 'Movie_Runtime', 'Movie_Vote', 'Movie_Vote_Count',\n",
              "       'Movie_Homepage', 'Movie_Keywords', 'Movie_Overview',\n",
              "       'Movie_Production_House', 'Movie_Production_Country',\n",
              "       'Movie_Spoken_Language', 'Movie_Tagline', 'Movie_Cast', 'Movie_Crew',\n",
              "       'Movie_Director'],\n",
              "      dtype='object')"
            ]
          },
          "metadata": {},
          "execution_count": 10
        }
      ]
    },
    {
      "cell_type": "markdown",
      "source": [
        "Get Feature Selecton"
      ],
      "metadata": {
        "id": "yjyw962feN61"
      }
    },
    {
      "cell_type": "code",
      "source": [
        "df_features=df[['Movie_Genre','Movie_Keywords','Movie_Tagline', 'Movie_Cast',\n",
        "       'Movie_Director']].fillna('')"
      ],
      "metadata": {
        "id": "ZTP_Y8r4eG0V"
      },
      "execution_count": 11,
      "outputs": []
    },
    {
      "cell_type": "code",
      "source": [
        "df_features.shape"
      ],
      "metadata": {
        "colab": {
          "base_uri": "https://localhost:8080/"
        },
        "id": "7cL6SMWJe5ZV",
        "outputId": "c7044ad7-3233-4d69-c981-a79ce3da07b1"
      },
      "execution_count": 12,
      "outputs": [
        {
          "output_type": "execute_result",
          "data": {
            "text/plain": [
              "(4760, 5)"
            ]
          },
          "metadata": {},
          "execution_count": 12
        }
      ]
    },
    {
      "cell_type": "code",
      "source": [
        "df_features"
      ],
      "metadata": {
        "colab": {
          "base_uri": "https://localhost:8080/",
          "height": 684
        },
        "id": "vT6TQDUOe8ae",
        "outputId": "975ea9f6-78bc-496b-9f61-ab3555b3338c"
      },
      "execution_count": 13,
      "outputs": [
        {
          "output_type": "execute_result",
          "data": {
            "text/plain": [
              "                           Movie_Genre  \\\n",
              "0                         Crime Comedy   \n",
              "1     Adventure Action Science Fiction   \n",
              "2                     Animation Family   \n",
              "3                 Comedy Drama Romance   \n",
              "4                                Drama   \n",
              "...                                ...   \n",
              "4755                            Horror   \n",
              "4756               Comedy Family Drama   \n",
              "4757                    Thriller Drama   \n",
              "4758                            Family   \n",
              "4759                       Documentary   \n",
              "\n",
              "                                         Movie_Keywords  \\\n",
              "0             hotel new year's eve witch bet hotel room   \n",
              "1           android galaxy hermit death star lightsaber   \n",
              "2     father son relationship harbor underwater fish...   \n",
              "3     vietnam veteran hippie mentally disabled runni...   \n",
              "4     male nudity female nudity adultery midlife cri...   \n",
              "...                                                 ...   \n",
              "4755                                                      \n",
              "4756                                                      \n",
              "4757                     christian film sex trafficking   \n",
              "4758                                                      \n",
              "4759  music actors legendary perfomer classic hollyw...   \n",
              "\n",
              "                                          Movie_Tagline  \\\n",
              "0     Twelve outrageous guests. Four scandalous requ...   \n",
              "1          A long time ago in a galaxy far, far away...   \n",
              "2     There are 3.7 trillion fish in the ocean, they...   \n",
              "3     The world will never be the same, once you've ...   \n",
              "4                                          Look closer.   \n",
              "...                                                 ...   \n",
              "4755                The hot spot where Satan's waitin'.   \n",
              "4756           It’s better to stand out than to fit in.   \n",
              "4757           She never knew it could happen to her...   \n",
              "4758                                                      \n",
              "4759                                                      \n",
              "\n",
              "                                             Movie_Cast     Movie_Director  \n",
              "0     Tim Roth Antonio Banderas Jennifer Beals Madon...     Allison Anders  \n",
              "1     Mark Hamill Harrison Ford Carrie Fisher Peter ...       George Lucas  \n",
              "2     Albert Brooks Ellen DeGeneres Alexander Gould ...     Andrew Stanton  \n",
              "3     Tom Hanks Robin Wright Gary Sinise Mykelti Wil...    Robert Zemeckis  \n",
              "4     Kevin Spacey Annette Bening Thora Birch Wes Be...         Sam Mendes  \n",
              "...                                                 ...                ...  \n",
              "4755  Lisa Hart Carroll Michael Des Barres Paul Drak...         Pece Dingo  \n",
              "4756  Roni Akurati Brighton Sharbino Jason Lee Anjul...       Frank Lotito  \n",
              "4757  Nicole Smolen Kim Baldwin Ariana Stephens Brys...       Jaco Booyens  \n",
              "4758                                                                        \n",
              "4759                                    Tony Oppedisano  Simon Napier-Bell  \n",
              "\n",
              "[4760 rows x 5 columns]"
            ],
            "text/html": [
              "\n",
              "  <div id=\"df-4354198f-a7b9-4a69-82ab-fe73111b783e\" class=\"colab-df-container\">\n",
              "    <div>\n",
              "<style scoped>\n",
              "    .dataframe tbody tr th:only-of-type {\n",
              "        vertical-align: middle;\n",
              "    }\n",
              "\n",
              "    .dataframe tbody tr th {\n",
              "        vertical-align: top;\n",
              "    }\n",
              "\n",
              "    .dataframe thead th {\n",
              "        text-align: right;\n",
              "    }\n",
              "</style>\n",
              "<table border=\"1\" class=\"dataframe\">\n",
              "  <thead>\n",
              "    <tr style=\"text-align: right;\">\n",
              "      <th></th>\n",
              "      <th>Movie_Genre</th>\n",
              "      <th>Movie_Keywords</th>\n",
              "      <th>Movie_Tagline</th>\n",
              "      <th>Movie_Cast</th>\n",
              "      <th>Movie_Director</th>\n",
              "    </tr>\n",
              "  </thead>\n",
              "  <tbody>\n",
              "    <tr>\n",
              "      <th>0</th>\n",
              "      <td>Crime Comedy</td>\n",
              "      <td>hotel new year's eve witch bet hotel room</td>\n",
              "      <td>Twelve outrageous guests. Four scandalous requ...</td>\n",
              "      <td>Tim Roth Antonio Banderas Jennifer Beals Madon...</td>\n",
              "      <td>Allison Anders</td>\n",
              "    </tr>\n",
              "    <tr>\n",
              "      <th>1</th>\n",
              "      <td>Adventure Action Science Fiction</td>\n",
              "      <td>android galaxy hermit death star lightsaber</td>\n",
              "      <td>A long time ago in a galaxy far, far away...</td>\n",
              "      <td>Mark Hamill Harrison Ford Carrie Fisher Peter ...</td>\n",
              "      <td>George Lucas</td>\n",
              "    </tr>\n",
              "    <tr>\n",
              "      <th>2</th>\n",
              "      <td>Animation Family</td>\n",
              "      <td>father son relationship harbor underwater fish...</td>\n",
              "      <td>There are 3.7 trillion fish in the ocean, they...</td>\n",
              "      <td>Albert Brooks Ellen DeGeneres Alexander Gould ...</td>\n",
              "      <td>Andrew Stanton</td>\n",
              "    </tr>\n",
              "    <tr>\n",
              "      <th>3</th>\n",
              "      <td>Comedy Drama Romance</td>\n",
              "      <td>vietnam veteran hippie mentally disabled runni...</td>\n",
              "      <td>The world will never be the same, once you've ...</td>\n",
              "      <td>Tom Hanks Robin Wright Gary Sinise Mykelti Wil...</td>\n",
              "      <td>Robert Zemeckis</td>\n",
              "    </tr>\n",
              "    <tr>\n",
              "      <th>4</th>\n",
              "      <td>Drama</td>\n",
              "      <td>male nudity female nudity adultery midlife cri...</td>\n",
              "      <td>Look closer.</td>\n",
              "      <td>Kevin Spacey Annette Bening Thora Birch Wes Be...</td>\n",
              "      <td>Sam Mendes</td>\n",
              "    </tr>\n",
              "    <tr>\n",
              "      <th>...</th>\n",
              "      <td>...</td>\n",
              "      <td>...</td>\n",
              "      <td>...</td>\n",
              "      <td>...</td>\n",
              "      <td>...</td>\n",
              "    </tr>\n",
              "    <tr>\n",
              "      <th>4755</th>\n",
              "      <td>Horror</td>\n",
              "      <td></td>\n",
              "      <td>The hot spot where Satan's waitin'.</td>\n",
              "      <td>Lisa Hart Carroll Michael Des Barres Paul Drak...</td>\n",
              "      <td>Pece Dingo</td>\n",
              "    </tr>\n",
              "    <tr>\n",
              "      <th>4756</th>\n",
              "      <td>Comedy Family Drama</td>\n",
              "      <td></td>\n",
              "      <td>It’s better to stand out than to fit in.</td>\n",
              "      <td>Roni Akurati Brighton Sharbino Jason Lee Anjul...</td>\n",
              "      <td>Frank Lotito</td>\n",
              "    </tr>\n",
              "    <tr>\n",
              "      <th>4757</th>\n",
              "      <td>Thriller Drama</td>\n",
              "      <td>christian film sex trafficking</td>\n",
              "      <td>She never knew it could happen to her...</td>\n",
              "      <td>Nicole Smolen Kim Baldwin Ariana Stephens Brys...</td>\n",
              "      <td>Jaco Booyens</td>\n",
              "    </tr>\n",
              "    <tr>\n",
              "      <th>4758</th>\n",
              "      <td>Family</td>\n",
              "      <td></td>\n",
              "      <td></td>\n",
              "      <td></td>\n",
              "      <td></td>\n",
              "    </tr>\n",
              "    <tr>\n",
              "      <th>4759</th>\n",
              "      <td>Documentary</td>\n",
              "      <td>music actors legendary perfomer classic hollyw...</td>\n",
              "      <td></td>\n",
              "      <td>Tony Oppedisano</td>\n",
              "      <td>Simon Napier-Bell</td>\n",
              "    </tr>\n",
              "  </tbody>\n",
              "</table>\n",
              "<p>4760 rows × 5 columns</p>\n",
              "</div>\n",
              "    <div class=\"colab-df-buttons\">\n",
              "\n",
              "  <div class=\"colab-df-container\">\n",
              "    <button class=\"colab-df-convert\" onclick=\"convertToInteractive('df-4354198f-a7b9-4a69-82ab-fe73111b783e')\"\n",
              "            title=\"Convert this dataframe to an interactive table.\"\n",
              "            style=\"display:none;\">\n",
              "\n",
              "  <svg xmlns=\"http://www.w3.org/2000/svg\" height=\"24px\" viewBox=\"0 -960 960 960\">\n",
              "    <path d=\"M120-120v-720h720v720H120Zm60-500h600v-160H180v160Zm220 220h160v-160H400v160Zm0 220h160v-160H400v160ZM180-400h160v-160H180v160Zm440 0h160v-160H620v160ZM180-180h160v-160H180v160Zm440 0h160v-160H620v160Z\"/>\n",
              "  </svg>\n",
              "    </button>\n",
              "\n",
              "  <style>\n",
              "    .colab-df-container {\n",
              "      display:flex;\n",
              "      gap: 12px;\n",
              "    }\n",
              "\n",
              "    .colab-df-convert {\n",
              "      background-color: #E8F0FE;\n",
              "      border: none;\n",
              "      border-radius: 50%;\n",
              "      cursor: pointer;\n",
              "      display: none;\n",
              "      fill: #1967D2;\n",
              "      height: 32px;\n",
              "      padding: 0 0 0 0;\n",
              "      width: 32px;\n",
              "    }\n",
              "\n",
              "    .colab-df-convert:hover {\n",
              "      background-color: #E2EBFA;\n",
              "      box-shadow: 0px 1px 2px rgba(60, 64, 67, 0.3), 0px 1px 3px 1px rgba(60, 64, 67, 0.15);\n",
              "      fill: #174EA6;\n",
              "    }\n",
              "\n",
              "    .colab-df-buttons div {\n",
              "      margin-bottom: 4px;\n",
              "    }\n",
              "\n",
              "    [theme=dark] .colab-df-convert {\n",
              "      background-color: #3B4455;\n",
              "      fill: #D2E3FC;\n",
              "    }\n",
              "\n",
              "    [theme=dark] .colab-df-convert:hover {\n",
              "      background-color: #434B5C;\n",
              "      box-shadow: 0px 1px 3px 1px rgba(0, 0, 0, 0.15);\n",
              "      filter: drop-shadow(0px 1px 2px rgba(0, 0, 0, 0.3));\n",
              "      fill: #FFFFFF;\n",
              "    }\n",
              "  </style>\n",
              "\n",
              "    <script>\n",
              "      const buttonEl =\n",
              "        document.querySelector('#df-4354198f-a7b9-4a69-82ab-fe73111b783e button.colab-df-convert');\n",
              "      buttonEl.style.display =\n",
              "        google.colab.kernel.accessAllowed ? 'block' : 'none';\n",
              "\n",
              "      async function convertToInteractive(key) {\n",
              "        const element = document.querySelector('#df-4354198f-a7b9-4a69-82ab-fe73111b783e');\n",
              "        const dataTable =\n",
              "          await google.colab.kernel.invokeFunction('convertToInteractive',\n",
              "                                                    [key], {});\n",
              "        if (!dataTable) return;\n",
              "\n",
              "        const docLinkHtml = 'Like what you see? Visit the ' +\n",
              "          '<a target=\"_blank\" href=https://colab.research.google.com/notebooks/data_table.ipynb>data table notebook</a>'\n",
              "          + ' to learn more about interactive tables.';\n",
              "        element.innerHTML = '';\n",
              "        dataTable['output_type'] = 'display_data';\n",
              "        await google.colab.output.renderOutput(dataTable, element);\n",
              "        const docLink = document.createElement('div');\n",
              "        docLink.innerHTML = docLinkHtml;\n",
              "        element.appendChild(docLink);\n",
              "      }\n",
              "    </script>\n",
              "  </div>\n",
              "\n",
              "\n",
              "<div id=\"df-543ccf4d-5e44-4bb7-8f8e-2d705808d092\">\n",
              "  <button class=\"colab-df-quickchart\" onclick=\"quickchart('df-543ccf4d-5e44-4bb7-8f8e-2d705808d092')\"\n",
              "            title=\"Suggest charts\"\n",
              "            style=\"display:none;\">\n",
              "\n",
              "<svg xmlns=\"http://www.w3.org/2000/svg\" height=\"24px\"viewBox=\"0 0 24 24\"\n",
              "     width=\"24px\">\n",
              "    <g>\n",
              "        <path d=\"M19 3H5c-1.1 0-2 .9-2 2v14c0 1.1.9 2 2 2h14c1.1 0 2-.9 2-2V5c0-1.1-.9-2-2-2zM9 17H7v-7h2v7zm4 0h-2V7h2v10zm4 0h-2v-4h2v4z\"/>\n",
              "    </g>\n",
              "</svg>\n",
              "  </button>\n",
              "\n",
              "<style>\n",
              "  .colab-df-quickchart {\n",
              "      --bg-color: #E8F0FE;\n",
              "      --fill-color: #1967D2;\n",
              "      --hover-bg-color: #E2EBFA;\n",
              "      --hover-fill-color: #174EA6;\n",
              "      --disabled-fill-color: #AAA;\n",
              "      --disabled-bg-color: #DDD;\n",
              "  }\n",
              "\n",
              "  [theme=dark] .colab-df-quickchart {\n",
              "      --bg-color: #3B4455;\n",
              "      --fill-color: #D2E3FC;\n",
              "      --hover-bg-color: #434B5C;\n",
              "      --hover-fill-color: #FFFFFF;\n",
              "      --disabled-bg-color: #3B4455;\n",
              "      --disabled-fill-color: #666;\n",
              "  }\n",
              "\n",
              "  .colab-df-quickchart {\n",
              "    background-color: var(--bg-color);\n",
              "    border: none;\n",
              "    border-radius: 50%;\n",
              "    cursor: pointer;\n",
              "    display: none;\n",
              "    fill: var(--fill-color);\n",
              "    height: 32px;\n",
              "    padding: 0;\n",
              "    width: 32px;\n",
              "  }\n",
              "\n",
              "  .colab-df-quickchart:hover {\n",
              "    background-color: var(--hover-bg-color);\n",
              "    box-shadow: 0 1px 2px rgba(60, 64, 67, 0.3), 0 1px 3px 1px rgba(60, 64, 67, 0.15);\n",
              "    fill: var(--button-hover-fill-color);\n",
              "  }\n",
              "\n",
              "  .colab-df-quickchart-complete:disabled,\n",
              "  .colab-df-quickchart-complete:disabled:hover {\n",
              "    background-color: var(--disabled-bg-color);\n",
              "    fill: var(--disabled-fill-color);\n",
              "    box-shadow: none;\n",
              "  }\n",
              "\n",
              "  .colab-df-spinner {\n",
              "    border: 2px solid var(--fill-color);\n",
              "    border-color: transparent;\n",
              "    border-bottom-color: var(--fill-color);\n",
              "    animation:\n",
              "      spin 1s steps(1) infinite;\n",
              "  }\n",
              "\n",
              "  @keyframes spin {\n",
              "    0% {\n",
              "      border-color: transparent;\n",
              "      border-bottom-color: var(--fill-color);\n",
              "      border-left-color: var(--fill-color);\n",
              "    }\n",
              "    20% {\n",
              "      border-color: transparent;\n",
              "      border-left-color: var(--fill-color);\n",
              "      border-top-color: var(--fill-color);\n",
              "    }\n",
              "    30% {\n",
              "      border-color: transparent;\n",
              "      border-left-color: var(--fill-color);\n",
              "      border-top-color: var(--fill-color);\n",
              "      border-right-color: var(--fill-color);\n",
              "    }\n",
              "    40% {\n",
              "      border-color: transparent;\n",
              "      border-right-color: var(--fill-color);\n",
              "      border-top-color: var(--fill-color);\n",
              "    }\n",
              "    60% {\n",
              "      border-color: transparent;\n",
              "      border-right-color: var(--fill-color);\n",
              "    }\n",
              "    80% {\n",
              "      border-color: transparent;\n",
              "      border-right-color: var(--fill-color);\n",
              "      border-bottom-color: var(--fill-color);\n",
              "    }\n",
              "    90% {\n",
              "      border-color: transparent;\n",
              "      border-bottom-color: var(--fill-color);\n",
              "    }\n",
              "  }\n",
              "</style>\n",
              "\n",
              "  <script>\n",
              "    async function quickchart(key) {\n",
              "      const quickchartButtonEl =\n",
              "        document.querySelector('#' + key + ' button');\n",
              "      quickchartButtonEl.disabled = true;  // To prevent multiple clicks.\n",
              "      quickchartButtonEl.classList.add('colab-df-spinner');\n",
              "      try {\n",
              "        const charts = await google.colab.kernel.invokeFunction(\n",
              "            'suggestCharts', [key], {});\n",
              "      } catch (error) {\n",
              "        console.error('Error during call to suggestCharts:', error);\n",
              "      }\n",
              "      quickchartButtonEl.classList.remove('colab-df-spinner');\n",
              "      quickchartButtonEl.classList.add('colab-df-quickchart-complete');\n",
              "    }\n",
              "    (() => {\n",
              "      let quickchartButtonEl =\n",
              "        document.querySelector('#df-543ccf4d-5e44-4bb7-8f8e-2d705808d092 button');\n",
              "      quickchartButtonEl.style.display =\n",
              "        google.colab.kernel.accessAllowed ? 'block' : 'none';\n",
              "    })();\n",
              "  </script>\n",
              "</div>\n",
              "\n",
              "  <div id=\"id_31d725ce-5e40-4eec-b4e5-0e0e4e7d1238\">\n",
              "    <style>\n",
              "      .colab-df-generate {\n",
              "        background-color: #E8F0FE;\n",
              "        border: none;\n",
              "        border-radius: 50%;\n",
              "        cursor: pointer;\n",
              "        display: none;\n",
              "        fill: #1967D2;\n",
              "        height: 32px;\n",
              "        padding: 0 0 0 0;\n",
              "        width: 32px;\n",
              "      }\n",
              "\n",
              "      .colab-df-generate:hover {\n",
              "        background-color: #E2EBFA;\n",
              "        box-shadow: 0px 1px 2px rgba(60, 64, 67, 0.3), 0px 1px 3px 1px rgba(60, 64, 67, 0.15);\n",
              "        fill: #174EA6;\n",
              "      }\n",
              "\n",
              "      [theme=dark] .colab-df-generate {\n",
              "        background-color: #3B4455;\n",
              "        fill: #D2E3FC;\n",
              "      }\n",
              "\n",
              "      [theme=dark] .colab-df-generate:hover {\n",
              "        background-color: #434B5C;\n",
              "        box-shadow: 0px 1px 3px 1px rgba(0, 0, 0, 0.15);\n",
              "        filter: drop-shadow(0px 1px 2px rgba(0, 0, 0, 0.3));\n",
              "        fill: #FFFFFF;\n",
              "      }\n",
              "    </style>\n",
              "    <button class=\"colab-df-generate\" onclick=\"generateWithVariable('df_features')\"\n",
              "            title=\"Generate code using this dataframe.\"\n",
              "            style=\"display:none;\">\n",
              "\n",
              "  <svg xmlns=\"http://www.w3.org/2000/svg\" height=\"24px\"viewBox=\"0 0 24 24\"\n",
              "       width=\"24px\">\n",
              "    <path d=\"M7,19H8.4L18.45,9,17,7.55,7,17.6ZM5,21V16.75L18.45,3.32a2,2,0,0,1,2.83,0l1.4,1.43a1.91,1.91,0,0,1,.58,1.4,1.91,1.91,0,0,1-.58,1.4L9.25,21ZM18.45,9,17,7.55Zm-12,3A5.31,5.31,0,0,0,4.9,8.1,5.31,5.31,0,0,0,1,6.5,5.31,5.31,0,0,0,4.9,4.9,5.31,5.31,0,0,0,6.5,1,5.31,5.31,0,0,0,8.1,4.9,5.31,5.31,0,0,0,12,6.5,5.46,5.46,0,0,0,6.5,12Z\"/>\n",
              "  </svg>\n",
              "    </button>\n",
              "    <script>\n",
              "      (() => {\n",
              "      const buttonEl =\n",
              "        document.querySelector('#id_31d725ce-5e40-4eec-b4e5-0e0e4e7d1238 button.colab-df-generate');\n",
              "      buttonEl.style.display =\n",
              "        google.colab.kernel.accessAllowed ? 'block' : 'none';\n",
              "\n",
              "      buttonEl.onclick = () => {\n",
              "        google.colab.notebook.generateWithVariable('df_features');\n",
              "      }\n",
              "      })();\n",
              "    </script>\n",
              "  </div>\n",
              "\n",
              "    </div>\n",
              "  </div>\n"
            ],
            "application/vnd.google.colaboratory.intrinsic+json": {
              "type": "dataframe",
              "variable_name": "df_features",
              "summary": "{\n  \"name\": \"df_features\",\n  \"rows\": 4760,\n  \"fields\": [\n    {\n      \"column\": \"Movie_Genre\",\n      \"properties\": {\n        \"dtype\": \"category\",\n        \"num_unique_values\": 1164,\n        \"samples\": [\n          \"Family Animation Adventure\",\n          \"Adventure Science Fiction Action\",\n          \"Action Crime Drama Romance Thriller\"\n        ],\n        \"semantic_type\": \"\",\n        \"description\": \"\"\n      }\n    },\n    {\n      \"column\": \"Movie_Keywords\",\n      \"properties\": {\n        \"dtype\": \"string\",\n        \"num_unique_values\": 4203,\n        \"samples\": [\n          \"canada nazis sequel spin off ancient evil\",\n          \"sex professor wedding woman director columbia university\",\n          \"prophecy sea beach gold small town\"\n        ],\n        \"semantic_type\": \"\",\n        \"description\": \"\"\n      }\n    },\n    {\n      \"column\": \"Movie_Tagline\",\n      \"properties\": {\n        \"dtype\": \"string\",\n        \"num_unique_values\": 3928,\n        \"samples\": [\n          \"The messenger must be silenced.\",\n          \"It's not the house that's haunted.\",\n          \"The final hunt begins.\"\n        ],\n        \"semantic_type\": \"\",\n        \"description\": \"\"\n      }\n    },\n    {\n      \"column\": \"Movie_Cast\",\n      \"properties\": {\n        \"dtype\": \"string\",\n        \"num_unique_values\": 4715,\n        \"samples\": [\n          \"Robin Tunney Fairuza Balk Neve Campbell Rachel True Skeet Ulrich\",\n          \"Peter Sellers Christopher Plummer Herbert Lom Catherine Schell Peter Arne\",\n          \"John Wayne Laraine Day Cedric Hardwicke Judith Anderson Anthony Quinn\"\n        ],\n        \"semantic_type\": \"\",\n        \"description\": \"\"\n      }\n    },\n    {\n      \"column\": \"Movie_Director\",\n      \"properties\": {\n        \"dtype\": \"category\",\n        \"num_unique_values\": 2332,\n        \"samples\": [\n          \"Rob McKittrick\",\n          \"Terron R. Parsons\",\n          \"Cyrus Nowrasteh\"\n        ],\n        \"semantic_type\": \"\",\n        \"description\": \"\"\n      }\n    }\n  ]\n}"
            }
          },
          "metadata": {},
          "execution_count": 13
        }
      ]
    },
    {
      "cell_type": "code",
      "source": [
        "x=df_features['Movie_Genre']+''+df_features['Movie_Keywords']+''+df_features['Movie_Tagline']+''+df_features['Movie_Cast']+''+df_features['Movie_Director']"
      ],
      "metadata": {
        "id": "v6GspwntfHm8"
      },
      "execution_count": 15,
      "outputs": []
    },
    {
      "cell_type": "code",
      "source": [
        "x.shape"
      ],
      "metadata": {
        "colab": {
          "base_uri": "https://localhost:8080/"
        },
        "id": "SYtp3vvlflIk",
        "outputId": "6aee2766-8ae0-4869-9ebc-2a3b2ba65f10"
      },
      "execution_count": 16,
      "outputs": [
        {
          "output_type": "execute_result",
          "data": {
            "text/plain": [
              "(4760,)"
            ]
          },
          "metadata": {},
          "execution_count": 16
        }
      ]
    },
    {
      "cell_type": "markdown",
      "source": [
        "Get Features Text Conversion to Tokens"
      ],
      "metadata": {
        "id": "1lS3Oc3bfo8E"
      }
    },
    {
      "cell_type": "code",
      "source": [
        "from sklearn.feature_extraction.text import TfidfVectorizer"
      ],
      "metadata": {
        "id": "EX0LO63CfxEk"
      },
      "execution_count": 17,
      "outputs": []
    },
    {
      "cell_type": "code",
      "source": [
        "tfi=TfidfVectorizer()"
      ],
      "metadata": {
        "id": "ZZ52dCQkf6Bt"
      },
      "execution_count": 18,
      "outputs": []
    },
    {
      "cell_type": "code",
      "source": [
        "x=tfi.fit_transform(x)"
      ],
      "metadata": {
        "id": "MZC2L2AcgBmn"
      },
      "execution_count": 19,
      "outputs": []
    },
    {
      "cell_type": "code",
      "source": [
        "x.shape"
      ],
      "metadata": {
        "colab": {
          "base_uri": "https://localhost:8080/"
        },
        "id": "cLubb998gNPE",
        "outputId": "c4ef31db-3004-4ecb-8780-8bcf3cefffe8"
      },
      "execution_count": 20,
      "outputs": [
        {
          "output_type": "execute_result",
          "data": {
            "text/plain": [
              "(4760, 27466)"
            ]
          },
          "metadata": {},
          "execution_count": 20
        }
      ]
    },
    {
      "cell_type": "code",
      "source": [
        "print(x)"
      ],
      "metadata": {
        "colab": {
          "base_uri": "https://localhost:8080/"
        },
        "id": "9dSAt4yggT3m",
        "outputId": "283707a5-cf40-4a26-d00b-2810fd73972d"
      },
      "execution_count": 21,
      "outputs": [
        {
          "output_type": "stream",
          "name": "stdout",
          "text": [
            "  (0, 5553)\t0.07352252655701756\n",
            "  (0, 4842)\t0.175053052455033\n",
            "  (0, 17725)\t0.19515517646728336\n",
            "  (0, 27198)\t0.2597527006839562\n",
            "  (0, 8412)\t0.30116325256269705\n",
            "  (0, 26906)\t0.14779363579183874\n",
            "  (0, 2421)\t0.1645837911577698\n",
            "  (0, 12418)\t0.1351418753960437\n",
            "  (0, 21107)\t0.1954632929283795\n",
            "  (0, 18350)\t0.1864316176399999\n",
            "  (0, 11084)\t0.1864316176399999\n",
            "  (0, 9905)\t0.14914404027246494\n",
            "  (0, 21613)\t0.1954632929283795\n",
            "  (0, 20254)\t0.1954632929283795\n",
            "  (0, 1025)\t0.07583312551941795\n",
            "  (0, 18196)\t0.08579029869987485\n",
            "  (0, 15172)\t0.1537691763994982\n",
            "  (0, 2292)\t0.1954632929283795\n",
            "  (0, 12801)\t0.1530338818199682\n",
            "  (0, 11960)\t0.20134029899961134\n",
            "  (0, 9626)\t0.11757910435818826\n",
            "  (0, 6172)\t0.11970212451073885\n",
            "  (0, 18192)\t0.07278761942152372\n",
            "  (0, 24105)\t0.10726395493180996\n",
            "  (0, 13401)\t0.13748876529263096\n",
            "  :\t:\n",
            "  (4757, 17789)\t0.18881341937258544\n",
            "  (4757, 22017)\t0.1646400247918531\n",
            "  (4757, 11350)\t0.21582294886514122\n",
            "  (4757, 5410)\t0.19734759150400596\n",
            "  (4757, 1839)\t0.19327629083107672\n",
            "  (4757, 23178)\t0.25562985703864616\n",
            "  (4757, 7244)\t0.25562985703864616\n",
            "  (4757, 24915)\t0.28543491773969387\n",
            "  (4757, 22633)\t0.28543491773969387\n",
            "  (4757, 1328)\t0.28543491773969387\n",
            "  (4757, 3295)\t0.28543491773969387\n",
            "  (4757, 10137)\t0.28543491773969387\n",
            "  (4757, 2866)\t0.28543491773969387\n",
            "  (4758, 8651)\t1.0\n",
            "  (4759, 2285)\t0.21465229435984196\n",
            "  (4759, 9955)\t0.21805075638656476\n",
            "  (4759, 17552)\t0.3087899934962816\n",
            "  (4759, 4446)\t0.282306565154911\n",
            "  (4759, 12139)\t0.2778063685558062\n",
            "  (4759, 14742)\t0.31978160936741457\n",
            "  (4759, 345)\t0.31978160936741457\n",
            "  (4759, 6950)\t0.33527342183765224\n",
            "  (4759, 18841)\t0.33527342183765224\n",
            "  (4759, 22434)\t0.33527342183765224\n",
            "  (4759, 18229)\t0.33527342183765224\n"
          ]
        }
      ]
    },
    {
      "cell_type": "markdown",
      "source": [
        "**Get Similarity Score Using Cosine Similarity**"
      ],
      "metadata": {
        "id": "r8ZcL-CGgW0E"
      }
    },
    {
      "cell_type": "code",
      "source": [
        "from sklearn.metrics.pairwise import cosine_similarity"
      ],
      "metadata": {
        "id": "tEQp29tsgdjk"
      },
      "execution_count": 22,
      "outputs": []
    },
    {
      "cell_type": "code",
      "source": [
        "Similarity_score=cosine_similarity(x)"
      ],
      "metadata": {
        "id": "eutht69ygnbb"
      },
      "execution_count": 23,
      "outputs": []
    },
    {
      "cell_type": "code",
      "source": [
        "Similarity_score"
      ],
      "metadata": {
        "colab": {
          "base_uri": "https://localhost:8080/"
        },
        "id": "pYVdMeDugti7",
        "outputId": "f2ae9b3f-8b79-4156-d7e0-ce84861750a8"
      },
      "execution_count": 24,
      "outputs": [
        {
          "output_type": "execute_result",
          "data": {
            "text/plain": [
              "array([[1.        , 0.01438634, 0.03807033, ..., 0.        , 0.        ,\n",
              "        0.        ],\n",
              "       [0.01438634, 1.        , 0.00844858, ..., 0.        , 0.        ,\n",
              "        0.        ],\n",
              "       [0.03807033, 0.00844858, 1.        , ..., 0.        , 0.        ,\n",
              "        0.        ],\n",
              "       ...,\n",
              "       [0.        , 0.        , 0.        , ..., 1.        , 0.        ,\n",
              "        0.        ],\n",
              "       [0.        , 0.        , 0.        , ..., 0.        , 1.        ,\n",
              "        0.        ],\n",
              "       [0.        , 0.        , 0.        , ..., 0.        , 0.        ,\n",
              "        1.        ]])"
            ]
          },
          "metadata": {},
          "execution_count": 24
        }
      ]
    },
    {
      "cell_type": "code",
      "source": [
        "Similarity_score.shape"
      ],
      "metadata": {
        "colab": {
          "base_uri": "https://localhost:8080/"
        },
        "id": "SbaIAEikgz5N",
        "outputId": "9166468f-3de1-4694-f0fd-c53785461f6e"
      },
      "execution_count": 25,
      "outputs": [
        {
          "output_type": "execute_result",
          "data": {
            "text/plain": [
              "(4760, 4760)"
            ]
          },
          "metadata": {},
          "execution_count": 25
        }
      ]
    },
    {
      "cell_type": "markdown",
      "source": [
        "**Get Movie Name as input from user and validate for closet spelling**"
      ],
      "metadata": {
        "id": "T_n4ISoBg6h1"
      }
    },
    {
      "cell_type": "code",
      "source": [
        "Movie_name=input(\"Enter your favourite movie name :\")"
      ],
      "metadata": {
        "colab": {
          "base_uri": "https://localhost:8080/"
        },
        "id": "hcSZ72UUg3i8",
        "outputId": "c6cdbacc-89f1-4c6c-c709-11526ed89187"
      },
      "execution_count": 38,
      "outputs": [
        {
          "name": "stdout",
          "output_type": "stream",
          "text": [
            "Enter your favourite movie name :Batman\n"
          ]
        }
      ]
    },
    {
      "cell_type": "code",
      "source": [
        "All_movies_title_list=df['Movie_Title'].tolist()"
      ],
      "metadata": {
        "id": "hh8dTsJEhMVL"
      },
      "execution_count": 39,
      "outputs": []
    },
    {
      "cell_type": "code",
      "source": [
        "import difflib"
      ],
      "metadata": {
        "id": "jOJTb04LhcWU"
      },
      "execution_count": 40,
      "outputs": []
    },
    {
      "cell_type": "code",
      "source": [
        "Movie_Reccomendation=difflib.get_close_matches(Movie_name,All_movies_title_list)"
      ],
      "metadata": {
        "id": "QeBtuc6Xhidk"
      },
      "execution_count": 41,
      "outputs": []
    },
    {
      "cell_type": "code",
      "source": [
        "print(Movie_Reccomendation)"
      ],
      "metadata": {
        "colab": {
          "base_uri": "https://localhost:8080/"
        },
        "id": "QdpgF7GDiCdk",
        "outputId": "d2e3db03-4117-46c9-8814-4abd4bf436f2"
      },
      "execution_count": 42,
      "outputs": [
        {
          "output_type": "stream",
          "name": "stdout",
          "text": [
            "['Batman', 'Batman', 'Catwoman']\n"
          ]
        }
      ]
    },
    {
      "cell_type": "code",
      "source": [
        "Close_Match=Movie_Reccomendation[0]\n",
        "print(Close_Match)"
      ],
      "metadata": {
        "colab": {
          "base_uri": "https://localhost:8080/"
        },
        "id": "ZR5hlJ1OiNz8",
        "outputId": "41e980d0-100b-44cf-c3e3-5f2c49e45aca"
      },
      "execution_count": 43,
      "outputs": [
        {
          "output_type": "stream",
          "name": "stdout",
          "text": [
            "Batman\n"
          ]
        }
      ]
    },
    {
      "cell_type": "code",
      "source": [
        "index_of_close_watch_movie=df[df.Movie_Title==Close_Match]['Movie_ID'].values[0]\n",
        "print(index_of_close_watch_movie)"
      ],
      "metadata": {
        "colab": {
          "base_uri": "https://localhost:8080/"
        },
        "id": "HkY83NNyicnN",
        "outputId": "67c4310a-9c9a-4f6b-f27b-42977b80f468"
      },
      "execution_count": 45,
      "outputs": [
        {
          "output_type": "stream",
          "name": "stdout",
          "text": [
            "123\n"
          ]
        }
      ]
    },
    {
      "cell_type": "code",
      "source": [
        "Recommendation_Score=list(enumerate(Similarity_score[index_of_close_watch_movie]))\n",
        "print(Recommendation_Score)"
      ],
      "metadata": {
        "colab": {
          "base_uri": "https://localhost:8080/"
        },
        "id": "q4FpDtAijFQz",
        "outputId": "6ddf4d0a-8cb7-4106-a770-026de52c2a54"
      },
      "execution_count": 47,
      "outputs": [
        {
          "output_type": "stream",
          "name": "stdout",
          "text": [
            "[(0, 0.023976542287492707), (1, 0.0055876866832971035), (2, 0.004890293732693799), (3, 0.03288140230401829), (4, 0.0), (5, 0.02131434107511264), (6, 0.036424823134481886), (7, 0.012833806972281928), (8, 0.0), (9, 0.005352478394758193), (10, 0.08483051559771485), (11, 0.00590716196734144), (12, 0.006256020237645648), (13, 0.0), (14, 0.005236238152654647), (15, 0.0), (16, 0.0186645259760439), (17, 0.0), (18, 0.04636304960460288), (19, 0.026900783295100622), (20, 0.012374019579348519), (21, 0.02411879074644554), (22, 0.0), (23, 0.0), (24, 0.0), (25, 0.027418106398344744), (26, 0.0), (27, 0.0), (28, 0.005782058815911028), (29, 0.005509624747381317), (30, 0.04729220521187906), (31, 0.0), (32, 0.005755106913619246), (33, 0.005070644183800807), (34, 0.012574071548418645), (35, 0.015831727048241807), (36, 0.0), (37, 0.010303331307103269), (38, 0.006897331206826725), (39, 0.011594395329236815), (40, 0.006970778371952059), (41, 0.0066929781985278014), (42, 0.0), (43, 0.018999319778185936), (44, 0.005272689939687628), (45, 0.016530898420312547), (46, 0.005778232656117236), (47, 0.0), (48, 0.030402499678118807), (49, 0.0), (50, 0.0), (51, 0.022172941600790308), (52, 0.020233040857674606), (53, 0.0), (54, 0.0), (55, 0.0), (56, 0.005776415233503869), (57, 0.009602940965913244), (58, 0.0), (59, 0.0061798079603892836), (60, 0.004932704576665938), (61, 0.0), (62, 0.0), (63, 0.06191861677808122), (64, 0.004978959242291707), (65, 0.0), (66, 0.0), (67, 0.021040591554399427), (68, 0.3355347771253835), (69, 0.0070344487941115105), (70, 0.0), (71, 0.012125580655677369), (72, 0.005524673121601353), (73, 0.011108452643075483), (74, 0.012059069785393084), (75, 0.015076999858570484), (76, 0.028362356237056713), (77, 0.0), (78, 0.010086281497726845), (79, 0.0), (80, 0.005553852526783649), (81, 0.011874942777529424), (82, 0.018389436098316884), (83, 0.021655653509510746), (84, 0.0059295988815331055), (85, 0.020628158697895287), (86, 0.03348004842698074), (87, 0.021688840806024703), (88, 0.009870641422292782), (89, 0.023427411176713524), (90, 0.018100756568470166), (91, 0.015355596452263481), (92, 0.005786231777887454), (93, 0.018236423991702985), (94, 0.016744292460113126), (95, 0.01852812502975589), (96, 0.02557097583772799), (97, 0.0049638131468326), (98, 0.0), (99, 0.0), (100, 0.0), (101, 0.006016330078562088), (102, 0.02575507361773622), (103, 0.0), (104, 0.021143781373890422), (105, 0.026785150824757596), (106, 0.0213252166805101), (107, 0.0), (108, 0.03132933151882872), (109, 0.0), (110, 0.0), (111, 0.0), (112, 0.02642909274210166), (113, 0.0), (114, 0.0), (115, 0.0), (116, 0.0), (117, 0.0), (118, 0.006455860483516877), (119, 0.005477827668848307), (120, 0.022912115445988257), (121, 0.0), (122, 0.1276575446282435), (123, 1.0), (124, 0.029960185374450908), (125, 0.021849097302383044), (126, 0.0), (127, 0.0), (128, 0.020011591519713167), (129, 0.0), (130, 0.015302048726923978), (131, 0.02812271964661629), (132, 0.0), (133, 0.0), (134, 0.0), (135, 0.011776416566112325), (136, 0.0), (137, 0.027698092948684), (138, 0.005465792956551231), (139, 0.006850361842501742), (140, 0.0), (141, 0.0), (142, 0.0), (143, 0.10000859207652414), (144, 0.09131790532385627), (145, 0.08965989286833827), (146, 0.0), (147, 0.01906031912686349), (148, 0.029971717920861365), (149, 0.019233298632233702), (150, 0.00562334767055794), (151, 0.006477899775037456), (152, 0.011630344435826173), (153, 0.007347640104172032), (154, 0.0), (155, 0.0), (156, 0.0), (157, 0.0), (158, 0.0), (159, 0.009611829176694028), (160, 0.005673646207498789), (161, 0.0), (162, 0.15753549327801544), (163, 0.0), (164, 0.0), (165, 0.015256833453874453), (166, 0.04359054970281435), (167, 0.0), (168, 0.004556895711824122), (169, 0.005797649787656275), (170, 0.042144056372284855), (171, 0.0055565297030529745), (172, 0.021257431799967058), (173, 0.0), (174, 0.0), (175, 0.0), (176, 0.0), (177, 0.004835020009925364), (178, 0.0), (179, 0.03608724479096581), (180, 0.119579580142478), (181, 0.17089932852121503), (182, 0.0057043711798013905), (183, 0.0), (184, 0.06847327783822618), (185, 0.0), (186, 0.004854928477114085), (187, 0.0), (188, 0.0), (189, 0.012202586661220814), (190, 0.0), (191, 0.010705156039103146), (192, 0.005961007621270021), (193, 0.0), (194, 0.0), (195, 0.004872328048413997), (196, 0.0), (197, 0.0), (198, 0.0), (199, 0.019380463266041176), (200, 0.0), (201, 0.10462595287997034), (202, 0.021611233790785354), (203, 0.0), (204, 0.0), (205, 0.0), (206, 0.012829001166457884), (207, 0.037336790078560805), (208, 0.006906828922002645), (209, 0.022356226391260774), (210, 0.029977681691856075), (211, 0.0), (212, 0.0210189699314432), (213, 0.0), (214, 0.010562287099451291), (215, 0.005424167641568159), (216, 0.005875916516725377), (217, 0.005942047820733577), (218, 0.0), (219, 0.0), (220, 0.08165949595572794), (221, 0.022316927387363614), (222, 0.01003157299389935), (223, 0.005524062612926344), (224, 0.016768447407533617), (225, 0.006593802152937176), (226, 0.0), (227, 0.0), (228, 0.029286749562414578), (229, 0.0), (230, 0.0), (231, 0.0063784089484066235), (232, 0.006541313619819238), (233, 0.006215435963942793), (234, 0.005303525537894203), (235, 0.029791865716500467), (236, 0.02003501474355641), (237, 0.004595926888238549), (238, 0.0), (239, 0.03403147867330317), (240, 0.030645761603953468), (241, 0.0772118897458301), (242, 0.0), (243, 0.02334006535069486), (244, 0.02823597775057752), (245, 0.0), (246, 0.0), (247, 0.0), (248, 0.0), (249, 0.009961942868783618), (250, 0.0062163909219055385), (251, 0.02890392144386287), (252, 0.0), (253, 0.0), (254, 0.023472517062385158), (255, 0.0), (256, 0.0), (257, 0.0), (258, 0.006332361082792043), (259, 0.017688276612850194), (260, 0.0778043782500269), (261, 0.011615325827965137), (262, 0.012689573195775246), (263, 0.022238539021803602), (264, 0.033805338175794536), (265, 0.0), (266, 0.013529750972312628), (267, 0.0), (268, 0.0), (269, 0.019933601016312405), (270, 0.021576366079246796), (271, 0.026300397695432777), (272, 0.0059484640624382565), (273, 0.0), (274, 0.0), (275, 0.030830774943638638), (276, 0.020298403862508634), (277, 0.028481276807855428), (278, 0.0), (279, 0.005247690010815969), (280, 0.0), (281, 0.02430213237353674), (282, 0.0), (283, 0.0), (284, 0.011079952180539542), (285, 0.01931915602956217), (286, 0.0), (287, 0.03143217493875925), (288, 0.010027462515445569), (289, 0.02276834729380408), (290, 0.06034910575046902), (291, 0.005237223634528737), (292, 0.005993520201302111), (293, 0.004163635352295944), (294, 0.009399469923988869), (295, 0.02385053810331541), (296, 0.0), (297, 0.011928689936949075), (298, 0.00595474659354235), (299, 0.03288598286227943), (300, 0.011325803664441697), (301, 0.01821770663522593), (302, 0.0), (303, 0.019568322737185093), (304, 0.0), (305, 0.04788838150536772), (306, 0.07262391553025419), (307, 0.0), (308, 0.0), (309, 0.004619751546368594), (310, 0.01693339102322194), (311, 0.0), (312, 0.0), (313, 0.0), (314, 0.015445947740332396), (315, 0.006037577634126855), (316, 0.02565600180143131), (317, 0.0), (318, 0.0), (319, 0.009768797775959577), (320, 0.006359971811259298), (321, 0.006107652846552503), (322, 0.027227386052784425), (323, 0.10788010606588672), (324, 0.005209944275033846), (325, 0.0), (326, 0.0), (327, 0.010809954117597616), (328, 0.05731537603675439), (329, 0.0), (330, 0.007956712195788201), (331, 0.0), (332, 0.004717574323204688), (333, 0.02437223184120117), (334, 0.0054234762711306075), (335, 0.0), (336, 0.008468312667265235), (337, 0.0), (338, 0.0052463583527554165), (339, 0.0), (340, 0.012888773454986447), (341, 0.012239881065965018), (342, 0.0060647801019810986), (343, 0.0), (344, 0.005942247987276206), (345, 0.005342353339945282), (346, 0.005607590212541702), (347, 0.005672764721239351), (348, 0.005570539303246494), (349, 0.0), (350, 0.05378889639398856), (351, 0.0), (352, 0.0051941837980356885), (353, 0.0), (354, 0.0052186736259793465), (355, 0.0), (356, 0.005386748787063562), (357, 0.010138917363084182), (358, 0.0), (359, 0.0), (360, 0.02134658343279957), (361, 0.0), (362, 0.0), (363, 0.0), (364, 0.0), (365, 0.0), (366, 0.0), (367, 0.011075924613934862), (368, 0.044727151299272884), (369, 0.030251587571087583), (370, 0.0211638972107694), (371, 0.04169763023766506), (372, 0.005343984583414865), (373, 0.0), (374, 0.0), (375, 0.006337935464662931), (376, 0.0), (377, 0.0), (378, 0.0), (379, 0.005562071871854508), (380, 0.030326700372260273), (381, 0.00461081878280064), (382, 0.005729865584245749), (383, 0.0), (384, 0.0), (385, 0.023543323513938154), (386, 0.006772060134104521), (387, 0.0), (388, 0.005401490883913287), (389, 0.0), (390, 0.017182894529536023), (391, 0.0), (392, 0.0), (393, 0.0), (394, 0.015064796886512938), (395, 0.0), (396, 0.020728283941424626), (397, 0.01678100860077038), (398, 0.0), (399, 0.0), (400, 0.0), (401, 0.0), (402, 0.0), (403, 0.009855442786647824), (404, 0.0), (405, 0.0), (406, 0.0), (407, 0.013656157526196375), (408, 0.025556634378126615), (409, 0.005382126686093896), (410, 0.005136214140712746), (411, 0.005296837504641027), (412, 0.009244040770330322), (413, 0.0), (414, 0.0), (415, 0.0), (416, 0.0), (417, 0.00569174801702879), (418, 0.04168562960811081), (419, 0.0), (420, 0.0), (421, 0.0), (422, 0.03780658452582926), (423, 0.0), (424, 0.01338443511220426), (425, 0.037611783376831825), (426, 0.025201366630053706), (427, 0.005642416906771385), (428, 0.010402009626732038), (429, 0.022395828247729434), (430, 0.0), (431, 0.0), (432, 0.0), (433, 0.0), (434, 0.06024375717970974), (435, 0.022355549730593446), (436, 0.0), (437, 0.0), (438, 0.0), (439, 0.00561395998414694), (440, 0.0), (441, 0.036870329603425685), (442, 0.005254261022550567), (443, 0.2106645906990585), (444, 0.0), (445, 0.0), (446, 0.011816142681896655), (447, 0.021457427903503964), (448, 0.006689576058161177), (449, 0.0), (450, 0.022774420215938455), (451, 0.006066524795256588), (452, 0.013487966506830977), (453, 0.0), (454, 0.005227575854989039), (455, 0.015116442044635902), (456, 0.0), (457, 0.0), (458, 0.031203942272638886), (459, 0.0), (460, 0.011182834565652357), (461, 0.10066196683414193), (462, 0.0), (463, 0.06037591453173599), (464, 0.0), (465, 0.0), (466, 0.0), (467, 0.006098618630544966), (468, 0.005765737506861655), (469, 0.00983619690116742), (470, 0.0), (471, 0.0), (472, 0.0059958619018905404), (473, 0.0), (474, 0.0), (475, 0.0), (476, 0.0), (477, 0.009707887670971459), (478, 0.0), (479, 0.0), (480, 0.0), (481, 0.0), (482, 0.012494307672488185), (483, 0.027562955907471126), (484, 0.0), (485, 0.02287291693524576), (486, 0.01663787771203321), (487, 0.0), (488, 0.0), (489, 0.0), (490, 0.011775625517092846), (491, 0.11313470939786753), (492, 0.01119988358954923), (493, 0.0), (494, 0.0724293238950098), (495, 0.07168806612556503), (496, 0.05799402696256028), (497, 0.04560318712416235), (498, 0.00623834113209612), (499, 0.0), (500, 0.03699243152655577), (501, 0.02535738879587134), (502, 0.0217759582207496), (503, 0.0), (504, 0.005780182362918258), (505, 0.0), (506, 0.0), (507, 0.005531341167230215), (508, 0.09605930211565826), (509, 0.0), (510, 0.004525021591077429), (511, 0.005225079739081431), (512, 0.007040158622976176), (513, 0.006552821183036801), (514, 0.006857553273237845), (515, 0.025310050904399948), (516, 0.02772138296288815), (517, 0.03782201833025014), (518, 0.0), (519, 0.0055463925954919065), (520, 0.0), (521, 0.005683498354717011), (522, 0.0), (523, 0.0057884679565926665), (524, 0.010452871275265002), (525, 0.005850636176666984), (526, 0.0), (527, 0.0), (528, 0.0062520577661620705), (529, 0.005716722475190766), (530, 0.031815309965480335), (531, 0.0), (532, 0.0060337266380574486), (533, 0.031114667639135646), (534, 0.05255989156140996), (535, 0.0), (536, 0.0), (537, 0.006849563733322138), (538, 0.009923175170010193), (539, 0.0061559380147820815), (540, 0.016578505342051554), (541, 0.011451107652375541), (542, 0.015581552803644757), (543, 0.02214440587002785), (544, 0.022399147228172853), (545, 0.004953125884514005), (546, 0.0), (547, 0.036384955057134946), (548, 0.005704014964890884), (549, 0.005359466208105073), (550, 0.006684645863809671), (551, 0.0), (552, 0.0), (553, 0.008173144532245545), (554, 0.006073909661209522), (555, 0.024073259670672705), (556, 0.0), (557, 0.0), (558, 0.0), (559, 0.0), (560, 0.012051301565610087), (561, 0.021680818569820067), (562, 0.004419404517575798), (563, 0.0), (564, 0.0704643717481814), (565, 0.005598814307312662), (566, 0.028221687858878235), (567, 0.005973803655499911), (568, 0.022956496810602012), (569, 0.010901822704133843), (570, 0.007934975522009537), (571, 0.08592566061568521), (572, 0.006167406803736014), (573, 0.012287997501315533), (574, 0.0), (575, 0.005220937596834587), (576, 0.0), (577, 0.06627446372851752), (578, 0.06466436667225667), (579, 0.0), (580, 0.0), (581, 0.03493822437815299), (582, 0.014061036360995934), (583, 0.005148224483159206), (584, 0.022497799448214364), (585, 0.005780536458448293), (586, 0.0), (587, 0.0), (588, 0.0), (589, 0.0), (590, 0.0109315657497854), (591, 0.0), (592, 0.006267820678162784), (593, 0.0), (594, 0.010622961151144321), (595, 0.006587336270995171), (596, 0.0), (597, 0.015217147806030942), (598, 0.0), (599, 0.00648349197876924), (600, 0.006340101441320957), (601, 0.06687630160236877), (602, 0.005370503399567923), (603, 0.0), (604, 0.0), (605, 0.0), (606, 0.0), (607, 0.0), (608, 0.0), (609, 0.01836849764016546), (610, 0.005675726274268651), (611, 0.0), (612, 0.0), (613, 0.15409923072961032), (614, 0.013681456339866827), (615, 0.006165989351629234), (616, 0.0), (617, 0.0), (618, 0.005510526783161336), (619, 0.0060274050227326565), (620, 0.020430907653357904), (621, 0.005244283772093448), (622, 0.022038885675467825), (623, 0.0), (624, 0.0), (625, 0.0), (626, 0.0), (627, 0.0), (628, 0.0), (629, 0.018835430266302744), (630, 0.0), (631, 0.006383882349691196), (632, 0.005745290330924224), (633, 0.0), (634, 0.0), (635, 0.055584803845624906), (636, 0.0), (637, 0.0), (638, 0.0), (639, 0.01008325716713582), (640, 0.01535653897579483), (641, 0.0), (642, 0.0), (643, 0.02575715628321014), (644, 0.0063107424272933815), (645, 0.0), (646, 0.0), (647, 0.0), (648, 0.0), (649, 0.0), (650, 0.0), (651, 0.06488335894998883), (652, 0.0), (653, 0.034167665672359016), (654, 0.034544347988961055), (655, 0.0), (656, 0.006434850354739093), (657, 0.01514513806555818), (658, 0.025029056347461436), (659, 0.0), (660, 0.0), (661, 0.005851918228314137), (662, 0.0), (663, 0.029694287494608333), (664, 0.015796554657485112), (665, 0.0), (666, 0.013105625211998085), (667, 0.02298220391989541), (668, 0.050431742090567194), (669, 0.050231103526796675), (670, 0.007428701526349056), (671, 0.0), (672, 0.011043902952168259), (673, 0.00661908359031633), (674, 0.006262445669148496), (675, 0.022817679604611434), (676, 0.02054119622038077), (677, 0.006140643716375535), (678, 0.0), (679, 0.0), (680, 0.0), (681, 0.0), (682, 0.0310325918129955), (683, 0.04935141832493622), (684, 0.034736533522579834), (685, 0.03336446348462585), (686, 0.030040156791816278), (687, 0.019973864356324478), (688, 0.006772408109256345), (689, 0.0), (690, 0.011447295341755485), (691, 0.009351053997471043), (692, 0.03298022135427353), (693, 0.0), (694, 0.0), (695, 0.01909541781835889), (696, 0.0), (697, 0.0), (698, 0.0), (699, 0.010066217759852237), (700, 0.0060425918352424255), (701, 0.03022785627931249), (702, 0.0), (703, 0.0), (704, 0.006009014411773488), (705, 0.0), (706, 0.014240005344853821), (707, 0.0), (708, 0.0), (709, 0.0), (710, 0.0), (711, 0.0), (712, 0.047668070176723185), (713, 0.0), (714, 0.0062319297659929294), (715, 0.006664837015363641), (716, 0.006848036490769179), (717, 0.005937992287095916), (718, 0.011912524629565751), (719, 0.01938687595529369), (720, 0.0), (721, 0.013894615949708715), (722, 0.005109975853538668), (723, 0.01973217965923197), (724, 0.0), (725, 0.010104348986911415), (726, 0.00958772071380235), (727, 0.03811378891157348), (728, 0.00656338404911597), (729, 0.006732315502690397), (730, 0.0), (731, 0.016339943618245558), (732, 0.0), (733, 0.028457732008215726), (734, 0.0), (735, 0.0), (736, 0.00569025027395275), (737, 0.006166880360668841), (738, 0.009700686421787383), (739, 0.0), (740, 0.0), (741, 0.0), (742, 0.016511642099126037), (743, 0.0), (744, 0.0051655744047918815), (745, 0.07634568104701207), (746, 0.0), (747, 0.006136687033913165), (748, 0.012303866267776152), (749, 0.017503443005079698), (750, 0.0), (751, 0.013892147688117694), (752, 0.012301037061395913), (753, 0.03119873560834897), (754, 0.0), (755, 0.0), (756, 0.020982812356515765), (757, 0.030838959930819435), (758, 0.0), (759, 0.0), (760, 0.025072981760603942), (761, 0.0), (762, 0.00986845729680673), (763, 0.016391127204573742), (764, 0.016621830442371626), (765, 0.02240344015009466), (766, 0.0), (767, 0.0), (768, 0.011234815404036229), (769, 0.005646486046541212), (770, 0.0), (771, 0.0), (772, 0.026575420696529177), (773, 0.0054470897235487205), (774, 0.0), (775, 0.008918781877260477), (776, 0.011054074056543906), (777, 0.0), (778, 0.0), (779, 0.010456237122330833), (780, 0.010970451893002331), (781, 0.0059361518804166916), (782, 0.0), (783, 0.0), (784, 0.0), (785, 0.011256875914018787), (786, 0.0), (787, 0.007133735953967412), (788, 0.005236026372775561), (789, 0.009169840034389434), (790, 0.0259430051180577), (791, 0.0), (792, 0.07938009904049187), (793, 0.006367572980630093), (794, 0.0), (795, 0.05660630996888794), (796, 0.0), (797, 0.0), (798, 0.010824141709358923), (799, 0.02096061482781708), (800, 0.005509560430587758), (801, 0.01928931426521459), (802, 0.0), (803, 0.020633618925483974), (804, 0.005640147945490906), (805, 0.0), (806, 0.02123825767916866), (807, 0.00455097937425953), (808, 0.0), (809, 0.033996040624312204), (810, 0.005178722554271486), (811, 0.0), (812, 0.0), (813, 0.013063433253015315), (814, 0.0), (815, 0.0), (816, 0.018653815479073993), (817, 0.0), (818, 0.0), (819, 0.0), (820, 0.005166768731698982), (821, 0.011806842262773233), (822, 0.011705413450038978), (823, 0.0), (824, 0.0), (825, 0.01821733822000836), (826, 0.006636597628272957), (827, 0.02606368231094767), (828, 0.02035204371728045), (829, 0.06600465213944774), (830, 0.012398475535634485), (831, 0.0), (832, 0.011944121321177996), (833, 0.020401935746632127), (834, 0.0), (835, 0.0), (836, 0.0), (837, 0.017033388523893165), (838, 0.0), (839, 0.0), (840, 0.016590266713748244), (841, 0.0), (842, 0.06823419703734324), (843, 0.0), (844, 0.0), (845, 0.006359351308652904), (846, 0.011507943648144383), (847, 0.006357949406270495), (848, 0.006588966785001868), (849, 0.006448377122577024), (850, 0.0), (851, 0.005600024738748956), (852, 0.01647929072332129), (853, 0.020888411777865268), (854, 0.011506934376472457), (855, 0.0), (856, 0.021663779875752062), (857, 0.0), (858, 0.0), (859, 0.0), (860, 0.024711058566269477), (861, 0.0), (862, 0.032499014413966416), (863, 0.0722410525806215), (864, 0.01186374384524786), (865, 0.0), (866, 0.03153808402723327), (867, 0.0), (868, 0.005848397930062312), (869, 0.027681885881489985), (870, 0.02625715500400984), (871, 0.0), (872, 0.0065557705132605545), (873, 0.0), (874, 0.029795315200787334), (875, 0.006566441383062435), (876, 0.0), (877, 0.0), (878, 0.043239338932021074), (879, 0.04488781847170914), (880, 0.0), (881, 0.013327524971522862), (882, 0.0), (883, 0.005508671349009545), (884, 0.0), (885, 0.0051375339622883485), (886, 0.0), (887, 0.0), (888, 0.0), (889, 0.0), (890, 0.005969085359579785), (891, 0.0410937155815331), (892, 0.0), (893, 0.0), (894, 0.00563454205148885), (895, 0.010495646122331058), (896, 0.022808505859918386), (897, 0.005751562188603575), (898, 0.005087361354335234), (899, 0.005236203476005461), (900, 0.0), (901, 0.0), (902, 0.0062550368412684545), (903, 0.0), (904, 0.03361963519363605), (905, 0.03142184760140598), (906, 0.06734961186361763), (907, 0.005371801076515792), (908, 0.03426804940065372), (909, 0.011913095399789325), (910, 0.0), (911, 0.016460799871237376), (912, 0.010551683155394013), (913, 0.08389739894978758), (914, 0.014659440549503858), (915, 0.03144009215351273), (916, 0.019693441453881414), (917, 0.0), (918, 0.03431100315324843), (919, 0.01299187739681688), (920, 0.0), (921, 0.0), (922, 0.0), (923, 0.01204598077989601), (924, 0.004828217626793466), (925, 0.0), (926, 0.0), (927, 0.0), (928, 0.04642276514415106), (929, 0.0091319757982516), (930, 0.0059542248767869834), (931, 0.027616687067934905), (932, 0.0), (933, 0.0), (934, 0.05831283557076969), (935, 0.01642760526520644), (936, 0.0), (937, 0.02535554558048361), (938, 0.0056236531898282375), (939, 0.020258845628746563), (940, 0.0), (941, 0.02935332952849164), (942, 0.01756332923087163), (943, 0.01283963899913304), (944, 0.0), (945, 0.011657561546805504), (946, 0.006296180887569361), (947, 0.039495609381175634), (948, 0.04095510943039855), (949, 0.013846729732886845), (950, 0.030452884361903524), (951, 0.0), (952, 0.0), (953, 0.0), (954, 0.042930285843663804), (955, 0.0), (956, 0.0065967644997680435), (957, 0.0051404412038284055), (958, 0.0), (959, 0.0), (960, 0.0), (961, 0.0), (962, 0.010998996500644485), (963, 0.011111170113293545), (964, 0.0), (965, 0.006372043000280229), (966, 0.08526172329695045), (967, 0.06060279510546983), (968, 0.0), (969, 0.0), (970, 0.0), (971, 0.005776913456528205), (972, 0.0), (973, 0.005577964123251945), (974, 0.011199577398447545), (975, 0.0), (976, 0.02215542868353876), (977, 0.0), (978, 0.005103966238417458), (979, 0.0), (980, 0.0), (981, 0.01584604244006585), (982, 0.006083253998426403), (983, 0.0), (984, 0.048636154441750165), (985, 0.0), (986, 0.02931525857749065), (987, 0.0), (988, 0.026233080830949284), (989, 0.020658028442368668), (990, 0.006558585234967428), (991, 0.046415984712482566), (992, 0.01934852294822872), (993, 0.00567706243582626), (994, 0.028187159209123926), (995, 0.010867075079125583), (996, 0.008564619379572348), (997, 0.06643875790451875), (998, 0.0), (999, 0.0), (1000, 0.030436597935203622), (1001, 0.01673228272554287), (1002, 0.022262624719030392), (1003, 0.0), (1004, 0.0), (1005, 0.013936589090523423), (1006, 0.005904053435986955), (1007, 0.006743274993760522), (1008, 0.0), (1009, 0.0), (1010, 0.005204997485544563), (1011, 0.013016725473607915), (1012, 0.02719808713502105), (1013, 0.0), (1014, 0.007086631299854129), (1015, 0.006434563951104232), (1016, 0.024092004292465715), (1017, 0.01811140488645055), (1018, 0.023451727258061363), (1019, 0.0), (1020, 0.0), (1021, 0.0), (1022, 0.005619398026760194), (1023, 0.006972153505543956), (1024, 0.028705562159645984), (1025, 0.005204928531694705), (1026, 0.0), (1027, 0.0), (1028, 0.0), (1029, 0.01061111748807971), (1030, 0.0), (1031, 0.0064719293581377395), (1032, 0.0), (1033, 0.010619263074941392), (1034, 0.0), (1035, 0.06546202816255908), (1036, 0.0), (1037, 0.0), (1038, 0.0), (1039, 0.010017980586831772), (1040, 0.0), (1041, 0.010624051437973172), (1042, 0.0), (1043, 0.0), (1044, 0.04478977118506368), (1045, 0.0063362607161321334), (1046, 0.010282403101632724), (1047, 0.0), (1048, 0.005810226526680202), (1049, 0.0), (1050, 0.018941896203279598), (1051, 0.0), (1052, 0.005269062400372309), (1053, 0.02530157911622858), (1054, 0.010957861972475289), (1055, 0.0), (1056, 0.00636783754663099), (1057, 0.01241970929386424), (1058, 0.025457524027117952), (1059, 0.005571972309242336), (1060, 0.005494051597815155), (1061, 0.01996956722066869), (1062, 0.0), (1063, 0.026621606136126276), (1064, 0.026033983453623028), (1065, 0.04288252297857626), (1066, 0.039458446453678644), (1067, 0.0), (1068, 0.025894877567105637), (1069, 0.01357139029075996), (1070, 0.0), (1071, 0.017778250788488496), (1072, 0.0), (1073, 0.0), (1074, 0.026989573024627893), (1075, 0.0), (1076, 0.0057700619795619116), (1077, 0.005736392264635695), (1078, 0.0), (1079, 0.0), (1080, 0.0), (1081, 0.0), (1082, 0.005909892268507339), (1083, 0.0), (1084, 0.011367919373334987), (1085, 0.0), (1086, 0.0), (1087, 0.011164279741857235), (1088, 0.0), (1089, 0.012840131368901265), (1090, 0.03926066801297391), (1091, 0.006813690149496725), (1092, 0.005629929769024664), (1093, 0.0), (1094, 0.0), (1095, 0.005090007504113005), (1096, 0.031801985028268566), (1097, 0.0), (1098, 0.0), (1099, 0.030068405969224547), (1100, 0.0), (1101, 0.024341484645083993), (1102, 0.06686572488020655), (1103, 0.0), (1104, 0.018802981885521916), (1105, 0.011535514283221075), (1106, 0.015921393910640624), (1107, 0.0), (1108, 0.00641230611373049), (1109, 0.006324194066704932), (1110, 0.0), (1111, 0.095331450116239), (1112, 0.050904027492559435), (1113, 0.011482117100753461), (1114, 0.005214803835785171), (1115, 0.05780306391903657), (1116, 0.022263986515048642), (1117, 0.0), (1118, 0.01104528236187726), (1119, 0.02355534579718967), (1120, 0.004945418894783459), (1121, 0.0), (1122, 0.006385399383157834), (1123, 0.0679303693208616), (1124, 0.0), (1125, 0.05734834474814535), (1126, 0.0), (1127, 0.11432147750237885), (1128, 0.04771959391725378), (1129, 0.011681316002704877), (1130, 0.005449324932048878), (1131, 0.0), (1132, 0.0721910568875793), (1133, 0.0), (1134, 0.016087387914786984), (1135, 0.005934338117136623), (1136, 0.005064291245143141), (1137, 0.029371100043583887), (1138, 0.006123674580200795), (1139, 0.0), (1140, 0.005887746142113745), (1141, 0.030168351870570924), (1142, 0.0), (1143, 0.0), (1144, 0.0), (1145, 0.0), (1146, 0.005758572596733667), (1147, 0.0), (1148, 0.024343070436724394), (1149, 0.0), (1150, 0.0064200979378949774), (1151, 0.04449371352679574), (1152, 0.0), (1153, 0.004609890030010091), (1154, 0.005922422993690782), (1155, 0.00581046896856122), (1156, 0.0), (1157, 0.005201758153280862), (1158, 0.0), (1159, 0.012543067834485114), (1160, 0.049683260074433036), (1161, 0.0), (1162, 0.030278055420321366), (1163, 0.012040128580170393), (1164, 0.016087757246805612), (1165, 0.0), (1166, 0.0), (1167, 0.0), (1168, 0.006418635718212539), (1169, 0.0), (1170, 0.0), (1171, 0.005224447426210876), (1172, 0.0), (1173, 0.01097925268669105), (1174, 0.006602364932338518), (1175, 0.0), (1176, 0.0), (1177, 0.0), (1178, 0.004883840634853291), (1179, 0.012093409139354295), (1180, 0.0), (1181, 0.0), (1182, 0.0), (1183, 0.026257163882919238), (1184, 0.03764384456280201), (1185, 0.02831659990393904), (1186, 0.0), (1187, 0.0), (1188, 0.0), (1189, 0.0), (1190, 0.0), (1191, 0.01135116123404451), (1192, 0.011514420768152112), (1193, 0.0), (1194, 0.004954382547636932), (1195, 0.01810828800500624), (1196, 0.0), (1197, 0.010922158314446416), (1198, 0.0), (1199, 0.0), (1200, 0.011020478219950548), (1201, 0.0), (1202, 0.0), (1203, 0.0), (1204, 0.0), (1205, 0.0), (1206, 0.0), (1207, 0.005955273312834997), (1208, 0.0069351430227519335), (1209, 0.0), (1210, 0.07131187585451544), (1211, 0.0), (1212, 0.005320248343132376), (1213, 0.0), (1214, 0.014925003483216886), (1215, 0.004909807852444619), (1216, 0.036784072253748315), (1217, 0.0), (1218, 0.0), (1219, 0.010775169386300906), (1220, 0.011259581964859267), (1221, 0.004790338624723778), (1222, 0.0), (1223, 0.0058005017411413), (1224, 0.022730146253125423), (1225, 0.03666461240917167), (1226, 0.0061061262947999205), (1227, 0.012227364374828818), (1228, 0.0), (1229, 0.006507146799508111), (1230, 0.026500439247206284), (1231, 0.02069103674839031), (1232, 0.02179492293764382), (1233, 0.0), (1234, 0.02220456099693937), (1235, 0.0), (1236, 0.0392928090130949), (1237, 0.01898334699658712), (1238, 0.0), (1239, 0.00569563641419741), (1240, 0.006958603598822194), (1241, 0.01513522225711433), (1242, 0.0), (1243, 0.013087981092352097), (1244, 0.006357840791717454), (1245, 0.0), (1246, 0.023431653590841543), (1247, 0.0), (1248, 0.02082587511268114), (1249, 0.010616029601818627), (1250, 0.0), (1251, 0.0), (1252, 0.02782119842189633), (1253, 0.03506762460554884), (1254, 0.018418778907636466), (1255, 0.011251378841655703), (1256, 0.0), (1257, 0.01167560251532712), (1258, 0.02198274887164425), (1259, 0.04406686193816853), (1260, 0.0), (1261, 0.0), (1262, 0.0121712530541618), (1263, 0.006026793326437866), (1264, 0.0), (1265, 0.013013105464672657), (1266, 0.018905699716916274), (1267, 0.005314939010259553), (1268, 0.0), (1269, 0.006230712017412546), (1270, 0.016145070908514414), (1271, 0.012216879289180848), (1272, 0.0), (1273, 0.005666811630580276), (1274, 0.017447091846425435), (1275, 0.03715309307152949), (1276, 0.020723327264675115), (1277, 0.0), (1278, 0.02953986942294147), (1279, 0.004759504555878158), (1280, 0.030126302154140635), (1281, 0.005592793474789869), (1282, 0.006103592067529497), (1283, 0.0), (1284, 0.0), (1285, 0.006163690820549314), (1286, 0.0), (1287, 0.0), (1288, 0.0), (1289, 0.0), (1290, 0.048502075464724556), (1291, 0.01063795926330087), (1292, 0.04022823303771853), (1293, 0.005977371414703159), (1294, 0.0), (1295, 0.07839994344788169), (1296, 0.005169487365791018), (1297, 0.0), (1298, 0.0), (1299, 0.012235343338644419), (1300, 0.08634526047734906), (1301, 0.010204924515307016), (1302, 0.0062190460064059944), (1303, 0.0), (1304, 0.011195796744110842), (1305, 0.03611381585451707), (1306, 0.008354246815173522), (1307, 0.010811401905214077), (1308, 0.005284011515313517), (1309, 0.005336597267488012), (1310, 0.005755444145902332), (1311, 0.0), (1312, 0.005065667092317374), (1313, 0.0), (1314, 0.031248665030316522), (1315, 0.0060381740714724646), (1316, 0.0), (1317, 0.017964531702062535), (1318, 0.0), (1319, 0.011309722350486924), (1320, 0.022734157910419456), (1321, 0.06148927441197041), (1322, 0.006302761470314028), (1323, 0.0), (1324, 0.04545668530318543), (1325, 0.026567164363008405), (1326, 0.005124737564314834), (1327, 0.0), (1328, 0.02948525683690897), (1329, 0.047981374770138197), (1330, 0.0), (1331, 0.0), (1332, 0.020545059873836088), (1333, 0.0710336760138721), (1334, 0.021302570683499857), (1335, 0.006325163610372284), (1336, 0.0), (1337, 0.02702273861354017), (1338, 0.01182566623076381), (1339, 0.03422034869336039), (1340, 0.0), (1341, 0.08392262677145634), (1342, 0.0), (1343, 0.031744286580222096), (1344, 0.0), (1345, 0.0), (1346, 0.012442665768779386), (1347, 0.0), (1348, 0.0246959708597759), (1349, 0.006267072459907334), (1350, 0.03856157159365181), (1351, 0.004159294943949451), (1352, 0.010570993106076471), (1353, 0.0), (1354, 0.016028770575057034), (1355, 0.0), (1356, 0.0), (1357, 0.005796884624284365), (1358, 0.0), (1359, 0.0), (1360, 0.025776774530551626), (1361, 0.0), (1362, 0.0), (1363, 0.0), (1364, 0.02274411014901606), (1365, 0.009748203681938086), (1366, 0.005577674335524396), (1367, 0.0), (1368, 0.011243004447165991), (1369, 0.060859107387344194), (1370, 0.0), (1371, 0.023234244708988327), (1372, 0.0), (1373, 0.005625598342582806), (1374, 0.0), (1375, 0.0), (1376, 0.0), (1377, 0.0284677990722557), (1378, 0.02128464091295535), (1379, 0.005363571293255162), (1380, 0.006461248547129019), (1381, 0.013710442803178671), (1382, 0.0), (1383, 0.0), (1384, 0.057583613781368274), (1385, 0.026203848980614786), (1386, 0.0), (1387, 0.04822554473629426), (1388, 0.02262823657162435), (1389, 0.0), (1390, 0.00604591990786047), (1391, 0.0), (1392, 0.0), (1393, 0.03527236711090471), (1394, 0.004927434179048991), (1395, 0.03566386453105852), (1396, 0.012110371642917374), (1397, 0.0), (1398, 0.007145894488437052), (1399, 0.0), (1400, 0.0), (1401, 0.012348051914962063), (1402, 0.0058477753877102575), (1403, 0.0), (1404, 0.005399832407624312), (1405, 0.0), (1406, 0.02730877776102268), (1407, 0.0), (1408, 0.0), (1409, 0.0), (1410, 0.0), (1411, 0.005760985605875989), (1412, 0.03650845721808513), (1413, 0.06528922910131134), (1414, 0.0), (1415, 0.0), (1416, 0.020588515510216517), (1417, 0.021679705397163854), (1418, 0.009316224190133008), (1419, 0.027826799724681182), (1420, 0.011191713748853058), (1421, 0.0), (1422, 0.0), (1423, 0.010544689187610062), (1424, 0.0), (1425, 0.03762371790136656), (1426, 0.0), (1427, 0.0), (1428, 0.0), (1429, 0.0), (1430, 0.00533646232422144), (1431, 0.005540516757692416), (1432, 0.029367830050852996), (1433, 0.0), (1434, 0.0), (1435, 0.0), (1436, 0.033780033578648), (1437, 0.007196600046489175), (1438, 0.0), (1439, 0.028085215921136563), (1440, 0.02773881828267699), (1441, 0.0), (1442, 0.011644607424090889), (1443, 0.039789579233990666), (1444, 0.0), (1445, 0.0), (1446, 0.005490986871278473), (1447, 0.005816119164671041), (1448, 0.0), (1449, 0.0), (1450, 0.010488491316684367), (1451, 0.005355786550526317), (1452, 0.012762593290678005), (1453, 0.009598084585620548), (1454, 0.006579243023741158), (1455, 0.027452151082366035), (1456, 0.005176028383997223), (1457, 0.0), (1458, 0.005499191642993271), (1459, 0.03294077999494222), (1460, 0.03133639472871636), (1461, 0.005752348025420858), (1462, 0.0), (1463, 0.0), (1464, 0.009737239853289389), (1465, 0.004974768213227412), (1466, 0.007125690394760642), (1467, 0.032753984376306215), (1468, 0.01101134106944905), (1469, 0.006311757645617079), (1470, 0.0), (1471, 0.024884544287621442), (1472, 0.011206690280721411), (1473, 0.0), (1474, 0.0), (1475, 0.0), (1476, 0.01182038247760564), (1477, 0.005181831473312524), (1478, 0.005881873284991781), (1479, 0.0), (1480, 0.010839377578482271), (1481, 0.0), (1482, 0.005259239848964326), (1483, 0.006089326149018217), (1484, 0.0063545259796208495), (1485, 0.0), (1486, 0.030310919088800188), (1487, 0.005301305247541202), (1488, 0.0), (1489, 0.0), (1490, 0.0), (1491, 0.030212658783034405), (1492, 0.03748510973467075), (1493, 0.005378233210761631), (1494, 0.011509378070572458), (1495, 0.006032126467790614), (1496, 0.01143249549522212), (1497, 0.0), (1498, 0.024901414934387217), (1499, 0.0), (1500, 0.011113055700777773), (1501, 0.005693830958317788), (1502, 0.00635426175294043), (1503, 0.005208920866458023), (1504, 0.006325554907299046), (1505, 0.0), (1506, 0.04087638176085333), (1507, 0.0), (1508, 0.0), (1509, 0.003961037704612238), (1510, 0.011451904613449576), (1511, 0.012850527673460871), (1512, 0.03661615590460725), (1513, 0.006654927536276413), (1514, 0.06315893634277903), (1515, 0.011755743943669784), (1516, 0.006500696230578127), (1517, 0.011450904868563613), (1518, 0.0), (1519, 0.0), (1520, 0.006099856936572601), (1521, 0.005223141244540495), (1522, 0.03933261745641915), (1523, 0.0), (1524, 0.00497534333397183), (1525, 0.005757686757943192), (1526, 0.005622687596130752), (1527, 0.02702263223962161), (1528, 0.0), (1529, 0.0), (1530, 0.0100388939760513), (1531, 0.0), (1532, 0.0), (1533, 0.0), (1534, 0.0), (1535, 0.010041494025055869), (1536, 0.006227697982428959), (1537, 0.012715926322408366), (1538, 0.0), (1539, 0.005113812572227134), (1540, 0.04221392445123983), (1541, 0.0), (1542, 0.05037017062128598), (1543, 0.0), (1544, 0.03797402205687296), (1545, 0.005947696303298747), (1546, 0.010635143646775078), (1547, 0.007243621235647705), (1548, 0.007100464162740386), (1549, 0.0), (1550, 0.0), (1551, 0.043421535583548186), (1552, 0.02682897833799729), (1553, 0.00993317268013548), (1554, 0.006715671821597784), (1555, 0.005264848426497177), (1556, 0.011371481090055612), (1557, 0.0), (1558, 0.0), (1559, 0.004898649068550082), (1560, 0.007031536151725057), (1561, 0.0), (1562, 0.0), (1563, 0.0), (1564, 0.012544174654025696), (1565, 0.0), (1566, 0.0), (1567, 0.005620818183811069), (1568, 0.005214402328619794), (1569, 0.010507967088569454), (1570, 0.006648047837815039), (1571, 0.0), (1572, 0.028858353776343895), (1573, 0.07435782472773532), (1574, 0.0), (1575, 0.0), (1576, 0.00512043624900092), (1577, 0.012244816639694263), (1578, 0.0), (1579, 0.021523697192754487), (1580, 0.0), (1581, 0.023025866563352478), (1582, 0.0), (1583, 0.030632688094410276), (1584, 0.015596643547553567), (1585, 0.022266818314434746), (1586, 0.01861243227800844), (1587, 0.01244180543336896), (1588, 0.012177542362259477), (1589, 0.0), (1590, 0.0), (1591, 0.044341955411785657), (1592, 0.017397453104258345), (1593, 0.0), (1594, 0.012248219606768362), (1595, 0.01951270436419056), (1596, 0.0), (1597, 0.016979695552029436), (1598, 0.0), (1599, 0.034118057765039095), (1600, 0.0), (1601, 0.0), (1602, 0.012026369062777618), (1603, 0.0), (1604, 0.006117630207384234), (1605, 0.0), (1606, 0.010867437707867944), (1607, 0.0), (1608, 0.010677193765991178), (1609, 0.0), (1610, 0.0), (1611, 0.006181238064574749), (1612, 0.0), (1613, 0.005841481434257773), (1614, 0.0), (1615, 0.0), (1616, 0.0), (1617, 0.005486247744712585), (1618, 0.0), (1619, 0.005882627298452236), (1620, 0.00560710416868519), (1621, 0.021113079353884977), (1622, 0.0), (1623, 0.0), (1624, 0.0), (1625, 0.0), (1626, 0.04391555667685297), (1627, 0.005633325417257297), (1628, 0.0), (1629, 0.021380904317510212), (1630, 0.04193221140289718), (1631, 0.0), (1632, 0.0), (1633, 0.0), (1634, 0.0), (1635, 0.0), (1636, 0.030100643164651202), (1637, 0.013996299638603252), (1638, 0.0), (1639, 0.0), (1640, 0.006392503838200494), (1641, 0.0), (1642, 0.005374258038549285), (1643, 0.028090837455547264), (1644, 0.0), (1645, 0.012190474054201492), (1646, 0.0), (1647, 0.0), (1648, 0.00874158526660191), (1649, 0.03691288480740827), (1650, 0.010364095045891605), (1651, 0.011255351958911957), (1652, 0.05065798316568636), (1653, 0.006173318025623118), (1654, 0.0), (1655, 0.0), (1656, 0.0), (1657, 0.017524514049792717), (1658, 0.0), (1659, 0.006599400022112714), (1660, 0.005892191338917326), (1661, 0.0), (1662, 0.005294413503546268), (1663, 0.0), (1664, 0.0), (1665, 0.026381371072930485), (1666, 0.01106991165007889), (1667, 0.0), (1668, 0.010862017521179134), (1669, 0.0), (1670, 0.012959948142120854), (1671, 0.04251768644822914), (1672, 0.0), (1673, 0.0), (1674, 0.023902408428905758), (1675, 0.021300094895785077), (1676, 0.0), (1677, 0.0), (1678, 0.023811520541907893), (1679, 0.006067708947134487), (1680, 0.02564843351832562), (1681, 0.013340537799700482), (1682, 0.005310262965551252), (1683, 0.04181422126428932), (1684, 0.0), (1685, 0.0), (1686, 0.0), (1687, 0.006677399222045883), (1688, 0.005844888546689381), (1689, 0.0057858518731750234), (1690, 0.0), (1691, 0.004771925920028508), (1692, 0.005540006571999346), (1693, 0.0), (1694, 0.018751337580445504), (1695, 0.004505095211019635), (1696, 0.006073043680959439), (1697, 0.01221751435366348), (1698, 0.014954085901606868), (1699, 0.0), (1700, 0.02316445620464793), (1701, 0.03020667531697619), (1702, 0.006199284316135554), (1703, 0.0), (1704, 0.006114537512402874), (1705, 0.02986664476095823), (1706, 0.0), (1707, 0.04588184736335456), (1708, 0.007109934197312459), (1709, 0.029013821172640866), (1710, 0.0), (1711, 0.0), (1712, 0.0), (1713, 0.007240197224101198), (1714, 0.025554852908345936), (1715, 0.0), (1716, 0.023371622902517073), (1717, 0.0), (1718, 0.00605134548477464), (1719, 0.005123016847199677), (1720, 0.0), (1721, 0.017683832699244843), (1722, 0.0), (1723, 0.0), (1724, 0.0), (1725, 0.0064748264916650805), (1726, 0.005733088548512014), (1727, 0.029145844171565693), (1728, 0.005137449074618127), (1729, 0.0), (1730, 0.0), (1731, 0.0), (1732, 0.006558223804822566), (1733, 0.006245318880863165), (1734, 0.0064862064171452094), (1735, 0.09961419143288812), (1736, 0.02949238405420022), (1737, 0.0), (1738, 0.01722606409018605), (1739, 0.019586331641084025), (1740, 0.006235676789409668), (1741, 0.026237469751711196), (1742, 0.005472303779795547), (1743, 0.004795882985317223), (1744, 0.0), (1745, 0.005474998100527573), (1746, 0.005312051471272828), (1747, 0.0), (1748, 0.0), (1749, 0.006047773953014211), (1750, 0.0), (1751, 0.005790461536022992), (1752, 0.0), (1753, 0.0), (1754, 0.036478389518759674), (1755, 0.01117702488956369), (1756, 0.016671689669523357), (1757, 0.0), (1758, 0.05518251593594049), (1759, 0.0), (1760, 0.010956710440114639), (1761, 0.0), (1762, 0.00510261137221078), (1763, 0.0), (1764, 0.010591437153311383), (1765, 0.0), (1766, 0.0), (1767, 0.0), (1768, 0.005669409457320354), (1769, 0.0), (1770, 0.0), (1771, 0.0), (1772, 0.010621185993999822), (1773, 0.0), (1774, 0.016444788275971345), (1775, 0.0), (1776, 0.019840761799831658), (1777, 0.0), (1778, 0.005399824792460011), (1779, 0.0), (1780, 0.0), (1781, 0.014737051684607108), (1782, 0.0054677827475469055), (1783, 0.0), (1784, 0.0051402913968756426), (1785, 0.0), (1786, 0.0), (1787, 0.010574188584294932), (1788, 0.021757869757680945), (1789, 0.04680345171910477), (1790, 0.0), (1791, 0.03574116817852955), (1792, 0.0), (1793, 0.005429677923650747), (1794, 0.00558971170081507), (1795, 0.0), (1796, 0.005917300326388318), (1797, 0.03700966200912012), (1798, 0.012958963260374658), (1799, 0.01947223750393122), (1800, 0.0), (1801, 0.0), (1802, 0.015424198634282831), (1803, 0.0), (1804, 0.0), (1805, 0.0), (1806, 0.02454324024050227), (1807, 0.0), (1808, 0.005192220800764892), (1809, 0.005602243649692724), (1810, 0.04389106480401688), (1811, 0.0), (1812, 0.0128848668182457), (1813, 0.0), (1814, 0.047967837973312215), (1815, 0.03160347348856143), (1816, 0.02430307246619756), (1817, 0.005200847958868958), (1818, 0.011129847557095937), (1819, 0.0), (1820, 0.0), (1821, 0.057684446546772086), (1822, 0.006770153024218737), (1823, 0.010849373136942224), (1824, 0.005331022239590191), (1825, 0.010930727500456934), (1826, 0.0), (1827, 0.0), (1828, 0.005299119783533519), (1829, 0.0), (1830, 0.0), (1831, 0.0), (1832, 0.02218049517978449), (1833, 0.0), (1834, 0.0), (1835, 0.0), (1836, 0.0), (1837, 0.0), (1838, 0.0), (1839, 0.0), (1840, 0.010946017629432968), (1841, 0.012735218926183811), (1842, 0.0), (1843, 0.0), (1844, 0.0), (1845, 0.01470600393957009), (1846, 0.006094641212151532), (1847, 0.006328174380978259), (1848, 0.10258463241972698), (1849, 0.0), (1850, 0.01541805433360016), (1851, 0.006046814190464354), (1852, 0.0), (1853, 0.02892407137604991), (1854, 0.020054211309762145), (1855, 0.0), (1856, 0.0), (1857, 0.0056150636414483675), (1858, 0.04189904466291976), (1859, 0.041088104056769284), (1860, 0.0), (1861, 0.016306579764631162), (1862, 0.0), (1863, 0.018571583292135516), (1864, 0.0), (1865, 0.0), (1866, 0.0), (1867, 0.0), (1868, 0.0), (1869, 0.0), (1870, 0.0055813863570333576), (1871, 0.0), (1872, 0.0), (1873, 0.0), (1874, 0.02271676911733436), (1875, 0.0), (1876, 0.006517826332862262), (1877, 0.0), (1878, 0.0), (1879, 0.0), (1880, 0.0), (1881, 0.02423253564851169), (1882, 0.0), (1883, 0.00959254985284259), (1884, 0.0), (1885, 0.0), (1886, 0.005087348842812061), (1887, 0.0063986445174060505), (1888, 0.005574422976533883), (1889, 0.0), (1890, 0.041103190012138864), (1891, 0.0), (1892, 0.0), (1893, 0.006068627377494005), (1894, 0.006739662224028279), (1895, 0.011118716297541116), (1896, 0.012858949910323273), (1897, 0.0), (1898, 0.005886886393865777), (1899, 0.0), (1900, 0.0), (1901, 0.006439102122740856), (1902, 0.0), (1903, 0.005171088025210271), (1904, 0.006751983642669926), (1905, 0.0), (1906, 0.01168582965698602), (1907, 0.00610755619930307), (1908, 0.005810066916544547), (1909, 0.0), (1910, 0.02941099828902974), (1911, 0.0), (1912, 0.0), (1913, 0.0), (1914, 0.005206783336475085), (1915, 0.011352439660047831), (1916, 0.0), (1917, 0.0), (1918, 0.0), (1919, 0.011793765007784125), (1920, 0.0), (1921, 0.03227818523679775), (1922, 0.08991790675632264), (1923, 0.0), (1924, 0.0), (1925, 0.014648170819968229), (1926, 0.0), (1927, 0.0), (1928, 0.0), (1929, 0.0), (1930, 0.012381943537547565), (1931, 0.0063408039349212245), (1932, 0.0), (1933, 0.0), (1934, 0.0055600638946202135), (1935, 0.01629113179249954), (1936, 0.006255124251614214), (1937, 0.027117312479822964), (1938, 0.0), (1939, 0.008047458806538276), (1940, 0.0), (1941, 0.007149937707587918), (1942, 0.021952212918706717), (1943, 0.0), (1944, 0.023591382737426808), (1945, 0.06137165798257317), (1946, 0.06985412287770917), (1947, 0.0), (1948, 0.07589954272308408), (1949, 0.028569987936206125), (1950, 0.004750150732461607), (1951, 0.006010042129692103), (1952, 0.006189670760729821), (1953, 0.011596507419554257), (1954, 0.0), (1955, 0.01273097914926981), (1956, 0.0), (1957, 0.009569559962901597), (1958, 0.0), (1959, 0.0), (1960, 0.0), (1961, 0.01778155358752527), (1962, 0.0), (1963, 0.0), (1964, 0.010217777436105543), (1965, 0.0), (1966, 0.0), (1967, 0.043355869691968786), (1968, 0.013253434701141226), (1969, 0.01751593459883887), (1970, 0.021253818206081885), (1971, 0.029560804794172925), (1972, 0.0), (1973, 0.011247936066411068), (1974, 0.0), (1975, 0.0), (1976, 0.006721594734107038), (1977, 0.005532480013215976), (1978, 0.0), (1979, 0.0), (1980, 0.0), (1981, 0.014754836705547232), (1982, 0.010441789463912913), (1983, 0.0), (1984, 0.00556467045346559), (1985, 0.04577168257873285), (1986, 0.0), (1987, 0.010767529493105197), (1988, 0.005423840630285497), (1989, 0.0), (1990, 0.005177133531903788), (1991, 0.0), (1992, 0.02010533456486424), (1993, 0.0), (1994, 0.005120656902013067), (1995, 0.0), (1996, 0.0), (1997, 0.02946978839671401), (1998, 0.07042974694729495), (1999, 0.0), (2000, 0.013927247625404158), (2001, 0.0), (2002, 0.0), (2003, 0.005745134922191771), (2004, 0.0), (2005, 0.010471753748945371), (2006, 0.0), (2007, 0.0), (2008, 0.0), (2009, 0.0), (2010, 0.0051189489767191915), (2011, 0.02433486619957444), (2012, 0.013228818986838281), (2013, 0.0630258062505396), (2014, 0.017000750995796197), (2015, 0.006553545071160687), (2016, 0.035282247501862596), (2017, 0.005687281811288921), (2018, 0.04760397759777715), (2019, 0.0), (2020, 0.05993809638461314), (2021, 0.006775914228346182), (2022, 0.009321396060391951), (2023, 0.020167443064751617), (2024, 0.03895473596063153), (2025, 0.030743579489090504), (2026, 0.02091324337410913), (2027, 0.005610786009181474), (2028, 0.05680400155817599), (2029, 0.0054746520174776174), (2030, 0.0), (2031, 0.02121008004295256), (2032, 0.006443757601116625), (2033, 0.005519395611762957), (2034, 0.0), (2035, 0.0), (2036, 0.01095913203974527), (2037, 0.028301860612406506), (2038, 0.0), (2039, 0.0), (2040, 0.029664696465756826), (2041, 0.0), (2042, 0.0), (2043, 0.015571488255147167), (2044, 0.019191031558615096), (2045, 0.011813663987960271), (2046, 0.0), (2047, 0.004900318700180829), (2048, 0.0), (2049, 0.0), (2050, 0.0), (2051, 0.0), (2052, 0.0060934926690303), (2053, 0.057925940574701726), (2054, 0.0), (2055, 0.06977834136815733), (2056, 0.005538659341238735), (2057, 0.0), (2058, 0.01075255197708323), (2059, 0.0), (2060, 0.0), (2061, 0.011765262904420632), (2062, 0.010707035671040973), (2063, 0.0), (2064, 0.008762251674272092), (2065, 0.03435796744669624), (2066, 0.006869508746143575), (2067, 0.006570124488388072), (2068, 0.011528388458605397), (2069, 0.0), (2070, 0.02295662477878864), (2071, 0.05997593372998079), (2072, 0.005867446430809796), (2073, 0.021532269069397154), (2074, 0.010114342911927487), (2075, 0.007889190540966129), (2076, 0.01817332173774762), (2077, 0.10517162572136561), (2078, 0.005010241170748439), (2079, 0.038028965541101155), (2080, 0.021860993047374124), (2081, 0.006429476257010727), (2082, 0.03088804121760253), (2083, 0.00646571480477665), (2084, 0.012819402536698924), (2085, 0.006590587016845452), (2086, 0.0), (2087, 0.0), (2088, 0.006575679716424113), (2089, 0.0), (2090, 0.0), (2091, 0.028767414481316863), (2092, 0.0), (2093, 0.0324386513148511), (2094, 0.037642204922818064), (2095, 0.0), (2096, 0.0), (2097, 0.03640684602039394), (2098, 0.0), (2099, 0.0), (2100, 0.0), (2101, 0.0), (2102, 0.011039821679865735), (2103, 0.00604247040073964), (2104, 0.0), (2105, 0.0), (2106, 0.0), (2107, 0.03196202943911078), (2108, 0.0), (2109, 0.005643525977347932), (2110, 0.031159043162359963), (2111, 0.0), (2112, 0.029003822732665472), (2113, 0.08027799608302152), (2114, 0.014959629450233292), (2115, 0.0), (2116, 0.0), (2117, 0.0059433622333264595), (2118, 0.00720991943163566), (2119, 0.01988096255860364), (2120, 0.0), (2121, 0.01172679865682492), (2122, 0.0), (2123, 0.0), (2124, 0.006394462851638366), (2125, 0.006309724051921951), (2126, 0.07350268043693065), (2127, 0.0), (2128, 0.005542265891375436), (2129, 0.0), (2130, 0.0), (2131, 0.03305158852113013), (2132, 0.0), (2133, 0.0), (2134, 0.013781301762058407), (2135, 0.0), (2136, 0.019223966035802398), (2137, 0.0), (2138, 0.0), (2139, 0.005851691460735611), (2140, 0.0), (2141, 0.0), (2142, 0.0), (2143, 0.0), (2144, 0.0), (2145, 0.005195157239164862), (2146, 0.0), (2147, 0.006011128869778143), (2148, 0.012295884062329643), (2149, 0.0), (2150, 0.005906665061700753), (2151, 0.0), (2152, 0.0), (2153, 0.006104036238090493), (2154, 0.0), (2155, 0.0), (2156, 0.005026007331195078), (2157, 0.0), (2158, 0.030209858588717817), (2159, 0.0), (2160, 0.01115048352341216), (2161, 0.01014068668386571), (2162, 0.0), (2163, 0.0), (2164, 0.007074701726282983), (2165, 0.0), (2166, 0.005940649985582483), (2167, 0.005569364852784797), (2168, 0.010606941947668577), (2169, 0.005693183624066924), (2170, 0.0), (2171, 0.0), (2172, 0.0), (2173, 0.0), (2174, 0.02645169184964485), (2175, 0.01070230414002766), (2176, 0.0), (2177, 0.015110434237347335), (2178, 0.02334414407211384), (2179, 0.0), (2180, 0.013474766322657716), (2181, 0.03651121119129655), (2182, 0.0), (2183, 0.0), (2184, 0.005987192759066699), (2185, 0.0056013526041326245), (2186, 0.0), (2187, 0.0), (2188, 0.007287401335841059), (2189, 0.0), (2190, 0.0), (2191, 0.0), (2192, 0.0), (2193, 0.005718358271231137), (2194, 0.0), (2195, 0.005539357093044273), (2196, 0.022686379772619933), (2197, 0.005291414194535239), (2198, 0.005708846532706595), (2199, 0.05032100684113002), (2200, 0.0), (2201, 0.0), (2202, 0.0), (2203, 0.0), (2204, 0.004868699211134531), (2205, 0.061771252958307404), (2206, 0.026692649639670357), (2207, 0.0), (2208, 0.0064829827208254245), (2209, 0.0), (2210, 0.047828847146274105), (2211, 0.004851597721520223), (2212, 0.027620532026015037), (2213, 0.0), (2214, 0.023408036387352588), (2215, 0.011130019163615192), (2216, 0.02083987354291202), (2217, 0.006328719838882296), (2218, 0.006110217775082568), (2219, 0.0), (2220, 0.0), (2221, 0.027262343489648656), (2222, 0.01831436147578991), (2223, 0.0), (2224, 0.03612774140408049), (2225, 0.0), (2226, 0.0), (2227, 0.005493140327783941), (2228, 0.0), (2229, 0.0), (2230, 0.0), (2231, 0.0), (2232, 0.006045342267817961), (2233, 0.006494970677010862), (2234, 0.0), (2235, 0.022623562909004198), (2236, 0.01040519570919769), (2237, 0.06337031047708085), (2238, 0.0), (2239, 0.022871928256255766), (2240, 0.0), (2241, 0.006006062418060018), (2242, 0.0), (2243, 0.006758350070433121), (2244, 0.0), (2245, 0.016755941465338736), (2246, 0.0057903376610608254), (2247, 0.0), (2248, 0.0), (2249, 0.0), (2250, 0.026457757159928846), (2251, 0.0), (2252, 0.012332550896079332), (2253, 0.014541737845710865), (2254, 0.02219764207998895), (2255, 0.0), (2256, 0.0), (2257, 0.0), (2258, 0.0), (2259, 0.006085464473036119), (2260, 0.0), (2261, 0.0), (2262, 0.005147130924353162), (2263, 0.0061109314105497236), (2264, 0.019353489002802007), (2265, 0.0), (2266, 0.0), (2267, 0.0), (2268, 0.00571194074859405), (2269, 0.0), (2270, 0.0), (2271, 0.0), (2272, 0.011095271186943687), (2273, 0.031139860370927294), (2274, 0.029815361792312256), (2275, 0.036776822590403005), (2276, 0.02738043950301982), (2277, 0.012408050031094381), (2278, 0.005805115379452345), (2279, 0.02145253230888168), (2280, 0.02094048670268311), (2281, 0.0), (2282, 0.0), (2283, 0.0), (2284, 0.02166739199875994), (2285, 0.010205200473624467), (2286, 0.0), (2287, 0.010475343471310716), (2288, 0.0), (2289, 0.0), (2290, 0.0), (2291, 0.005339232782145922), (2292, 0.0), (2293, 0.0), (2294, 0.005434546544327349), (2295, 0.0), (2296, 0.034698457282977935), (2297, 0.0), (2298, 0.006055801319814688), (2299, 0.0), (2300, 0.0), (2301, 0.005214918212057777), (2302, 0.0), (2303, 0.0059700927761301556), (2304, 0.0), (2305, 0.0), (2306, 0.0), (2307, 0.0), (2308, 0.0), (2309, 0.0), (2310, 0.0), (2311, 0.0053015237952760514), (2312, 0.0), (2313, 0.0), (2314, 0.0), (2315, 0.005660730996392219), (2316, 0.028860206468633444), (2317, 0.005560862104108572), (2318, 0.04495675372495746), (2319, 0.012336959159142721), (2320, 0.01322200977449576), (2321, 0.0), (2322, 0.005470053961344437), (2323, 0.0), (2324, 0.0), (2325, 0.0), (2326, 0.004788255290274819), (2327, 0.0), (2328, 0.0), (2329, 0.0055478676213168345), (2330, 0.006442826912435389), (2331, 0.0), (2332, 0.0), (2333, 0.0), (2334, 0.02859662667182883), (2335, 0.0), (2336, 0.0), (2337, 0.0), (2338, 0.010188836598419314), (2339, 0.006397310802361336), (2340, 0.0), (2341, 0.0), (2342, 0.0), (2343, 0.0), (2344, 0.0), (2345, 0.01290709467872417), (2346, 0.023640965688664733), (2347, 0.0), (2348, 0.012933606434908325), (2349, 0.0), (2350, 0.0), (2351, 0.006685201512613787), (2352, 0.0), (2353, 0.0063966063805008), (2354, 0.0), (2355, 0.0), (2356, 0.006873867031074759), (2357, 0.0), (2358, 0.0), (2359, 0.0), (2360, 0.0), (2361, 0.006774091849880466), (2362, 0.0), (2363, 0.015079084566622953), (2364, 0.0), (2365, 0.0), (2366, 0.0), (2367, 0.005273843686935252), (2368, 0.0), (2369, 0.0), (2370, 0.02886977731904414), (2371, 0.0), (2372, 0.0), (2373, 0.0), (2374, 0.0), (2375, 0.0), (2376, 0.008904829098082118), (2377, 0.004695593323942515), (2378, 0.007540999581936246), (2379, 0.0), (2380, 0.0), (2381, 0.006878771854947527), (2382, 0.0), (2383, 0.006806467633179177), (2384, 0.0), (2385, 0.0), (2386, 0.0), (2387, 0.01232213939224781), (2388, 0.0), (2389, 0.005634119191684916), (2390, 0.0), (2391, 0.0), (2392, 0.0), (2393, 0.0), (2394, 0.0), (2395, 0.0), (2396, 0.0), (2397, 0.0), (2398, 0.0044236083987927366), (2399, 0.005674526909734053), (2400, 0.0), (2401, 0.0), (2402, 0.0), (2403, 0.04564148107761813), (2404, 0.016104547045779394), (2405, 0.0), (2406, 0.025564430709970717), (2407, 0.0), (2408, 0.0), (2409, 0.005462456152705131), (2410, 0.0), (2411, 0.0), (2412, 0.059406725085131416), (2413, 0.02908093042487938), (2414, 0.005704064991813306), (2415, 0.007878912645946074), (2416, 0.005813547853248892), (2417, 0.0), (2418, 0.006159561251631373), (2419, 0.0), (2420, 0.0), (2421, 0.01200185425822689), (2422, 0.011335858479676749), (2423, 0.0), (2424, 0.00581692723788544), (2425, 0.0), (2426, 0.005659997457959974), (2427, 0.03447989213633559), (2428, 0.00741016367013821), (2429, 0.005944211732068305), (2430, 0.005521484975238648), (2431, 0.005881391362383439), (2432, 0.006024002816667823), (2433, 0.005642371293134136), (2434, 0.0), (2435, 0.0), (2436, 0.006245467554576037), (2437, 0.0), (2438, 0.0), (2439, 0.005531427009543617), (2440, 0.0), (2441, 0.0), (2442, 0.08283559284833063), (2443, 0.0038485981997071466), (2444, 0.012236952244855773), (2445, 0.0), (2446, 0.0054410753395454136), (2447, 0.0232555106096932), (2448, 0.0), (2449, 0.0), (2450, 0.0), (2451, 0.0), (2452, 0.013270927068952632), (2453, 0.0), (2454, 0.0), (2455, 0.01563556095508964), (2456, 0.0), (2457, 0.0), (2458, 0.006602287554846361), (2459, 0.007227906784022585), (2460, 0.0), (2461, 0.0), (2462, 0.0), (2463, 0.0), (2464, 0.07649729905088593), (2465, 0.0), (2466, 0.02931431550368682), (2467, 0.02705259146174415), (2468, 0.032618271602086996), (2469, 0.0), (2470, 0.07405073329751788), (2471, 0.0), (2472, 0.0), (2473, 0.0), (2474, 0.013633977341150271), (2475, 0.0), (2476, 0.007041283096741378), (2477, 0.08654932151245395), (2478, 0.013552665435646255), (2479, 0.007375506854891316), (2480, 0.005549352333320846), (2481, 0.004803293015744348), (2482, 0.0), (2483, 0.0), (2484, 0.0), (2485, 0.012917441158880013), (2486, 0.024660370637342364), (2487, 0.050686704131275545), (2488, 0.0), (2489, 0.021761623262328868), (2490, 0.0), (2491, 0.005271906037789692), (2492, 0.011543024286564901), (2493, 0.006974428856478678), (2494, 0.00584039736675608), (2495, 0.0124624868815562), (2496, 0.0), (2497, 0.0), (2498, 0.011053003714607322), (2499, 0.0), (2500, 0.0), (2501, 0.04239583036604398), (2502, 0.0), (2503, 0.005655008205705154), (2504, 0.005898277791793501), (2505, 0.0), (2506, 0.0066512498899105685), (2507, 0.0), (2508, 0.0), (2509, 0.009922302273195169), (2510, 0.012708348348512088), (2511, 0.00583245671015502), (2512, 0.020577328625271615), (2513, 0.02160788790192479), (2514, 0.016071977971165358), (2515, 0.0), (2516, 0.0), (2517, 0.0), (2518, 0.006347815784155377), (2519, 0.0), (2520, 0.0), (2521, 0.007965523902868673), (2522, 0.029673734621530324), (2523, 0.0), (2524, 0.0), (2525, 0.005172188523785174), (2526, 0.004802655379501313), (2527, 0.0), (2528, 0.0), (2529, 0.04075925050495457), (2530, 0.007639578989936564), (2531, 0.012448074653794449), (2532, 0.0), (2533, 0.0), (2534, 0.007864258447251353), (2535, 0.0), (2536, 0.0), (2537, 0.0), (2538, 0.0), (2539, 0.024000758812125968), (2540, 0.017458714179386235), (2541, 0.0), (2542, 0.0), (2543, 0.0), (2544, 0.004280018733832296), (2545, 0.0), (2546, 0.041851521177360754), (2547, 0.006991819363715335), (2548, 0.0), (2549, 0.006217176388846058), (2550, 0.01278537515992513), (2551, 0.0), (2552, 0.00532262996511539), (2553, 0.010946332741059528), (2554, 0.006436641394990653), (2555, 0.00678924679720564), (2556, 0.0), (2557, 0.0), (2558, 0.0), (2559, 0.008164685293035559), (2560, 0.006291107285823193), (2561, 0.013079464792535005), (2562, 0.008586401391447515), (2563, 0.0), (2564, 0.0), (2565, 0.012448683289239846), (2566, 0.0125229488207079), (2567, 0.007471433885822835), (2568, 0.0077742531627170595), (2569, 0.0), (2570, 0.0), (2571, 0.0), (2572, 0.0), (2573, 0.0051847402012819), (2574, 0.0), (2575, 0.013432640716446042), (2576, 0.00694690903643663), (2577, 0.0), (2578, 0.0), (2579, 0.0), (2580, 0.0), (2581, 0.014370608596977301), (2582, 0.011633002175695564), (2583, 0.0), (2584, 0.02138662723068836), (2585, 0.0), (2586, 0.012240667372928449), (2587, 0.005034803919637344), (2588, 0.0), (2589, 0.0), (2590, 0.0), (2591, 0.0), (2592, 0.0), (2593, 0.0), (2594, 0.0), (2595, 0.0), (2596, 0.0), (2597, 0.0), (2598, 0.0), (2599, 0.0), (2600, 0.008082358461388167), (2601, 0.0), (2602, 0.018944100345637895), (2603, 0.0048584842616331645), (2604, 0.0), (2605, 0.0), (2606, 0.0), (2607, 0.019672320545188644), (2608, 0.005214905528597018), (2609, 0.0), (2610, 0.005914563511382589), (2611, 0.005127510517353353), (2612, 0.005559844899153084), (2613, 0.0), (2614, 0.0), (2615, 0.005165555004742507), (2616, 0.01705252141725005), (2617, 0.028263767483977437), (2618, 0.0), (2619, 0.0), (2620, 0.0), (2621, 0.0), (2622, 0.020084795166316324), (2623, 0.0), (2624, 0.0), (2625, 0.020151398025007976), (2626, 0.0066528089424940555), (2627, 0.015603802318642637), (2628, 0.0), (2629, 0.0), (2630, 0.012567802861552565), (2631, 0.0053453186926613935), (2632, 0.03317581097057352), (2633, 0.018580924951551114), (2634, 0.006000217950497676), (2635, 0.0), (2636, 0.004254797141448029), (2637, 0.0), (2638, 0.024112382861358212), (2639, 0.0), (2640, 0.012004568558191752), (2641, 0.07030984191777419), (2642, 0.03771122355268783), (2643, 0.0), (2644, 0.0), (2645, 0.042895011129312), (2646, 0.005001550956370649), (2647, 0.006226439769445904), (2648, 0.0), (2649, 0.05852242450359493), (2650, 0.0), (2651, 0.0), (2652, 0.07037498232879043), (2653, 0.0), (2654, 0.005078584355751562), (2655, 0.0), (2656, 0.013828265621273603), (2657, 0.008508492897297723), (2658, 0.0), (2659, 0.008501128180111842), (2660, 0.015103832467427258), (2661, 0.0), (2662, 0.012697027782983433), (2663, 0.0), (2664, 0.0), (2665, 0.027418029896372445), (2666, 0.005383939494671814), (2667, 0.00864694373376761), (2668, 0.017987228145725887), (2669, 0.0), (2670, 0.007106098497265435), (2671, 0.0), (2672, 0.006970449911071795), (2673, 0.007087748799920357), (2674, 0.005951271036357686), (2675, 0.02906089401961873), (2676, 0.007135729822707647), (2677, 0.0), (2678, 0.0), (2679, 0.0), (2680, 0.016469361238244586), (2681, 0.0), (2682, 0.010763453239480567), (2683, 0.0), (2684, 0.0), (2685, 0.0), (2686, 0.0), (2687, 0.0), (2688, 0.0), (2689, 0.01239078545356116), (2690, 0.0), (2691, 0.012208768290610654), (2692, 0.018661941356170098), (2693, 0.0), (2694, 0.0), (2695, 0.04994532525914638), (2696, 0.0), (2697, 0.005148682862795417), (2698, 0.005548811360706358), (2699, 0.0), (2700, 0.0), (2701, 0.0), (2702, 0.0), (2703, 0.0), (2704, 0.0), (2705, 0.0), (2706, 0.011935077985073997), (2707, 0.007278764892307257), (2708, 0.0), (2709, 0.0), (2710, 0.0069026066690662125), (2711, 0.03136181957712315), (2712, 0.005980626120569278), (2713, 0.028264828296009764), (2714, 0.10814022505736742), (2715, 0.0), (2716, 0.0), (2717, 0.0), (2718, 0.045251209769774446), (2719, 0.0), (2720, 0.013480715757578768), (2721, 0.010641012398892489), (2722, 0.0), (2723, 0.0), (2724, 0.010173825389399859), (2725, 0.005884348231438279), (2726, 0.0), (2727, 0.026100499167325632), (2728, 0.0), (2729, 0.012222334438823014), (2730, 0.014288605156172307), (2731, 0.0357512389518765), (2732, 0.005797786469048815), (2733, 0.0), (2734, 0.004574044835206068), (2735, 0.0), (2736, 0.020278319331713014), (2737, 0.0), (2738, 0.021288431159577112), (2739, 0.02250683742341974), (2740, 0.043614599090593315), (2741, 0.019842662211984684), (2742, 0.025248155855796567), (2743, 0.0), (2744, 0.0), (2745, 0.0), (2746, 0.0), (2747, 0.0), (2748, 0.0), (2749, 0.03728774838552043), (2750, 0.0), (2751, 0.025943118031612002), (2752, 0.02092682586410501), (2753, 0.010460930566895173), (2754, 0.006957250582472727), (2755, 0.006234839186629999), (2756, 0.03882220775729556), (2757, 0.0), (2758, 0.0), (2759, 0.0), (2760, 0.0), (2761, 0.004802613059947104), (2762, 0.01031733451415597), (2763, 0.011130544529858146), (2764, 0.0), (2765, 0.010928565767645745), (2766, 0.009058202393760616), (2767, 0.004895355198467815), (2768, 0.008539920475116673), (2769, 0.0), (2770, 0.0), (2771, 0.01070588237138342), (2772, 0.00735364235862521), (2773, 0.0), (2774, 0.019109342088042887), (2775, 0.0), (2776, 0.0), (2777, 0.032103684699513954), (2778, 0.0075392277142535035), (2779, 0.026455780265743276), (2780, 0.02931342741389943), (2781, 0.0), (2782, 0.013008933877025095), (2783, 0.0), (2784, 0.06979452169604783), (2785, 0.0), (2786, 0.0), (2787, 0.01775635552567895), (2788, 0.006317572610712066), (2789, 0.004779020503751626), (2790, 0.018509089343357845), (2791, 0.07540883157006208), (2792, 0.005782155889651526), (2793, 0.011425181738839428), (2794, 0.0), (2795, 0.05095799034864263), (2796, 0.0), (2797, 0.0), (2798, 0.005943462423188625), (2799, 0.0), (2800, 0.0), (2801, 0.004980170921115044), (2802, 0.0), (2803, 0.005729457102286711), (2804, 0.0), (2805, 0.0), (2806, 0.0), (2807, 0.005753225899700263), (2808, 0.026622523300407753), (2809, 0.005920907408501605), (2810, 0.007135644106059084), (2811, 0.006640747865956209), (2812, 0.005693125167386943), (2813, 0.0), (2814, 0.012223806177641221), (2815, 0.06721065549701268), (2816, 0.00592673787055528), (2817, 0.01860884339250201), (2818, 0.008063557713706577), (2819, 0.006678219195829886), (2820, 0.0054376106524461456), (2821, 0.0), (2822, 0.00540269094579306), (2823, 0.0), (2824, 0.0), (2825, 0.0060712077454017814), (2826, 0.03762745764539932), (2827, 0.035718420292717885), (2828, 0.0), (2829, 0.0), (2830, 0.0), (2831, 0.0), (2832, 0.052169832292796224), (2833, 0.0), (2834, 0.006878798745504065), (2835, 0.0), (2836, 0.0), (2837, 0.0), (2838, 0.0), (2839, 0.0), (2840, 0.0068973652158854535), (2841, 0.006490337837677884), (2842, 0.004872549561205106), (2843, 0.006879729678714312), (2844, 0.019010067418556122), (2845, 0.0), (2846, 0.0), (2847, 0.006049108139340773), (2848, 0.0), (2849, 0.02411183652290206), (2850, 0.006094967886640837), (2851, 0.0), (2852, 0.0), (2853, 0.049961098437744836), (2854, 0.013026426239544218), (2855, 0.0051676574817913976), (2856, 0.0), (2857, 0.0), (2858, 0.016583860255506847), (2859, 0.005395067724686501), (2860, 0.006681288263657705), (2861, 0.0), (2862, 0.011199187750283349), (2863, 0.0), (2864, 0.007702159631892915), (2865, 0.0), (2866, 0.0), (2867, 0.027819078392302736), (2868, 0.0), (2869, 0.014328709851726736), (2870, 0.0), (2871, 0.020080853074724875), (2872, 0.0), (2873, 0.00623176939547821), (2874, 0.019394651368203508), (2875, 0.0), (2876, 0.0), (2877, 0.0), (2878, 0.01753018458311153), (2879, 0.0), (2880, 0.006710167390299133), (2881, 0.007112115258315132), (2882, 0.012695861383686051), (2883, 0.0), (2884, 0.0), (2885, 0.0), (2886, 0.041840743545615386), (2887, 0.0), (2888, 0.006978812151189263), (2889, 0.0), (2890, 0.0), (2891, 0.0), (2892, 0.005389865163360775), (2893, 0.0), (2894, 0.0), (2895, 0.03932085491491054), (2896, 0.0), (2897, 0.02624518386070681), (2898, 0.019880678764674264), (2899, 0.00579938895144687), (2900, 0.005913784723103416), (2901, 0.0), (2902, 0.0), (2903, 0.11702848693006448), (2904, 0.0), (2905, 0.0), (2906, 0.005161932920241354), (2907, 0.0), (2908, 0.022049658467673806), (2909, 0.0), (2910, 0.03443761208311737), (2911, 0.006035382735513336), (2912, 0.0), (2913, 0.023943256631996236), (2914, 0.0), (2915, 0.0), (2916, 0.0), (2917, 0.0), (2918, 0.02717667700408548), (2919, 0.022260463878764607), (2920, 0.016374756281298468), (2921, 0.04885194054177357), (2922, 0.008206596155698645), (2923, 0.0), (2924, 0.0), (2925, 0.017352398783454796), (2926, 0.0), (2927, 0.0), (2928, 0.0), (2929, 0.019281524313325072), (2930, 0.012811875781726925), (2931, 0.02968442055568231), (2932, 0.028274145780047236), (2933, 0.004997339723432723), (2934, 0.021859867885706402), (2935, 0.005859556138462848), (2936, 0.0), (2937, 0.008793202742003462), (2938, 0.03692077393486783), (2939, 0.025607327227760174), (2940, 0.012285746757429735), (2941, 0.0), (2942, 0.005001037704899565), (2943, 0.006933636717107439), (2944, 0.08840496899929788), (2945, 0.0), (2946, 0.0), (2947, 0.006921382120725862), (2948, 0.0), (2949, 0.0), (2950, 0.01805354062504637), (2951, 0.006084057750704307), (2952, 0.0), (2953, 0.0), (2954, 0.0053111018495043075), (2955, 0.006667551403345102), (2956, 0.0), (2957, 0.0), (2958, 0.0), (2959, 0.0065661452275180415), (2960, 0.0728814058539022), (2961, 0.021461866157822498), (2962, 0.016465011241158685), (2963, 0.08329554811515127), (2964, 0.0), (2965, 0.011637706033863292), (2966, 0.0), (2967, 0.0), (2968, 0.0), (2969, 0.010142783791944956), (2970, 0.0), (2971, 0.005836967246358541), (2972, 0.0), (2973, 0.0), (2974, 0.0), (2975, 0.009978193278979652), (2976, 0.0), (2977, 0.0), (2978, 0.022681514536182022), (2979, 0.0), (2980, 0.0), (2981, 0.07067481274477976), (2982, 0.0), (2983, 0.0), (2984, 0.0), (2985, 0.0047722582812018514), (2986, 0.0), (2987, 0.0), (2988, 0.0), (2989, 0.0), (2990, 0.008374355511991196), (2991, 0.024073080439838256), (2992, 0.08255946333433542), (2993, 0.0), (2994, 0.0), (2995, 0.0), (2996, 0.03429223437289965), (2997, 0.0), (2998, 0.008913532645542527), (2999, 0.0), (3000, 0.0), (3001, 0.0), (3002, 0.0), (3003, 0.013381645784885222), (3004, 0.0), (3005, 0.0), (3006, 0.0), (3007, 0.013260082079503055), (3008, 0.013588007339820749), (3009, 0.015684951401083565), (3010, 0.00547893371703526), (3011, 0.005483549085437275), (3012, 0.0), (3013, 0.0), (3014, 0.0), (3015, 0.0), (3016, 0.0), (3017, 0.0), (3018, 0.044025194511703725), (3019, 0.025715067036531255), (3020, 0.0), (3021, 0.0), (3022, 0.047462044257983664), (3023, 0.0), (3024, 0.06137817382479481), (3025, 0.0), (3026, 0.0), (3027, 0.005218391699780155), (3028, 0.005373570435628127), (3029, 0.0), (3030, 0.0), (3031, 0.0), (3032, 0.0), (3033, 0.005679046050841591), (3034, 0.0), (3035, 0.0), (3036, 0.0), (3037, 0.0), (3038, 0.0), (3039, 0.0), (3040, 0.0), (3041, 0.0), (3042, 0.0), (3043, 0.03663281305174439), (3044, 0.007010787136714686), (3045, 0.0051368532703527274), (3046, 0.005440753757034043), (3047, 0.0), (3048, 0.0), (3049, 0.0), (3050, 0.0), (3051, 0.0), (3052, 0.0), (3053, 0.005648794478032127), (3054, 0.0), (3055, 0.0), (3056, 0.0), (3057, 0.0), (3058, 0.0), (3059, 0.007095772783573454), (3060, 0.0), (3061, 0.0), (3062, 0.007225295187207383), (3063, 0.0), (3064, 0.00724453775912762), (3065, 0.005522415094033853), (3066, 0.005601255015352483), (3067, 0.01188919973913028), (3068, 0.0), (3069, 0.0), (3070, 0.08680547454841449), (3071, 0.005265368732370877), (3072, 0.0), (3073, 0.005693301256077885), (3074, 0.03580484399272012), (3075, 0.0), (3076, 0.01556855457139358), (3077, 0.0), (3078, 0.0), (3079, 0.01136030629406049), (3080, 0.0), (3081, 0.0), (3082, 0.0), (3083, 0.0054183635604069065), (3084, 0.0), (3085, 0.005902139291128215), (3086, 0.022460135731268333), (3087, 0.0), (3088, 0.0), (3089, 0.0), (3090, 0.0), (3091, 0.0), (3092, 0.0), (3093, 0.0), (3094, 0.0), (3095, 0.022405818282002925), (3096, 0.005381865915647938), (3097, 0.048992679258848634), (3098, 0.025412410310907498), (3099, 0.02519822173704834), (3100, 0.006033814958011986), (3101, 0.0), (3102, 0.0), (3103, 0.0), (3104, 0.0), (3105, 0.0), (3106, 0.0), (3107, 0.0), (3108, 0.015574979141018028), (3109, 0.0), (3110, 0.023098776857861925), (3111, 0.033144949630757266), (3112, 0.006728760134407223), (3113, 0.0), (3114, 0.005824625483079968), (3115, 0.009004818052871493), (3116, 0.0), (3117, 0.0), (3118, 0.02079644048816265), (3119, 0.029396516082829473), (3120, 0.0), (3121, 0.005497377422374188), (3122, 0.07989606733052244), (3123, 0.0), (3124, 0.006334647473161514), (3125, 0.005808855187495876), (3126, 0.0061158755119308465), (3127, 0.005301126465259516), (3128, 0.0), (3129, 0.01513046442472942), (3130, 0.0), (3131, 0.006301511333150435), (3132, 0.006695981927571116), (3133, 0.005822572296719375), (3134, 0.0064718657897398), (3135, 0.04557684016595772), (3136, 0.0060505397544382234), (3137, 0.0), (3138, 0.0), (3139, 0.0), (3140, 0.0), (3141, 0.022485116961055478), (3142, 0.03698666570743239), (3143, 0.005655801297261698), (3144, 0.008928927274318791), (3145, 0.007662635058410919), (3146, 0.0), (3147, 0.0), (3148, 0.0), (3149, 0.005423637582645691), (3150, 0.005748969747084782), (3151, 0.005575884446176774), (3152, 0.004634610796673503), (3153, 0.0), (3154, 0.052046744268063216), (3155, 0.021796180548637148), (3156, 0.006347903185879369), (3157, 0.0), (3158, 0.022879743211418415), (3159, 0.01582663026139287), (3160, 0.0), (3161, 0.006056392602528409), (3162, 0.0), (3163, 0.030116830917379787), (3164, 0.0), (3165, 0.007347122194925915), (3166, 0.0), (3167, 0.0), (3168, 0.007490914535818557), (3169, 0.00628800557626087), (3170, 0.0), (3171, 0.04889086111602654), (3172, 0.013945664454001437), (3173, 0.0), (3174, 0.006257415897126571), (3175, 0.0), (3176, 0.0), (3177, 0.0), (3178, 0.0), (3179, 0.0), (3180, 0.0), (3181, 0.0414956710118186), (3182, 0.0), (3183, 0.0), (3184, 0.0), (3185, 0.008936913416962922), (3186, 0.0), (3187, 0.023517768824243116), (3188, 0.0), (3189, 0.0), (3190, 0.0), (3191, 0.00678557778002922), (3192, 0.023309501908491095), (3193, 0.005677825560568473), (3194, 0.0), (3195, 0.0), (3196, 0.0), (3197, 0.0), (3198, 0.0), (3199, 0.004506397267796491), (3200, 0.0), (3201, 0.01614255030347648), (3202, 0.006781756653551437), (3203, 0.014194910519011044), (3204, 0.0), (3205, 0.02748871064863623), (3206, 0.007298489077248164), (3207, 0.0), (3208, 0.0), (3209, 0.0), (3210, 0.041978436136774), (3211, 0.005010615110465926), (3212, 0.0), (3213, 0.005201131254954439), (3214, 0.0), (3215, 0.005371089808799748), (3216, 0.0), (3217, 0.0), (3218, 0.006141434136174433), (3219, 0.0), (3220, 0.0), (3221, 0.020234412459836468), (3222, 0.004810511680984598), (3223, 0.009720525686861778), (3224, 0.0), (3225, 0.006432756166444579), (3226, 0.005205156952436142), (3227, 0.018875250439429527), (3228, 0.0), (3229, 0.0), (3230, 0.0), (3231, 0.0051175468030805185), (3232, 0.026032517964954014), (3233, 0.0059034447011735115), (3234, 0.012397529834584805), (3235, 0.0), (3236, 0.0), (3237, 0.005612544498690193), (3238, 0.010362433460311824), (3239, 0.014284949050928471), (3240, 0.005395221396430026), (3241, 0.006421233616717935), (3242, 0.0), (3243, 0.0), (3244, 0.0), (3245, 0.02233609978864205), (3246, 0.0), (3247, 0.005621698529840364), (3248, 0.0), (3249, 0.0), (3250, 0.0), (3251, 0.0), (3252, 0.0), (3253, 0.02024882127835994), (3254, 0.0), (3255, 0.0), (3256, 0.0), (3257, 0.0), (3258, 0.0), (3259, 0.1062770389114296), (3260, 0.005544765127640938), (3261, 0.0), (3262, 0.0), (3263, 0.007225140846484396), (3264, 0.006036779452907839), (3265, 0.005742019534797722), (3266, 0.0), (3267, 0.02557904685101312), (3268, 0.0), (3269, 0.0), (3270, 0.023761832078285534), (3271, 0.0), (3272, 0.0), (3273, 0.0), (3274, 0.0), (3275, 0.033978135223146556), (3276, 0.026208771224775565), (3277, 0.006156938098596564), (3278, 0.0), (3279, 0.03266161591413875), (3280, 0.0), (3281, 0.0), (3282, 0.0), (3283, 0.005913789330929472), (3284, 0.05257405964306469), (3285, 0.0), (3286, 0.0), (3287, 0.0), (3288, 0.0), (3289, 0.0), (3290, 0.0), (3291, 0.0), (3292, 0.0), (3293, 0.016796550199409285), (3294, 0.02151361093010693), (3295, 0.005489528265768533), (3296, 0.0), (3297, 0.03357215845607398), (3298, 0.0), (3299, 0.0), (3300, 0.0), (3301, 0.0), (3302, 0.0), (3303, 0.017973668986458236), (3304, 0.0), (3305, 0.0), (3306, 0.04997488995665048), (3307, 0.0), (3308, 0.0), (3309, 0.0), (3310, 0.006625634012383663), (3311, 0.011025448736170436), (3312, 0.031045953781398926), (3313, 0.0), (3314, 0.0), (3315, 0.0), (3316, 0.004447485126040159), (3317, 0.02231798843055976), (3318, 0.0), (3319, 0.0), (3320, 0.005416726957101685), (3321, 0.005751803379960983), (3322, 0.0), (3323, 0.033062165315620104), (3324, 0.0), (3325, 0.0), (3326, 0.0), (3327, 0.005072343277360138), (3328, 0.007779385640558008), (3329, 0.0), (3330, 0.005726098521206177), (3331, 0.0), (3332, 0.0063449604648985755), (3333, 0.0), (3334, 0.022307513304358758), (3335, 0.0), (3336, 0.010532692761302573), (3337, 0.0), (3338, 0.0), (3339, 0.005369420772805682), (3340, 0.030154072161278515), (3341, 0.0), (3342, 0.0052964861402923814), (3343, 0.01159243834670587), (3344, 0.00955787077892431), (3345, 0.014095089336782734), (3346, 0.0), (3347, 0.0), (3348, 0.0), (3349, 0.0), (3350, 0.0), (3351, 0.02190789321595511), (3352, 0.0), (3353, 0.0), (3354, 0.015253830208710548), (3355, 0.0), (3356, 0.0), (3357, 0.025617543815121824), (3358, 0.0), (3359, 0.0), (3360, 0.005007775059449405), (3361, 0.005759744561639953), (3362, 0.004721639911390753), (3363, 0.0), (3364, 0.006615685955354676), (3365, 0.07855154795708161), (3366, 0.0), (3367, 0.043848520586854525), (3368, 0.01192425097092603), (3369, 0.0), (3370, 0.020017147740233228), (3371, 0.0), (3372, 0.0), (3373, 0.030407694756466423), (3374, 0.03523893667769852), (3375, 0.0), (3376, 0.0), (3377, 0.02484240736606621), (3378, 0.0), (3379, 0.0), (3380, 0.0), (3381, 0.0652332216190294), (3382, 0.022001989138493834), (3383, 0.007323019081620747), (3384, 0.013620201428152286), (3385, 0.013471682942695008), (3386, 0.005901117370233133), (3387, 0.0), (3388, 0.0), (3389, 0.031165170705332177), (3390, 0.0), (3391, 0.0), (3392, 0.0), (3393, 0.005002272300182856), (3394, 0.0), (3395, 0.0), (3396, 0.0), (3397, 0.01716534069624052), (3398, 0.04567671661758572), (3399, 0.01669274955568603), (3400, 0.0), (3401, 0.0), (3402, 0.0), (3403, 0.04255365842320772), (3404, 0.006678583573675323), (3405, 0.0051754982173244915), (3406, 0.0), (3407, 0.005471319561651981), (3408, 0.0), (3409, 0.004921834886927952), (3410, 0.0046070599271824724), (3411, 0.005154385403303937), (3412, 0.005388926163554151), (3413, 0.0), (3414, 0.012715745498459729), (3415, 0.08735793313366877), (3416, 0.006174353968150697), (3417, 0.0), (3418, 0.01911082429358732), (3419, 0.007219921881302208), (3420, 0.0105456769735126), (3421, 0.0), (3422, 0.0), (3423, 0.0), (3424, 0.01980113257460081), (3425, 0.0), (3426, 0.0), (3427, 0.038477573449899896), (3428, 0.0), (3429, 0.004483516573229126), (3430, 0.0), (3431, 0.0), (3432, 0.045130892983981784), (3433, 0.0), (3434, 0.0), (3435, 0.01758996458309136), (3436, 0.043374206025975096), (3437, 0.022660558010238245), (3438, 0.0066659058464645085), (3439, 0.0), (3440, 0.03403710682502122), (3441, 0.006196286224726269), (3442, 0.0), (3443, 0.0063260886218746626), (3444, 0.06242520490753825), (3445, 0.006246772540554343), (3446, 0.005750851680154101), (3447, 0.0053460933125294855), (3448, 0.014833388912429697), (3449, 0.022590789709009806), (3450, 0.35375496241917814), (3451, 0.006544928946650497), (3452, 0.0), (3453, 0.07737100636397526), (3454, 0.010962571417830915), (3455, 0.0), (3456, 0.011731195276193889), (3457, 0.06555004890327874), (3458, 0.01245016319958599), (3459, 0.005212249526567848), (3460, 0.025190429910115192), (3461, 0.006047296736606805), (3462, 0.0), (3463, 0.11200047130077911), (3464, 0.012219355748347758), (3465, 0.04277332049847533), (3466, 0.005789281242250853), (3467, 0.006244696209854523), (3468, 0.006905929636969463), (3469, 0.025954248910783725), (3470, 0.02965173247516966), (3471, 0.0), (3472, 0.00814857523372368), (3473, 0.0), (3474, 0.0), (3475, 0.0), (3476, 0.0), (3477, 0.005597772843746279), (3478, 0.0), (3479, 0.0), (3480, 0.010867403777887738), (3481, 0.005367672866067158), (3482, 0.0), (3483, 0.02194059190943412), (3484, 0.015772125130537964), (3485, 0.0), (3486, 0.028594440147400403), (3487, 0.0), (3488, 0.0), (3489, 0.047908684378829815), (3490, 0.0), (3491, 0.005744210131317813), (3492, 0.0), (3493, 0.0), (3494, 0.0), (3495, 0.0), (3496, 0.0), (3497, 0.0), (3498, 0.0), (3499, 0.0), (3500, 0.0), (3501, 0.029619503344369892), (3502, 0.02125466758997578), (3503, 0.0), (3504, 0.02031856907013793), (3505, 0.0), (3506, 0.0), (3507, 0.012325324223053024), (3508, 0.0), (3509, 0.0), (3510, 0.0), (3511, 0.0), (3512, 0.0), (3513, 0.006356717036991955), (3514, 0.006432477579232182), (3515, 0.012145867916970355), (3516, 0.006390366530532842), (3517, 0.0), (3518, 0.01142941226477943), (3519, 0.0), (3520, 0.006166108903680967), (3521, 0.0), (3522, 0.019406246755028715), (3523, 0.0), (3524, 0.0), (3525, 0.005646333351144622), (3526, 0.005851428483971379), (3527, 0.0), (3528, 0.0), (3529, 0.0), (3530, 0.0), (3531, 0.006116120583626079), (3532, 0.006913847302939287), (3533, 0.0), (3534, 0.0), (3535, 0.025619349224760474), (3536, 0.02972550017879831), (3537, 0.0), (3538, 0.0), (3539, 0.0), (3540, 0.0), (3541, 0.021468088091861497), (3542, 0.0), (3543, 0.0), (3544, 0.0), (3545, 0.0), (3546, 0.004285289445754779), (3547, 0.0), (3548, 0.0), (3549, 0.005890909034191479), (3550, 0.0), (3551, 0.005876595664378626), (3552, 0.0), (3553, 0.02192909760772872), (3554, 0.02530655565370056), (3555, 0.00613484545924422), (3556, 0.005448001491175497), (3557, 0.005594636257286961), (3558, 0.0), (3559, 0.024158993537167404), (3560, 0.007069836382070407), (3561, 0.0), (3562, 0.005438306941464661), (3563, 0.005287888811526016), (3564, 0.0), (3565, 0.0), (3566, 0.00558223266047575), (3567, 0.07381729069515378), (3568, 0.01182760343818074), (3569, 0.0), (3570, 0.0), (3571, 0.0), (3572, 0.0), (3573, 0.0), (3574, 0.0), (3575, 0.0), (3576, 0.0), (3577, 0.0067439985365855045), (3578, 0.007095059963778052), (3579, 0.005153504519985128), (3580, 0.0), (3581, 0.0), (3582, 0.04755577592799768), (3583, 0.0), (3584, 0.0), (3585, 0.0), (3586, 0.029490460525511825), (3587, 0.0), (3588, 0.007396942857146739), (3589, 0.011144303030122179), (3590, 0.0), (3591, 0.006494040956709863), (3592, 0.014456192047510759), (3593, 0.07943639623522969), (3594, 0.005748696167062542), (3595, 0.0059911260556175), (3596, 0.012423477992833483), (3597, 0.06697962347966804), (3598, 0.03932118112577356), (3599, 0.005885877903622704), (3600, 0.005923742315271832), (3601, 0.0), (3602, 0.00630258883091303), (3603, 0.0064318080308263656), (3604, 0.0065285967755664785), (3605, 0.006056216791913115), (3606, 0.0), (3607, 0.0), (3608, 0.0), (3609, 0.0), (3610, 0.006658571591635965), (3611, 0.0), (3612, 0.028470482652117175), (3613, 0.0), (3614, 0.0), (3615, 0.0), (3616, 0.006665075579093785), (3617, 0.0), (3618, 0.006274615205269088), (3619, 0.0), (3620, 0.0), (3621, 0.0), (3622, 0.0), (3623, 0.006489707214007871), (3624, 0.0), (3625, 0.0), (3626, 0.004425103435475935), (3627, 0.0), (3628, 0.0), (3629, 0.022936841295941264), (3630, 0.00565112053065187), (3631, 0.0), (3632, 0.0), (3633, 0.005293341047874403), (3634, 0.0), (3635, 0.008276028842362303), (3636, 0.0), (3637, 0.024691101922266204), (3638, 0.0), (3639, 0.026542399978645034), (3640, 0.0), (3641, 0.0), (3642, 0.04095394889020344), (3643, 0.005900429144049816), (3644, 0.0), (3645, 0.022903512248868753), (3646, 0.005442367197565424), (3647, 0.0), (3648, 0.005857707224781131), (3649, 0.0), (3650, 0.005720038599190902), (3651, 0.006427134788176024), (3652, 0.02401981052987981), (3653, 0.0), (3654, 0.012406211114333841), (3655, 0.0051345236516752105), (3656, 0.0), (3657, 0.005436260076714586), (3658, 0.01007832810351848), (3659, 0.02268832925158288), (3660, 0.005906362322387182), (3661, 0.006522938417563287), (3662, 0.0), (3663, 0.0), (3664, 0.0), (3665, 0.0), (3666, 0.022227626067161985), (3667, 0.0), (3668, 0.01018334468514225), (3669, 0.0), (3670, 0.021728656381904892), (3671, 0.0), (3672, 0.0), (3673, 0.0), (3674, 0.004884982402020998), (3675, 0.026233489914931154), (3676, 0.0067013454093666465), (3677, 0.012502751811095874), (3678, 0.005942881245749534), (3679, 0.0), (3680, 0.007173310615905255), (3681, 0.01933531851034016), (3682, 0.0), (3683, 0.0), (3684, 0.043048325205662076), (3685, 0.0), (3686, 0.03481638826275118), (3687, 0.0), (3688, 0.0), (3689, 0.005850304414620968), (3690, 0.017939133685283538), (3691, 0.0), (3692, 0.006702854724893072), (3693, 0.005558044026190495), (3694, 0.023272456908413442), (3695, 0.0), (3696, 0.00548584784484528), (3697, 0.00666272222095072), (3698, 0.04745036927999932), (3699, 0.03507382611527506), (3700, 0.006105955890783167), (3701, 0.00568706274972907), (3702, 0.0), (3703, 0.009155874336866736), (3704, 0.01288304194103061), (3705, 0.0), (3706, 0.005976824431087807), (3707, 0.0), (3708, 0.03243111045795992), (3709, 0.0372513940399509), (3710, 0.04179220203588316), (3711, 0.024482658429867937), (3712, 0.0), (3713, 0.0), (3714, 0.0), (3715, 0.008312076973006172), (3716, 0.0), (3717, 0.0), (3718, 0.011015963233030118), (3719, 0.0), (3720, 0.011681133171927639), (3721, 0.0), (3722, 0.005836749594998201), (3723, 0.005881779352893062), (3724, 0.006539612655637425), (3725, 0.0), (3726, 0.0), (3727, 0.0), (3728, 0.0), (3729, 0.0), (3730, 0.09522391253268006), (3731, 0.022921173061386278), (3732, 0.0), (3733, 0.0), (3734, 0.005993603588808922), (3735, 0.0), (3736, 0.015868516808401286), (3737, 0.0), (3738, 0.005665914029786902), (3739, 0.005594484019499968), (3740, 0.0), (3741, 0.04633626362115099), (3742, 0.08403289892405491), (3743, 0.017558379194448102), (3744, 0.033490318755318535), (3745, 0.0), (3746, 0.005590485516630633), (3747, 0.0064274557381680895), (3748, 0.005039344603653796), (3749, 0.0), (3750, 0.0), (3751, 0.00937491912643318), (3752, 0.00511253592781188), (3753, 0.0), (3754, 0.0), (3755, 0.0), (3756, 0.017968681581168995), (3757, 0.022817285214114157), (3758, 0.0), (3759, 0.0), (3760, 0.0), (3761, 0.0), (3762, 0.0), (3763, 0.0), (3764, 0.0), (3765, 0.01172482035166286), (3766, 0.10179458466683419), (3767, 0.0), (3768, 0.012582884008961147), (3769, 0.038345048756391845), (3770, 0.0), (3771, 0.04617193751862996), (3772, 0.0), (3773, 0.006004488567992215), (3774, 0.0), (3775, 0.019640895180955395), (3776, 0.005430750588443162), (3777, 0.02240540582137992), (3778, 0.018021199767252107), (3779, 0.0), (3780, 0.006153871912960264), (3781, 0.0), (3782, 0.006855379721994874), (3783, 0.0058754917831123745), (3784, 0.011707954026706135), (3785, 0.0), (3786, 0.011652905296105413), (3787, 0.00668463910749271), (3788, 0.0), (3789, 0.0), (3790, 0.0), (3791, 0.0), (3792, 0.0), (3793, 0.0), (3794, 0.026124878646706182), (3795, 0.005862527627559185), (3796, 0.0), (3797, 0.026293082820720043), (3798, 0.006543613611094525), (3799, 0.03905849998973075), (3800, 0.0), (3801, 0.030284577561738288), (3802, 0.006848104278419497), (3803, 0.004973027027719664), (3804, 0.0), (3805, 0.0), (3806, 0.0), (3807, 0.006261541371511745), (3808, 0.0), (3809, 0.0), (3810, 0.0061057133558968385), (3811, 0.0), (3812, 0.0), (3813, 0.0), (3814, 0.006275001483076849), (3815, 0.0), (3816, 0.01305472243869845), (3817, 0.0), (3818, 0.00572679416732469), (3819, 0.00549488281214948), (3820, 0.0), (3821, 0.0048219851490693254), (3822, 0.00607416355975507), (3823, 0.011014919440183018), (3824, 0.0), (3825, 0.005259442889688199), (3826, 0.00541124440419071), (3827, 0.0), (3828, 0.02653554750851913), (3829, 0.0), (3830, 0.0), (3831, 0.0), (3832, 0.0), (3833, 0.0), (3834, 0.0068041113734943846), (3835, 0.0), (3836, 0.0), (3837, 0.0), (3838, 0.0), (3839, 0.0), (3840, 0.006352088944015851), (3841, 0.005274073424861331), (3842, 0.019824770907996146), (3843, 0.0), (3844, 0.0), (3845, 0.0), (3846, 0.006899871210693742), (3847, 0.0), (3848, 0.0), (3849, 0.006411423582065948), (3850, 0.006486030538996311), (3851, 0.0), (3852, 0.047122523273752735), (3853, 0.0), (3854, 0.025139955972286347), (3855, 0.0), (3856, 0.0), (3857, 0.006117312660339084), (3858, 0.006289050439158819), (3859, 0.0), (3860, 0.08851532339011367), (3861, 0.0), (3862, 0.029856185980559485), (3863, 0.0), (3864, 0.0), (3865, 0.0), (3866, 0.006630168298426147), (3867, 0.0), (3868, 0.00554293641273959), (3869, 0.007038561225764562), (3870, 0.006262818580816817), (3871, 0.0), (3872, 0.0), (3873, 0.0), (3874, 0.0), (3875, 0.00929815039460875), (3876, 0.0), (3877, 0.0), (3878, 0.0), (3879, 0.0), (3880, 0.0), (3881, 0.03688735587603702), (3882, 0.0), (3883, 0.0), (3884, 0.0), (3885, 0.0), (3886, 0.0054825281898638915), (3887, 0.0), (3888, 0.0), (3889, 0.0), (3890, 0.032434618859764563), (3891, 0.005439945290687881), (3892, 0.0), (3893, 0.023879419753908265), (3894, 0.00534964836879229), (3895, 0.0), (3896, 0.0), (3897, 0.0062630696850275525), (3898, 0.0), (3899, 0.0), (3900, 0.0), (3901, 0.0), (3902, 0.0), (3903, 0.013019340597418669), (3904, 0.0), (3905, 0.0), (3906, 0.0), (3907, 0.01841429494282698), (3908, 0.00641950242955572), (3909, 0.0), (3910, 0.0), (3911, 0.0), (3912, 0.0), (3913, 0.019436885915622596), (3914, 0.005018982226580324), (3915, 0.0), (3916, 0.0), (3917, 0.005760810878006763), (3918, 0.0), (3919, 0.006063568445921395), (3920, 0.006186344700637025), (3921, 0.012926389389352899), (3922, 0.0), (3923, 0.0056788352955580825), (3924, 0.02935797954940269), (3925, 0.0), (3926, 0.0), (3927, 0.0), (3928, 0.005016251916772617), (3929, 0.0), (3930, 0.012162766141171935), (3931, 0.0), (3932, 0.0), (3933, 0.010566926217936144), (3934, 0.0), (3935, 0.0), (3936, 0.0), (3937, 0.00626578424261728), (3938, 0.0), (3939, 0.0), (3940, 0.0), (3941, 0.01962380916187005), (3942, 0.0), (3943, 0.0), (3944, 0.004975287664217461), (3945, 0.0), (3946, 0.022337379467045948), (3947, 0.03260827583442839), (3948, 0.0), (3949, 0.0), (3950, 0.0), (3951, 0.0), (3952, 0.0), (3953, 0.0), (3954, 0.0), (3955, 0.05066875099176558), (3956, 0.0), (3957, 0.015053313477390232), (3958, 0.0), (3959, 0.028838450149849617), (3960, 0.0), (3961, 0.023322783698481047), (3962, 0.0), (3963, 0.012178752460321395), (3964, 0.0), (3965, 0.033990539414756), (3966, 0.005601707536750732), (3967, 0.0), (3968, 0.006412861318075102), (3969, 0.0), (3970, 0.01079477614280852), (3971, 0.0), (3972, 0.006838972055734338), (3973, 0.0), (3974, 0.0), (3975, 0.0), (3976, 0.0), (3977, 0.0643140884101896), (3978, 0.048689135743775896), (3979, 0.006523593852228509), (3980, 0.01038868529589409), (3981, 0.0), (3982, 0.017792419839372842), (3983, 0.0043844457417589085), (3984, 0.0), (3985, 0.0), (3986, 0.0), (3987, 0.0), (3988, 0.0), (3989, 0.0), (3990, 0.0), (3991, 0.0), (3992, 0.024393817689799646), (3993, 0.02556486948140797), (3994, 0.005540796133511417), (3995, 0.025390719804237148), (3996, 0.0), (3997, 0.0066411158654989776), (3998, 0.011613056556303009), (3999, 0.0), (4000, 0.033630555549622534), (4001, 0.01794092247043368), (4002, 0.0), (4003, 0.0), (4004, 0.021580885451719014), (4005, 0.006546107791192016), (4006, 0.0), (4007, 0.007508526567284093), (4008, 0.0), (4009, 0.0053030036578906575), (4010, 0.0), (4011, 0.0), (4012, 0.02334980637557401), (4013, 0.05587445742247876), (4014, 0.0), (4015, 0.01980233361840611), (4016, 0.0), (4017, 0.0), (4018, 0.0), (4019, 0.0162628571299799), (4020, 0.011629024477647748), (4021, 0.0), (4022, 0.0), (4023, 0.01379638494316471), (4024, 0.0), (4025, 0.005828618023346441), (4026, 0.0), (4027, 0.0), (4028, 0.0), (4029, 0.04334746163513948), (4030, 0.0), (4031, 0.013204241033303157), (4032, 0.01305415141573776), (4033, 0.006506142587864408), (4034, 0.0), (4035, 0.0), (4036, 0.0), (4037, 0.00610636414133488), (4038, 0.03518209276689802), (4039, 0.02682168165469887), (4040, 0.0), (4041, 0.006087546042909069), (4042, 0.0), (4043, 0.0), (4044, 0.0060317664340753824), (4045, 0.018799795706409585), (4046, 0.035534684489012015), (4047, 0.015033616557305736), (4048, 0.024253350033560175), (4049, 0.0), (4050, 0.0), (4051, 0.013604889516683254), (4052, 0.025345887287977348), (4053, 0.0), (4054, 0.0), (4055, 0.015823330866219804), (4056, 0.006417836079041428), (4057, 0.005177533106435131), (4058, 0.0), (4059, 0.028702818425755), (4060, 0.020530592829792436), (4061, 0.012115353241665613), (4062, 0.006619366155578622), (4063, 0.0), (4064, 0.006983142308432027), (4065, 0.0), (4066, 0.0), (4067, 0.0), (4068, 0.033065354301914436), (4069, 0.01150622346987043), (4070, 0.028497894815753128), (4071, 0.011364737085069639), (4072, 0.0), (4073, 0.0), (4074, 0.005052222153359516), (4075, 0.0), (4076, 0.03992815431351958), (4077, 0.041586391107408235), (4078, 0.0), (4079, 0.0), (4080, 0.0), (4081, 0.01180910044849806), (4082, 0.0), (4083, 0.0), (4084, 0.0), (4085, 0.0), (4086, 0.0), (4087, 0.0), (4088, 0.04303409024282685), (4089, 0.012056629607865648), (4090, 0.0), (4091, 0.006541498619305869), (4092, 0.0), (4093, 0.00655731629020201), (4094, 0.01920072266031998), (4095, 0.023495594378486986), (4096, 0.01845692274950083), (4097, 0.012827642498062708), (4098, 0.0067859077597513095), (4099, 0.006119564387725372), (4100, 0.006474397109305644), (4101, 0.0), (4102, 0.0), (4103, 0.006252864738419156), (4104, 0.0), (4105, 0.0), (4106, 0.010535295608764367), (4107, 0.014959279622761109), (4108, 0.006056925705107864), (4109, 0.005113062535803459), (4110, 0.010821180748214192), (4111, 0.0), (4112, 0.07793027522792831), (4113, 0.0), (4114, 0.04899885662304143), (4115, 0.014995700143762794), (4116, 0.0067946852721479335), (4117, 0.014101092739565791), (4118, 0.036762511762892656), (4119, 0.012807120470277357), (4120, 0.0), (4121, 0.031057745296354265), (4122, 0.007844538796928572), (4123, 0.0), (4124, 0.021313551423711823), (4125, 0.0), (4126, 0.0), (4127, 0.0), (4128, 0.006619531779120042), (4129, 0.0), (4130, 0.07468819667195711), (4131, 0.007064746876709133), (4132, 0.0346957103785639), (4133, 0.013317542172455312), (4134, 0.0), (4135, 0.005683601383600838), (4136, 0.005996050196278942), (4137, 0.005584840817918309), (4138, 0.0), (4139, 0.0), (4140, 0.0), (4141, 0.0387930242328622), (4142, 0.00783649825007505), (4143, 0.005162300808037386), (4144, 0.0), (4145, 0.03900473564800783), (4146, 0.0), (4147, 0.0), (4148, 0.006087064042808528), (4149, 0.0), (4150, 0.0), (4151, 0.0), (4152, 0.10104244924877033), (4153, 0.005686584773987683), (4154, 0.0), (4155, 0.005318074923093929), (4156, 0.0048963316975125576), (4157, 0.005611004911470845), (4158, 0.015132596596356736), (4159, 0.0), (4160, 0.0), (4161, 0.0), (4162, 0.0), (4163, 0.0), (4164, 0.030177417014106256), (4165, 0.01960740067756699), (4166, 0.0), (4167, 0.0), (4168, 0.0), (4169, 0.0), (4170, 0.0), (4171, 0.004064255652965253), (4172, 0.0), (4173, 0.0), (4174, 0.005300140439411889), (4175, 0.012503148677407093), (4176, 0.005305884427969222), (4177, 0.0), (4178, 0.06841857315930677), (4179, 0.03467123055553721), (4180, 0.013121564852291998), (4181, 0.019859257586334913), (4182, 0.0), (4183, 0.0), (4184, 0.012014223884166453), (4185, 0.0), (4186, 0.005725416681848224), (4187, 0.042416652216814475), (4188, 0.01894101566963595), (4189, 0.0627185480287887), (4190, 0.031707086489582745), (4191, 0.0), (4192, 0.031121740345234655), (4193, 0.005846582005096653), (4194, 0.006970369103695633), (4195, 0.0), (4196, 0.07643345611169682), (4197, 0.0), (4198, 0.0), (4199, 0.02284856985346647), (4200, 0.010410781403445736), (4201, 0.009833617951056433), (4202, 0.008785943834063854), (4203, 0.0064379287517780425), (4204, 0.0), (4205, 0.010838174177757166), (4206, 0.011720492246153827), (4207, 0.0), (4208, 0.0), (4209, 0.0), (4210, 0.01205386713894847), (4211, 0.006462771835399606), (4212, 0.0), (4213, 0.0), (4214, 0.0), (4215, 0.0), (4216, 0.047317854292640724), (4217, 0.00546651556488142), (4218, 0.005689208123056741), (4219, 0.0), (4220, 0.030827357786933435), (4221, 0.00782449656402193), (4222, 0.01608309958792499), (4223, 0.017294286495952337), (4224, 0.0061934766723254035), (4225, 0.0), (4226, 0.006206430823214029), (4227, 0.023152243922996082), (4228, 0.0), (4229, 0.0), (4230, 0.0), (4231, 0.022733085388337702), (4232, 0.018902148417702543), (4233, 0.022424890324754303), (4234, 0.07232303513470771), (4235, 0.02076354044891732), (4236, 0.03728318591779877), (4237, 0.0), (4238, 0.007088419459860547), (4239, 0.016123125849259443), (4240, 0.0), (4241, 0.0), (4242, 0.03322573256675948), (4243, 0.0), (4244, 0.03266856540279893), (4245, 0.0), (4246, 0.040736373312735656), (4247, 0.0), (4248, 0.006326062555178107), (4249, 0.006682889336077028), (4250, 0.0), (4251, 0.0), (4252, 0.0), (4253, 0.0), (4254, 0.0), (4255, 0.0062667484110735545), (4256, 0.0), (4257, 0.016550147733138117), (4258, 0.0), (4259, 0.0), (4260, 0.0), (4261, 0.020431243455924335), (4262, 0.005947244622060686), (4263, 0.0), (4264, 0.006067564399892352), (4265, 0.005954457141688979), (4266, 0.0), (4267, 0.006539615651092048), (4268, 0.021284865695373634), (4269, 0.020102943721551997), (4270, 0.0), (4271, 0.0), (4272, 0.011236032164849738), (4273, 0.0), (4274, 0.005857960166830086), (4275, 0.0), (4276, 0.007089759575143356), (4277, 0.0), (4278, 0.0), (4279, 0.0), (4280, 0.0), (4281, 0.006536089630708978), (4282, 0.010739282708223595), (4283, 0.011852051087327639), (4284, 0.0), (4285, 0.007203692537628779), (4286, 0.012689609177219837), (4287, 0.0), (4288, 0.022258591168995805), (4289, 0.029306198210915915), (4290, 0.015912122135423416), (4291, 0.0), (4292, 0.0), (4293, 0.007212857712478557), (4294, 0.04657699802220049), (4295, 0.0), (4296, 0.0), (4297, 0.005149063428482682), (4298, 0.0), (4299, 0.0), (4300, 0.0), (4301, 0.05366569409941127), (4302, 0.0), (4303, 0.011745992126964162), (4304, 0.0), (4305, 0.0), (4306, 0.0), (4307, 0.0), (4308, 0.0), (4309, 0.0), (4310, 0.006105875811552855), (4311, 0.0), (4312, 0.025324102481703057), (4313, 0.0), (4314, 0.0), (4315, 0.0), (4316, 0.0), (4317, 0.0), (4318, 0.0), (4319, 0.012327073866694642), (4320, 0.0), (4321, 0.0), (4322, 0.0), (4323, 0.01302587991265405), (4324, 0.0), (4325, 0.03689876927214965), (4326, 0.0), (4327, 0.011292002237334751), (4328, 0.0785593505600844), (4329, 0.0), (4330, 0.036962055375642275), (4331, 0.0), (4332, 0.012055796206381569), (4333, 0.0), (4334, 0.0), (4335, 0.023826131418876004), (4336, 0.0), (4337, 0.0), (4338, 0.012714398037874547), (4339, 0.005463365416013925), (4340, 0.0), (4341, 0.08221122262598282), (4342, 0.0), (4343, 0.0), (4344, 0.009744309934503951), (4345, 0.011485862060093648), (4346, 0.0), (4347, 0.0), (4348, 0.005251168322924821), (4349, 0.0), (4350, 0.0), (4351, 0.006229099933473103), (4352, 0.0), (4353, 0.0054752305736033595), (4354, 0.0), (4355, 0.0), (4356, 0.0), (4357, 0.0), (4358, 0.0), (4359, 0.010976715123167082), (4360, 0.0), (4361, 0.0), (4362, 0.0), (4363, 0.006292458005534223), (4364, 0.0), (4365, 0.0), (4366, 0.019206270020606424), (4367, 0.0), (4368, 0.0), (4369, 0.0), (4370, 0.0), (4371, 0.0), (4372, 0.0), (4373, 0.004755234424142007), (4374, 0.025396559045769297), (4375, 0.0), (4376, 0.005923603467091434), (4377, 0.0), (4378, 0.0), (4379, 0.07403360059906372), (4380, 0.04283946634490259), (4381, 0.0), (4382, 0.0), (4383, 0.0), (4384, 0.006689544245177476), (4385, 0.0), (4386, 0.0), (4387, 0.020780947316919627), (4388, 0.0), (4389, 0.0), (4390, 0.006491762638695024), (4391, 0.0), (4392, 0.00652587184688159), (4393, 0.0), (4394, 0.0), (4395, 0.005920240771173112), (4396, 0.0), (4397, 0.0), (4398, 0.0), (4399, 0.005366852484799798), (4400, 0.0), (4401, 0.012742648881804992), (4402, 0.005231550752612538), (4403, 0.06785184626910264), (4404, 0.01219702986726941), (4405, 0.0), (4406, 0.0181504609978775), (4407, 0.0), (4408, 0.0), (4409, 0.0), (4410, 0.0), (4411, 0.018739650004743688), (4412, 0.0), (4413, 0.0), (4414, 0.004744301743961272), (4415, 0.03511476677237809), (4416, 0.0), (4417, 0.0), (4418, 0.03602938250133939), (4419, 0.006676757049556143), (4420, 0.0), (4421, 0.0), (4422, 0.0), (4423, 0.0), (4424, 0.0), (4425, 0.0), (4426, 0.0), (4427, 0.0), (4428, 0.0), (4429, 0.005640122564614442), (4430, 0.006571057407271252), (4431, 0.012152956508479877), (4432, 0.005387491613909903), (4433, 0.0), (4434, 0.0), (4435, 0.06012991762138998), (4436, 0.035642030543573164), (4437, 0.0), (4438, 0.005547979474216804), (4439, 0.006106315656036658), (4440, 0.00751326461122878), (4441, 0.0), (4442, 0.026092363700409734), (4443, 0.007432982770652252), (4444, 0.008182144576401125), (4445, 0.0), (4446, 0.0), (4447, 0.0059795944207086775), (4448, 0.019531102838086997), (4449, 0.0), (4450, 0.02572433976692739), (4451, 0.0), (4452, 0.0), (4453, 0.007017223534802194), (4454, 0.0), (4455, 0.0), (4456, 0.006358549117535564), (4457, 0.0), (4458, 0.0), (4459, 0.005260290766688209), (4460, 0.03812033918006698), (4461, 0.0), (4462, 0.0469583195824642), (4463, 0.0), (4464, 0.0), (4465, 0.024013536925587903), (4466, 0.0), (4467, 0.005762336600517011), (4468, 0.0), (4469, 0.026949735458143657), (4470, 0.0), (4471, 0.0), (4472, 0.0053870217477142565), (4473, 0.005281410920843997), (4474, 0.03456476278048171), (4475, 0.020871303926964978), (4476, 0.0), (4477, 0.014277434798379687), (4478, 0.0), (4479, 0.0), (4480, 0.0), (4481, 0.026597181482118804), (4482, 0.0), (4483, 0.0), (4484, 0.0), (4485, 0.0), (4486, 0.024342191559222456), (4487, 0.0), (4488, 0.0), (4489, 0.0), (4490, 0.007536268603932325), (4491, 0.0), (4492, 0.0), (4493, 0.006819759100233059), (4494, 0.03189066319779753), (4495, 0.0), (4496, 0.0), (4497, 0.0), (4498, 0.0), (4499, 0.0), (4500, 0.0), (4501, 0.0), (4502, 0.02012517890244674), (4503, 0.02720634859923699), (4504, 0.0055848306482366855), (4505, 0.0), (4506, 0.0), (4507, 0.0), (4508, 0.0), (4509, 0.0060035726565295855), (4510, 0.02229026726319828), (4511, 0.026673874889849604), (4512, 0.03678394740428363), (4513, 0.0), (4514, 0.0), (4515, 0.0061581648662959575), (4516, 0.0), (4517, 0.0), (4518, 0.0), (4519, 0.025316231336764753), (4520, 0.0), (4521, 0.0), (4522, 0.0), (4523, 0.005319136669387808), (4524, 0.0068594675956183855), (4525, 0.0), (4526, 0.0), (4527, 0.0), (4528, 0.0), (4529, 0.0), (4530, 0.0), (4531, 0.03597149102346148), (4532, 0.0), (4533, 0.0), (4534, 0.0059126201304431384), (4535, 0.013310690550336563), (4536, 0.0), (4537, 0.0), (4538, 0.0), (4539, 0.0), (4540, 0.0), (4541, 0.00873515734473977), (4542, 0.0), (4543, 0.006128667664626776), (4544, 0.0), (4545, 0.0), (4546, 0.0), (4547, 0.0), (4548, 0.02615961869904279), (4549, 0.006351978624621223), (4550, 0.006101952043951668), (4551, 0.02854302839361596), (4552, 0.0), (4553, 0.05419713406242992), (4554, 0.024224618721623556), (4555, 0.0), (4556, 0.0), (4557, 0.05125887147582697), (4558, 0.0), (4559, 0.0), (4560, 0.0), (4561, 0.0), (4562, 0.0), (4563, 0.0), (4564, 0.011419533149500255), (4565, 0.0), (4566, 0.0), (4567, 0.0), (4568, 0.005231364792539579), (4569, 0.0), (4570, 0.0), (4571, 0.018116737434147847), (4572, 0.0), (4573, 0.0), (4574, 0.0), (4575, 0.0), (4576, 0.010780160514143097), (4577, 0.0), (4578, 0.0), (4579, 0.0), (4580, 0.0), (4581, 0.0885382317215055), (4582, 0.0), (4583, 0.0), (4584, 0.0), (4585, 0.0), (4586, 0.04200271262370462), (4587, 0.011749128529678472), (4588, 0.0), (4589, 0.020608545450509184), (4590, 0.010435352679734293), (4591, 0.005930887506099618), (4592, 0.005737321475263933), (4593, 0.0), (4594, 0.0), (4595, 0.0), (4596, 0.009817432823162954), (4597, 0.03201801926067599), (4598, 0.0), (4599, 0.0), (4600, 0.011456066740975887), (4601, 0.0), (4602, 0.0894507196403917), (4603, 0.0), (4604, 0.0), (4605, 0.012952017058418903), (4606, 0.00808153671422342), (4607, 0.05438994130483487), (4608, 0.09587671797582446), (4609, 0.006545646667971508), (4610, 0.01798149755460006), (4611, 0.0), (4612, 0.00723644511832249), (4613, 0.005985187798290123), (4614, 0.0), (4615, 0.0), (4616, 0.0), (4617, 0.0), (4618, 0.0), (4619, 0.007435299224762808), (4620, 0.0), (4621, 0.006156029746695665), (4622, 0.0), (4623, 0.020995597015569693), (4624, 0.025547236241367004), (4625, 0.0), (4626, 0.005342033948953492), (4627, 0.0), (4628, 0.0), (4629, 0.012509949879094633), (4630, 0.006654362469725756), (4631, 0.007828460286629394), (4632, 0.0), (4633, 0.07799195027724275), (4634, 0.03181025067925158), (4635, 0.0), (4636, 0.0), (4637, 0.0), (4638, 0.0), (4639, 0.0), (4640, 0.011894218200158716), (4641, 0.0), (4642, 0.007171828104138086), (4643, 0.0), (4644, 0.0), (4645, 0.0), (4646, 0.008205104517557196), (4647, 0.005486504260732302), (4648, 0.0), (4649, 0.005779809462195051), (4650, 0.0), (4651, 0.0), (4652, 0.009251536029129767), (4653, 0.007379409556080472), (4654, 0.0), (4655, 0.0), (4656, 0.023499579330984722), (4657, 0.0), (4658, 0.0256936236035451), (4659, 0.0), (4660, 0.0), (4661, 0.04259650113302919), (4662, 0.0), (4663, 0.0), (4664, 0.0), (4665, 0.0), (4666, 0.0), (4667, 0.0), (4668, 0.0), (4669, 0.03583247459937047), (4670, 0.0), (4671, 0.0), (4672, 0.0), (4673, 0.02663992636457137), (4674, 0.009185518426908955), (4675, 0.0), (4676, 0.006857056634732726), (4677, 0.0), (4678, 0.0), (4679, 0.061252869709182346), (4680, 0.013199557897118375), (4681, 0.0), (4682, 0.011027128824405182), (4683, 0.0), (4684, 0.028007489839942442), (4685, 0.0), (4686, 0.03462387655830683), (4687, 0.005653012598319256), (4688, 0.02683311064462953), (4689, 0.005299116117723816), (4690, 0.016968835849830374), (4691, 0.0), (4692, 0.0), (4693, 0.0), (4694, 0.0), (4695, 0.005945658427233701), (4696, 0.0), (4697, 0.0), (4698, 0.00768384533541647), (4699, 0.0), (4700, 0.0), (4701, 0.0), (4702, 0.0), (4703, 0.0), (4704, 0.0), (4705, 0.009573819909531127), (4706, 0.0), (4707, 0.0), (4708, 0.006245513154761022), (4709, 0.023637514155400066), (4710, 0.0), (4711, 0.0), (4712, 0.024909204213147983), (4713, 0.0), (4714, 0.0), (4715, 0.0), (4716, 0.012705895427726942), (4717, 0.0), (4718, 0.0), (4719, 0.0), (4720, 0.0), (4721, 0.0), (4722, 0.02546765147113617), (4723, 0.007873477519026097), (4724, 0.025327033113107602), (4725, 0.008421062178909627), (4726, 0.0), (4727, 0.023822454907108492), (4728, 0.012581167162288109), (4729, 0.0), (4730, 0.0), (4731, 0.0), (4732, 0.006091754268572556), (4733, 0.005448928550801312), (4734, 0.0), (4735, 0.024734827494788388), (4736, 0.0), (4737, 0.0), (4738, 0.0), (4739, 0.012869116918822037), (4740, 0.0), (4741, 0.0), (4742, 0.00705829844903687), (4743, 0.07107212818945408), (4744, 0.0), (4745, 0.0), (4746, 0.0), (4747, 0.031138693968103034), (4748, 0.004975870880321498), (4749, 0.0), (4750, 0.0), (4751, 0.0), (4752, 0.049655933258678994), (4753, 0.0), (4754, 0.0060154111906738405), (4755, 0.01217182937295425), (4756, 0.0), (4757, 0.0), (4758, 0.0), (4759, 0.0)]\n"
          ]
        }
      ]
    },
    {
      "cell_type": "code",
      "source": [
        "len(Recommendation_Score)"
      ],
      "metadata": {
        "colab": {
          "base_uri": "https://localhost:8080/"
        },
        "id": "lbpg5TcZjrPU",
        "outputId": "b731dde9-15c8-4c50-e670-20a6876fdf59"
      },
      "execution_count": 48,
      "outputs": [
        {
          "output_type": "execute_result",
          "data": {
            "text/plain": [
              "4760"
            ]
          },
          "metadata": {},
          "execution_count": 48
        }
      ]
    },
    {
      "cell_type": "markdown",
      "source": [
        "**Get All movies sort based on the recommendation sort on the basis of favourite movie**"
      ],
      "metadata": {
        "id": "2RwmTPY1kWxs"
      }
    },
    {
      "cell_type": "code",
      "source": [
        "Sorted_similar_movies=sorted(Recommendation_Score,key= lambda x:x[1],reverse=True)\n",
        "print(Sorted_similar_movies)"
      ],
      "metadata": {
        "colab": {
          "base_uri": "https://localhost:8080/"
        },
        "id": "TTESaLLFkBHu",
        "outputId": "5948170d-03bc-4e21-8f5b-bc4ba6ea8047"
      },
      "execution_count": 49,
      "outputs": [
        {
          "output_type": "stream",
          "name": "stdout",
          "text": [
            "[(123, 1.0), (3450, 0.35375496241917814), (68, 0.3355347771253835), (443, 0.2106645906990585), (181, 0.17089932852121503), (162, 0.15753549327801544), (613, 0.15409923072961032), (122, 0.1276575446282435), (180, 0.119579580142478), (2903, 0.11702848693006448), (1127, 0.11432147750237885), (491, 0.11313470939786753), (3463, 0.11200047130077911), (2714, 0.10814022505736742), (323, 0.10788010606588672), (3259, 0.1062770389114296), (2077, 0.10517162572136561), (201, 0.10462595287997034), (1848, 0.10258463241972698), (3766, 0.10179458466683419), (4152, 0.10104244924877033), (461, 0.10066196683414193), (143, 0.10000859207652414), (1735, 0.09961419143288812), (508, 0.09605930211565826), (4608, 0.09587671797582446), (1111, 0.095331450116239), (3730, 0.09522391253268006), (144, 0.09131790532385627), (1922, 0.08991790675632264), (145, 0.08965989286833827), (4602, 0.0894507196403917), (4581, 0.0885382317215055), (3860, 0.08851532339011367), (2944, 0.08840496899929788), (3415, 0.08735793313366877), (3070, 0.08680547454841449), (2477, 0.08654932151245395), (1300, 0.08634526047734906), (571, 0.08592566061568521), (966, 0.08526172329695045), (10, 0.08483051559771485), (3742, 0.08403289892405491), (1341, 0.08392262677145634), (913, 0.08389739894978758), (2963, 0.08329554811515127), (2442, 0.08283559284833063), (2992, 0.08255946333433542), (4341, 0.08221122262598282), (220, 0.08165949595572794), (2113, 0.08027799608302152), (3122, 0.07989606733052244), (3593, 0.07943639623522969), (792, 0.07938009904049187), (4328, 0.0785593505600844), (3365, 0.07855154795708161), (1295, 0.07839994344788169), (4633, 0.07799195027724275), (4112, 0.07793027522792831), (260, 0.0778043782500269), (3453, 0.07737100636397526), (241, 0.0772118897458301), (2464, 0.07649729905088593), (4196, 0.07643345611169682), (745, 0.07634568104701207), (1948, 0.07589954272308408), (2791, 0.07540883157006208), (4130, 0.07468819667195711), (1573, 0.07435782472773532), (2470, 0.07405073329751788), (4379, 0.07403360059906372), (3567, 0.07381729069515378), (2126, 0.07350268043693065), (2960, 0.0728814058539022), (306, 0.07262391553025419), (494, 0.0724293238950098), (4234, 0.07232303513470771), (863, 0.0722410525806215), (1132, 0.0721910568875793), (495, 0.07168806612556503), (1210, 0.07131187585451544), (4743, 0.07107212818945408), (1333, 0.0710336760138721), (2981, 0.07067481274477976), (564, 0.0704643717481814), (1998, 0.07042974694729495), (2652, 0.07037498232879043), (2641, 0.07030984191777419), (1946, 0.06985412287770917), (2784, 0.06979452169604783), (2055, 0.06977834136815733), (184, 0.06847327783822618), (4178, 0.06841857315930677), (842, 0.06823419703734324), (1123, 0.0679303693208616), (4403, 0.06785184626910264), (906, 0.06734961186361763), (2815, 0.06721065549701268), (3597, 0.06697962347966804), (601, 0.06687630160236877), (1102, 0.06686572488020655), (997, 0.06643875790451875), (577, 0.06627446372851752), (829, 0.06600465213944774), (3457, 0.06555004890327874), (1035, 0.06546202816255908), (1413, 0.06528922910131134), (3381, 0.0652332216190294), (651, 0.06488335894998883), (578, 0.06466436667225667), (3977, 0.0643140884101896), (2237, 0.06337031047708085), (1514, 0.06315893634277903), (2013, 0.0630258062505396), (4189, 0.0627185480287887), (3444, 0.06242520490753825), (63, 0.06191861677808122), (2205, 0.061771252958307404), (1321, 0.06148927441197041), (3024, 0.06137817382479481), (1945, 0.06137165798257317), (4679, 0.061252869709182346), (1369, 0.060859107387344194), (967, 0.06060279510546983), (463, 0.06037591453173599), (290, 0.06034910575046902), (434, 0.06024375717970974), (4435, 0.06012991762138998), (2071, 0.05997593372998079), (2020, 0.05993809638461314), (2412, 0.059406725085131416), (2649, 0.05852242450359493), (934, 0.05831283557076969), (496, 0.05799402696256028), (2053, 0.057925940574701726), (1115, 0.05780306391903657), (1821, 0.057684446546772086), (1384, 0.057583613781368274), (1125, 0.05734834474814535), (328, 0.05731537603675439), (2028, 0.05680400155817599), (795, 0.05660630996888794), (4013, 0.05587445742247876), (635, 0.055584803845624906), (1758, 0.05518251593594049), (4607, 0.05438994130483487), (4553, 0.05419713406242992), (350, 0.05378889639398856), (4301, 0.05366569409941127), (3284, 0.05257405964306469), (534, 0.05255989156140996), (2832, 0.052169832292796224), (3154, 0.052046744268063216), (4557, 0.05125887147582697), (2795, 0.05095799034864263), (1112, 0.050904027492559435), (2487, 0.050686704131275545), (3955, 0.05066875099176558), (1652, 0.05065798316568636), (668, 0.050431742090567194), (1542, 0.05037017062128598), (2199, 0.05032100684113002), (669, 0.050231103526796675), (3306, 0.04997488995665048), (2853, 0.049961098437744836), (2695, 0.04994532525914638), (1160, 0.049683260074433036), (4752, 0.049655933258678994), (683, 0.04935141832493622), (4114, 0.04899885662304143), (3097, 0.048992679258848634), (3171, 0.04889086111602654), (2921, 0.04885194054177357), (3978, 0.048689135743775896), (984, 0.048636154441750165), (1290, 0.048502075464724556), (1387, 0.04822554473629426), (1329, 0.047981374770138197), (1814, 0.047967837973312215), (3489, 0.047908684378829815), (305, 0.04788838150536772), (2210, 0.047828847146274105), (1128, 0.04771959391725378), (712, 0.047668070176723185), (2018, 0.04760397759777715), (3582, 0.04755577592799768), (3022, 0.047462044257983664), (3698, 0.04745036927999932), (4216, 0.047317854292640724), (30, 0.04729220521187906), (3852, 0.047122523273752735), (4462, 0.0469583195824642), (1789, 0.04680345171910477), (4294, 0.04657699802220049), (928, 0.04642276514415106), (991, 0.046415984712482566), (18, 0.04636304960460288), (3741, 0.04633626362115099), (3771, 0.04617193751862996), (1707, 0.04588184736335456), (1985, 0.04577168257873285), (3398, 0.04567671661758572), (2403, 0.04564148107761813), (497, 0.04560318712416235), (3135, 0.04557684016595772), (1324, 0.04545668530318543), (2718, 0.045251209769774446), (3432, 0.045130892983981784), (2318, 0.04495675372495746), (879, 0.04488781847170914), (1044, 0.04478977118506368), (368, 0.044727151299272884), (1151, 0.04449371352679574), (1591, 0.044341955411785657), (1259, 0.04406686193816853), (3018, 0.044025194511703725), (1626, 0.04391555667685297), (1810, 0.04389106480401688), (3367, 0.043848520586854525), (2740, 0.043614599090593315), (166, 0.04359054970281435), (1551, 0.043421535583548186), (3436, 0.043374206025975096), (1967, 0.043355869691968786), (4029, 0.04334746163513948), (878, 0.043239338932021074), (3684, 0.043048325205662076), (4088, 0.04303409024282685), (954, 0.042930285843663804), (2645, 0.042895011129312), (1065, 0.04288252297857626), (4380, 0.04283946634490259), (3465, 0.04277332049847533), (4661, 0.04259650113302919), (3403, 0.04255365842320772), (1671, 0.04251768644822914), (4187, 0.042416652216814475), (2501, 0.04239583036604398), (1540, 0.04221392445123983), (170, 0.042144056372284855), (4586, 0.04200271262370462), (3210, 0.041978436136774), (1630, 0.04193221140289718), (1858, 0.04189904466291976), (2546, 0.041851521177360754), (2886, 0.041840743545615386), (1683, 0.04181422126428932), (3710, 0.04179220203588316), (371, 0.04169763023766506), (418, 0.04168562960811081), (4077, 0.041586391107408235), (3181, 0.0414956710118186), (1890, 0.041103190012138864), (891, 0.0410937155815331), (1859, 0.041088104056769284), (948, 0.04095510943039855), (3642, 0.04095394889020344), (1506, 0.04087638176085333), (2529, 0.04075925050495457), (4246, 0.040736373312735656), (1292, 0.04022823303771853), (4076, 0.03992815431351958), (1443, 0.039789579233990666), (947, 0.039495609381175634), (1066, 0.039458446453678644), (1522, 0.03933261745641915), (3598, 0.03932118112577356), (2895, 0.03932085491491054), (1236, 0.0392928090130949), (1090, 0.03926066801297391), (3799, 0.03905849998973075), (4145, 0.03900473564800783), (2024, 0.03895473596063153), (2756, 0.03882220775729556), (4141, 0.0387930242328622), (1350, 0.03856157159365181), (3427, 0.038477573449899896), (3769, 0.038345048756391845), (4460, 0.03812033918006698), (727, 0.03811378891157348), (2079, 0.038028965541101155), (1544, 0.03797402205687296), (517, 0.03782201833025014), (422, 0.03780658452582926), (2642, 0.03771122355268783), (1184, 0.03764384456280201), (2094, 0.037642204922818064), (2826, 0.03762745764539932), (1425, 0.03762371790136656), (425, 0.037611783376831825), (1492, 0.03748510973467075), (207, 0.037336790078560805), (2749, 0.03728774838552043), (4236, 0.03728318591779877), (3709, 0.0372513940399509), (1275, 0.03715309307152949), (1797, 0.03700966200912012), (500, 0.03699243152655577), (3142, 0.03698666570743239), (4330, 0.036962055375642275), (2938, 0.03692077393486783), (1649, 0.03691288480740827), (4325, 0.03689876927214965), (3881, 0.03688735587603702), (441, 0.036870329603425685), (1216, 0.036784072253748315), (4512, 0.03678394740428363), (2275, 0.036776822590403005), (4118, 0.036762511762892656), (1225, 0.03666461240917167), (3043, 0.03663281305174439), (1512, 0.03661615590460725), (2181, 0.03651121119129655), (1412, 0.03650845721808513), (1754, 0.036478389518759674), (6, 0.036424823134481886), (2097, 0.03640684602039394), (547, 0.036384955057134946), (2224, 0.03612774140408049), (1305, 0.03611381585451707), (179, 0.03608724479096581), (4418, 0.03602938250133939), (4531, 0.03597149102346148), (4669, 0.03583247459937047), (3074, 0.03580484399272012), (2731, 0.0357512389518765), (1791, 0.03574116817852955), (2827, 0.035718420292717885), (1395, 0.03566386453105852), (4436, 0.035642030543573164), (4046, 0.035534684489012015), (2016, 0.035282247501862596), (1393, 0.03527236711090471), (3374, 0.03523893667769852), (4038, 0.03518209276689802), (4415, 0.03511476677237809), (3699, 0.03507382611527506), (1253, 0.03506762460554884), (581, 0.03493822437815299), (3686, 0.03481638826275118), (684, 0.034736533522579834), (2296, 0.034698457282977935), (4132, 0.0346957103785639), (4179, 0.03467123055553721), (4686, 0.03462387655830683), (4474, 0.03456476278048171), (654, 0.034544347988961055), (2427, 0.03447989213633559), (2910, 0.03443761208311737), (2065, 0.03435796744669624), (918, 0.03431100315324843), (2996, 0.03429223437289965), (908, 0.03426804940065372), (1339, 0.03422034869336039), (653, 0.034167665672359016), (1599, 0.034118057765039095), (3440, 0.03403710682502122), (239, 0.03403147867330317), (809, 0.033996040624312204), (3965, 0.033990539414756), (3275, 0.033978135223146556), (264, 0.033805338175794536), (1436, 0.033780033578648), (4000, 0.033630555549622534), (904, 0.03361963519363605), (3297, 0.03357215845607398), (3744, 0.033490318755318535), (86, 0.03348004842698074), (685, 0.03336446348462585), (4242, 0.03322573256675948), (2632, 0.03317581097057352), (3111, 0.033144949630757266), (4068, 0.033065354301914436), (3323, 0.033062165315620104), (2131, 0.03305158852113013), (692, 0.03298022135427353), (1459, 0.03294077999494222), (299, 0.03288598286227943), (3, 0.03288140230401829), (1467, 0.032753984376306215), (4244, 0.03266856540279893), (3279, 0.03266161591413875), (2468, 0.032618271602086996), (3947, 0.03260827583442839), (862, 0.032499014413966416), (2093, 0.0324386513148511), (3890, 0.032434618859764563), (3708, 0.03243111045795992), (1921, 0.03227818523679775), (2777, 0.032103684699513954), (4597, 0.03201801926067599), (2107, 0.03196202943911078), (4494, 0.03189066319779753), (530, 0.031815309965480335), (4634, 0.03181025067925158), (1096, 0.031801985028268566), (1343, 0.031744286580222096), (4190, 0.031707086489582745), (1815, 0.03160347348856143), (866, 0.03153808402723327), (915, 0.03144009215351273), (287, 0.03143217493875925), (905, 0.03142184760140598), (2711, 0.03136181957712315), (1460, 0.03133639472871636), (108, 0.03132933151882872), (1314, 0.031248665030316522), (458, 0.031203942272638886), (753, 0.03119873560834897), (3389, 0.031165170705332177), (2110, 0.031159043162359963), (2273, 0.031139860370927294), (4747, 0.031138693968103034), (4192, 0.031121740345234655), (533, 0.031114667639135646), (4121, 0.031057745296354265), (3312, 0.031045953781398926), (682, 0.0310325918129955), (2082, 0.03088804121760253), (757, 0.030838959930819435), (275, 0.030830774943638638), (4220, 0.030827357786933435), (2025, 0.030743579489090504), (240, 0.030645761603953468), (1583, 0.030632688094410276), (950, 0.030452884361903524), (1000, 0.030436597935203622), (3373, 0.030407694756466423), (48, 0.030402499678118807), (380, 0.030326700372260273), (1486, 0.030310919088800188), (3801, 0.030284577561738288), (1162, 0.030278055420321366), (369, 0.030251587571087583), (701, 0.03022785627931249), (1491, 0.030212658783034405), (2158, 0.030209858588717817), (1701, 0.03020667531697619), (4164, 0.030177417014106256), (1141, 0.030168351870570924), (3340, 0.030154072161278515), (1280, 0.030126302154140635), (3163, 0.030116830917379787), (1636, 0.030100643164651202), (1099, 0.030068405969224547), (686, 0.030040156791816278), (210, 0.029977681691856075), (148, 0.029971717920861365), (124, 0.029960185374450908), (1705, 0.02986664476095823), (3862, 0.029856185980559485), (2274, 0.029815361792312256), (874, 0.029795315200787334), (235, 0.029791865716500467), (3536, 0.02972550017879831), (663, 0.029694287494608333), (2931, 0.02968442055568231), (2522, 0.029673734621530324), (2040, 0.029664696465756826), (3470, 0.02965173247516966), (3501, 0.029619503344369892), (1971, 0.029560804794172925), (1278, 0.02953986942294147), (1736, 0.02949238405420022), (3586, 0.029490460525511825), (1328, 0.02948525683690897), (1997, 0.02946978839671401), (1910, 0.02941099828902974), (3119, 0.029396516082829473), (1137, 0.029371100043583887), (1432, 0.029367830050852996), (3924, 0.02935797954940269), (941, 0.02935332952849164), (986, 0.02931525857749065), (2466, 0.02931431550368682), (2780, 0.02931342741389943), (4289, 0.029306198210915915), (228, 0.029286749562414578), (1727, 0.029145844171565693), (2413, 0.02908093042487938), (2675, 0.02906089401961873), (1709, 0.029013821172640866), (2112, 0.029003822732665472), (1853, 0.02892407137604991), (251, 0.02890392144386287), (2370, 0.02886977731904414), (2316, 0.028860206468633444), (1572, 0.028858353776343895), (3959, 0.028838450149849617), (2091, 0.028767414481316863), (1024, 0.028705562159645984), (4059, 0.028702818425755), (2334, 0.02859662667182883), (3486, 0.028594440147400403), (1949, 0.028569987936206125), (4551, 0.02854302839361596), (4070, 0.028497894815753128), (277, 0.028481276807855428), (3612, 0.028470482652117175), (1377, 0.0284677990722557), (733, 0.028457732008215726), (76, 0.028362356237056713), (1185, 0.02831659990393904), (2037, 0.028301860612406506), (2932, 0.028274145780047236), (2713, 0.028264828296009764), (2617, 0.028263767483977437), (244, 0.02823597775057752), (566, 0.028221687858878235), (994, 0.028187159209123926), (131, 0.02812271964661629), (1643, 0.028090837455547264), (1439, 0.028085215921136563), (4684, 0.028007489839942442), (1419, 0.027826799724681182), (1252, 0.02782119842189633), (2867, 0.027819078392302736), (1440, 0.02773881828267699), (516, 0.02772138296288815), (137, 0.027698092948684), (869, 0.027681885881489985), (2212, 0.027620532026015037), (931, 0.027616687067934905), (483, 0.027562955907471126), (3205, 0.02748871064863623), (1455, 0.027452151082366035), (25, 0.027418106398344744), (2665, 0.027418029896372445), (2276, 0.02738043950301982), (1406, 0.02730877776102268), (2221, 0.027262343489648656), (322, 0.027227386052784425), (4503, 0.02720634859923699), (1012, 0.02719808713502105), (2918, 0.02717667700408548), (1937, 0.027117312479822964), (2467, 0.02705259146174415), (1337, 0.02702273861354017), (1527, 0.02702263223962161), (1074, 0.026989573024627893), (4469, 0.026949735458143657), (19, 0.026900783295100622), (4688, 0.02683311064462953), (1552, 0.02682897833799729), (4039, 0.02682168165469887), (105, 0.026785150824757596), (2206, 0.026692649639670357), (4511, 0.026673874889849604), (4673, 0.02663992636457137), (2808, 0.026622523300407753), (1063, 0.026621606136126276), (4481, 0.026597181482118804), (772, 0.026575420696529177), (1325, 0.026567164363008405), (3639, 0.026542399978645034), (3828, 0.02653554750851913), (1230, 0.026500439247206284), (2250, 0.026457757159928846), (2779, 0.026455780265743276), (2174, 0.02645169184964485), (112, 0.02642909274210166), (1665, 0.026381371072930485), (271, 0.026300397695432777), (3797, 0.026293082820720043), (1183, 0.026257163882919238), (870, 0.02625715500400984), (2897, 0.02624518386070681), (1741, 0.026237469751711196), (3675, 0.026233489914931154), (988, 0.026233080830949284), (3276, 0.026208771224775565), (1385, 0.026203848980614786), (4548, 0.02615961869904279), (3794, 0.026124878646706182), (2727, 0.026100499167325632), (4442, 0.026092363700409734), (827, 0.02606368231094767), (1064, 0.026033983453623028), (3232, 0.026032517964954014), (3469, 0.025954248910783725), (2751, 0.025943118031612002), (790, 0.0259430051180577), (1068, 0.025894877567105637), (1360, 0.025776774530551626), (643, 0.02575715628321014), (102, 0.02575507361773622), (4450, 0.02572433976692739), (3019, 0.025715067036531255), (4658, 0.0256936236035451), (316, 0.02565600180143131), (1680, 0.02564843351832562), (3535, 0.025619349224760474), (3357, 0.025617543815121824), (2939, 0.025607327227760174), (3267, 0.02557904685101312), (96, 0.02557097583772799), (3993, 0.02556486948140797), (2406, 0.025564430709970717), (408, 0.025556634378126615), (1714, 0.025554852908345936), (4624, 0.025547236241367004), (4722, 0.02546765147113617), (1058, 0.025457524027117952), (3098, 0.025412410310907498), (4374, 0.025396559045769297), (3995, 0.025390719804237148), (501, 0.02535738879587134), (937, 0.02535554558048361), (4052, 0.025345887287977348), (4724, 0.025327033113107602), (4312, 0.025324102481703057), (4519, 0.025316231336764753), (515, 0.025310050904399948), (3554, 0.02530655565370056), (1053, 0.02530157911622858), (2742, 0.025248155855796567), (426, 0.025201366630053706), (3099, 0.02519822173704834), (3460, 0.025190429910115192), (3854, 0.025139955972286347), (760, 0.025072981760603942), (658, 0.025029056347461436), (4712, 0.024909204213147983), (1498, 0.024901414934387217), (1471, 0.024884544287621442), (3377, 0.02484240736606621), (4735, 0.024734827494788388), (860, 0.024711058566269477), (1348, 0.0246959708597759), (3637, 0.024691101922266204), (2486, 0.024660370637342364), (1806, 0.02454324024050227), (3711, 0.024482658429867937), (3992, 0.024393817689799646), (333, 0.02437223184120117), (1148, 0.024343070436724394), (4486, 0.024342191559222456), (1101, 0.024341484645083993), (2011, 0.02433486619957444), (1816, 0.02430307246619756), (281, 0.02430213237353674), (4048, 0.024253350033560175), (1881, 0.02423253564851169), (4554, 0.024224618721623556), (3559, 0.024158993537167404), (21, 0.02411879074644554), (2638, 0.024112382861358212), (2849, 0.02411183652290206), (1016, 0.024092004292465715), (555, 0.024073259670672705), (2991, 0.024073080439838256), (3652, 0.02401981052987981), (4465, 0.024013536925587903), (2539, 0.024000758812125968), (0, 0.023976542287492707), (2913, 0.023943256631996236), (1674, 0.023902408428905758), (3893, 0.023879419753908265), (295, 0.02385053810331541), (4335, 0.023826131418876004), (4727, 0.023822454907108492), (1678, 0.023811520541907893), (3270, 0.023761832078285534), (2346, 0.023640965688664733), (4709, 0.023637514155400066), (1944, 0.023591382737426808), (1119, 0.02355534579718967), (385, 0.023543323513938154), (3187, 0.023517768824243116), (4656, 0.023499579330984722), (4095, 0.023495594378486986), (254, 0.023472517062385158), (1018, 0.023451727258061363), (1246, 0.023431653590841543), (89, 0.023427411176713524), (2214, 0.023408036387352588), (1716, 0.023371622902517073), (4012, 0.02334980637557401), (2178, 0.02334414407211384), (243, 0.02334006535069486), (3961, 0.023322783698481047), (3192, 0.023309501908491095), (3694, 0.023272456908413442), (2447, 0.0232555106096932), (1371, 0.023234244708988327), (1700, 0.02316445620464793), (4227, 0.023152243922996082), (3110, 0.023098776857861925), (1581, 0.023025866563352478), (667, 0.02298220391989541), (2070, 0.02295662477878864), (568, 0.022956496810602012), (3629, 0.022936841295941264), (3731, 0.022921173061386278), (120, 0.022912115445988257), (3645, 0.022903512248868753), (3158, 0.022879743211418415), (485, 0.02287291693524576), (2239, 0.022871928256255766), (4199, 0.02284856985346647), (675, 0.022817679604611434), (3757, 0.022817285214114157), (896, 0.022808505859918386), (450, 0.022774420215938455), (289, 0.02276834729380408), (1364, 0.02274411014901606), (1320, 0.022734157910419456), (4231, 0.022733085388337702), (1224, 0.022730146253125423), (1874, 0.02271676911733436), (3659, 0.02268832925158288), (2196, 0.022686379772619933), (2978, 0.022681514536182022), (3437, 0.022660558010238245), (1388, 0.02262823657162435), (2235, 0.022623562909004198), (3449, 0.022590789709009806), (2739, 0.02250683742341974), (584, 0.022497799448214364), (3141, 0.022485116961055478), (3086, 0.022460135731268333), (4233, 0.022424890324754303), (3095, 0.022405818282002925), (3777, 0.02240540582137992), (765, 0.02240344015009466), (544, 0.022399147228172853), (429, 0.022395828247729434), (209, 0.022356226391260774), (435, 0.022355549730593446), (3946, 0.022337379467045948), (3245, 0.02233609978864205), (3317, 0.02231798843055976), (221, 0.022316927387363614), (3334, 0.022307513304358758), (4510, 0.02229026726319828), (1585, 0.022266818314434746), (1116, 0.022263986515048642), (1002, 0.022262624719030392), (2919, 0.022260463878764607), (4288, 0.022258591168995805), (263, 0.022238539021803602), (3666, 0.022227626067161985), (1234, 0.02220456099693937), (2254, 0.02219764207998895), (1832, 0.02218049517978449), (51, 0.022172941600790308), (976, 0.02215542868353876), (543, 0.02214440587002785), (2908, 0.022049658467673806), (622, 0.022038885675467825), (3382, 0.022001989138493834), (1258, 0.02198274887164425), (1942, 0.021952212918706717), (3483, 0.02194059190943412), (3553, 0.02192909760772872), (3351, 0.02190789321595511), (2080, 0.021860993047374124), (2934, 0.021859867885706402), (125, 0.021849097302383044), (3155, 0.021796180548637148), (1232, 0.02179492293764382), (502, 0.0217759582207496), (2489, 0.021761623262328868), (1788, 0.021757869757680945), (3670, 0.021728656381904892), (87, 0.021688840806024703), (561, 0.021680818569820067), (1417, 0.021679705397163854), (2284, 0.02166739199875994), (856, 0.021663779875752062), (83, 0.021655653509510746), (202, 0.021611233790785354), (2513, 0.02160788790192479), (4004, 0.021580885451719014), (270, 0.021576366079246796), (2073, 0.021532269069397154), (1579, 0.021523697192754487), (3294, 0.02151361093010693), (3541, 0.021468088091861497), (2961, 0.021461866157822498), (447, 0.021457427903503964), (2279, 0.02145253230888168), (2584, 0.02138662723068836), (1629, 0.021380904317510212), (360, 0.02134658343279957), (106, 0.0213252166805101), (5, 0.02131434107511264), (4124, 0.021313551423711823), (1334, 0.021302570683499857), (1675, 0.021300094895785077), (2738, 0.021288431159577112), (4268, 0.021284865695373634), (1378, 0.02128464091295535), (172, 0.021257431799967058), (3502, 0.02125466758997578), (1970, 0.021253818206081885), (806, 0.02123825767916866), (2031, 0.02121008004295256), (370, 0.0211638972107694), (104, 0.021143781373890422), (1621, 0.021113079353884977), (67, 0.021040591554399427), (212, 0.0210189699314432), (4623, 0.020995597015569693), (756, 0.020982812356515765), (799, 0.02096061482781708), (2280, 0.02094048670268311), (2752, 0.02092682586410501), (2026, 0.02091324337410913), (853, 0.020888411777865268), (4475, 0.020871303926964978), (2216, 0.02083987354291202), (1248, 0.02082587511268114), (3118, 0.02079644048816265), (4387, 0.020780947316919627), (4235, 0.02076354044891732), (396, 0.020728283941424626), (1276, 0.020723327264675115), (1231, 0.02069103674839031), (989, 0.020658028442368668), (803, 0.020633618925483974), (85, 0.020628158697895287), (4589, 0.020608545450509184), (1416, 0.020588515510216517), (2512, 0.020577328625271615), (1332, 0.020545059873836088), (676, 0.02054119622038077), (4060, 0.020530592829792436), (4261, 0.020431243455924335), (620, 0.020430907653357904), (833, 0.020401935746632127), (828, 0.02035204371728045), (3504, 0.02031856907013793), (276, 0.020298403862508634), (2736, 0.020278319331713014), (939, 0.020258845628746563), (3253, 0.02024882127835994), (3221, 0.020234412459836468), (52, 0.020233040857674606), (2023, 0.020167443064751617), (2625, 0.020151398025007976), (4502, 0.02012517890244674), (1992, 0.02010533456486424), (4269, 0.020102943721551997), (2622, 0.020084795166316324), (2871, 0.020080853074724875), (1854, 0.020054211309762145), (236, 0.02003501474355641), (3370, 0.020017147740233228), (128, 0.020011591519713167), (687, 0.019973864356324478), (1061, 0.01996956722066869), (269, 0.019933601016312405), (2119, 0.01988096255860364), (2898, 0.019880678764674264), (4181, 0.019859257586334913), (2741, 0.019842662211984684), (1776, 0.019840761799831658), (3842, 0.019824770907996146), (4015, 0.01980233361840611), (3424, 0.01980113257460081), (723, 0.01973217965923197), (916, 0.019693441453881414), (2607, 0.019672320545188644), (3775, 0.019640895180955395), (3941, 0.01962380916187005), (4165, 0.01960740067756699), (1739, 0.019586331641084025), (303, 0.019568322737185093), (4448, 0.019531102838086997), (1595, 0.01951270436419056), (1799, 0.01947223750393122), (3913, 0.019436885915622596), (3522, 0.019406246755028715), (2874, 0.019394651368203508), (719, 0.01938687595529369), (199, 0.019380463266041176), (2264, 0.019353489002802007), (992, 0.01934852294822872), (3681, 0.01933531851034016), (285, 0.01931915602956217), (801, 0.01928931426521459), (2929, 0.019281524313325072), (149, 0.019233298632233702), (2136, 0.019223966035802398), (4366, 0.019206270020606424), (4094, 0.01920072266031998), (2044, 0.019191031558615096), (3418, 0.01911082429358732), (2774, 0.019109342088042887), (695, 0.01909541781835889), (147, 0.01906031912686349), (2844, 0.019010067418556122), (43, 0.018999319778185936), (1237, 0.01898334699658712), (2602, 0.018944100345637895), (1050, 0.018941896203279598), (4188, 0.01894101566963595), (1266, 0.018905699716916274), (4232, 0.018902148417702543), (3227, 0.018875250439429527), (629, 0.018835430266302744), (1104, 0.018802981885521916), (4045, 0.018799795706409585), (1694, 0.018751337580445504), (4411, 0.018739650004743688), (16, 0.0186645259760439), (2692, 0.018661941356170098), (816, 0.018653815479073993), (1586, 0.01861243227800844), (2817, 0.01860884339250201), (2633, 0.018580924951551114), (1863, 0.018571583292135516), (95, 0.01852812502975589), (2790, 0.018509089343357845), (4096, 0.01845692274950083), (1254, 0.018418778907636466), (3907, 0.01841429494282698), (82, 0.018389436098316884), (609, 0.01836849764016546), (2222, 0.01831436147578991), (93, 0.018236423991702985), (301, 0.01821770663522593), (825, 0.01821733822000836), (2076, 0.01817332173774762), (4406, 0.0181504609978775), (4571, 0.018116737434147847), (1017, 0.01811140488645055), (1195, 0.01810828800500624), (90, 0.018100756568470166), (2950, 0.01805354062504637), (3778, 0.018021199767252107), (2668, 0.017987228145725887), (4610, 0.01798149755460006), (3303, 0.017973668986458236), (3756, 0.017968681581168995), (1317, 0.017964531702062535), (4001, 0.01794092247043368), (3690, 0.017939133685283538), (3982, 0.017792419839372842), (1961, 0.01778155358752527), (1071, 0.017778250788488496), (2787, 0.01775635552567895), (259, 0.017688276612850194), (1721, 0.017683832699244843), (3435, 0.01758996458309136), (942, 0.01756332923087163), (3743, 0.017558379194448102), (2878, 0.01753018458311153), (1657, 0.017524514049792717), (1969, 0.01751593459883887), (749, 0.017503443005079698), (2540, 0.017458714179386235), (1274, 0.017447091846425435), (1592, 0.017397453104258345), (2925, 0.017352398783454796), (4223, 0.017294286495952337), (1738, 0.01722606409018605), (390, 0.017182894529536023), (3397, 0.01716534069624052), (2616, 0.01705252141725005), (837, 0.017033388523893165), (2014, 0.017000750995796197), (1597, 0.016979695552029436), (4690, 0.016968835849830374), (310, 0.01693339102322194), (3293, 0.016796550199409285), (397, 0.01678100860077038), (224, 0.016768447407533617), (2245, 0.016755941465338736), (94, 0.016744292460113126), (1001, 0.01673228272554287), (3399, 0.01669274955568603), (1756, 0.016671689669523357), (486, 0.01663787771203321), (764, 0.016621830442371626), (840, 0.016590266713748244), (2858, 0.016583860255506847), (540, 0.016578505342051554), (4257, 0.016550147733138117), (45, 0.016530898420312547), (742, 0.016511642099126037), (852, 0.01647929072332129), (2680, 0.016469361238244586), (2962, 0.016465011241158685), (911, 0.016460799871237376), (1774, 0.016444788275971345), (935, 0.01642760526520644), (763, 0.016391127204573742), (2920, 0.016374756281298468), (731, 0.016339943618245558), (1861, 0.016306579764631162), (1935, 0.01629113179249954), (4019, 0.0162628571299799), (1270, 0.016145070908514414), (3201, 0.01614255030347648), (4239, 0.016123125849259443), (2404, 0.016104547045779394), (1164, 0.016087757246805612), (1134, 0.016087387914786984), (4222, 0.01608309958792499), (2514, 0.016071977971165358), (1354, 0.016028770575057034), (1106, 0.015921393910640624), (4290, 0.015912122135423416), (3736, 0.015868516808401286), (981, 0.01584604244006585), (35, 0.015831727048241807), (3159, 0.01582663026139287), (4055, 0.015823330866219804), (664, 0.015796554657485112), (3484, 0.015772125130537964), (3009, 0.015684951401083565), (2455, 0.01563556095508964), (2627, 0.015603802318642637), (1584, 0.015596643547553567), (542, 0.015581552803644757), (3108, 0.015574979141018028), (2043, 0.015571488255147167), (3076, 0.01556855457139358), (314, 0.015445947740332396), (1802, 0.015424198634282831), (1850, 0.01541805433360016), (640, 0.01535653897579483), (91, 0.015355596452263481), (130, 0.015302048726923978), (165, 0.015256833453874453), (3354, 0.015253830208710548), (597, 0.015217147806030942), (657, 0.01514513806555818), (1241, 0.01513522225711433), (4158, 0.015132596596356736), (3129, 0.01513046442472942), (455, 0.015116442044635902), (2177, 0.015110434237347335), (2660, 0.015103832467427258), (2363, 0.015079084566622953), (75, 0.015076999858570484), (394, 0.015064796886512938), (3957, 0.015053313477390232), (4047, 0.015033616557305736), (4115, 0.014995700143762794), (2114, 0.014959629450233292), (4107, 0.014959279622761109), (1698, 0.014954085901606868), (1214, 0.014925003483216886), (3448, 0.014833388912429697), (1981, 0.014754836705547232), (1781, 0.014737051684607108), (1845, 0.01470600393957009), (914, 0.014659440549503858), (1925, 0.014648170819968229), (2253, 0.014541737845710865), (3592, 0.014456192047510759), (2581, 0.014370608596977301), (2869, 0.014328709851726736), (2730, 0.014288605156172307), (3239, 0.014284949050928471), (4477, 0.014277434798379687), (706, 0.014240005344853821), (3203, 0.014194910519011044), (4117, 0.014101092739565791), (3345, 0.014095089336782734), (582, 0.014061036360995934), (1637, 0.013996299638603252), (3172, 0.013945664454001437), (1005, 0.013936589090523423), (2000, 0.013927247625404158), (721, 0.013894615949708715), (751, 0.013892147688117694), (949, 0.013846729732886845), (2656, 0.013828265621273603), (4023, 0.01379638494316471), (2134, 0.013781301762058407), (1381, 0.013710442803178671), (614, 0.013681456339866827), (407, 0.013656157526196375), (2474, 0.013633977341150271), (3384, 0.013620201428152286), (4051, 0.013604889516683254), (3008, 0.013588007339820749), (1069, 0.01357139029075996), (2478, 0.013552665435646255), (266, 0.013529750972312628), (452, 0.013487966506830977), (2720, 0.013480715757578768), (2180, 0.013474766322657716), (3385, 0.013471682942695008), (2575, 0.013432640716446042), (424, 0.01338443511220426), (3003, 0.013381645784885222), (1681, 0.013340537799700482), (881, 0.013327524971522862), (4133, 0.013317542172455312), (4535, 0.013310690550336563), (2452, 0.013270927068952632), (3007, 0.013260082079503055), (1968, 0.013253434701141226), (2012, 0.013228818986838281), (2320, 0.01322200977449576), (4031, 0.013204241033303157), (4680, 0.013199557897118375), (4180, 0.013121564852291998), (666, 0.013105625211998085), (1243, 0.013087981092352097), (2561, 0.013079464792535005), (813, 0.013063433253015315), (3816, 0.01305472243869845), (4032, 0.01305415141573776), (2854, 0.013026426239544218), (4323, 0.01302587991265405), (3903, 0.013019340597418669), (1011, 0.013016725473607915), (1265, 0.013013105464672657), (2782, 0.013008933877025095), (919, 0.01299187739681688), (1670, 0.012959948142120854), (1798, 0.012958963260374658), (4605, 0.012952017058418903), (2348, 0.012933606434908325), (3921, 0.012926389389352899), (2485, 0.012917441158880013), (2345, 0.01290709467872417), (340, 0.012888773454986447), (1812, 0.0128848668182457), (3704, 0.01288304194103061), (4739, 0.012869116918822037), (1896, 0.012858949910323273), (1511, 0.012850527673460871), (1089, 0.012840131368901265), (943, 0.01283963899913304), (7, 0.012833806972281928), (206, 0.012829001166457884), (4097, 0.012827642498062708), (2084, 0.012819402536698924), (2930, 0.012811875781726925), (4119, 0.012807120470277357), (2550, 0.01278537515992513), (1452, 0.012762593290678005), (4401, 0.012742648881804992), (1841, 0.012735218926183811), (1955, 0.01273097914926981), (1537, 0.012715926322408366), (3414, 0.012715745498459729), (4338, 0.012714398037874547), (2510, 0.012708348348512088), (4716, 0.012705895427726942), (2662, 0.012697027782983433), (2882, 0.012695861383686051), (4286, 0.012689609177219837), (262, 0.012689573195775246), (3768, 0.012582884008961147), (4728, 0.012581167162288109), (34, 0.012574071548418645), (2630, 0.012567802861552565), (1564, 0.012544174654025696), (1159, 0.012543067834485114), (2566, 0.0125229488207079), (4629, 0.012509949879094633), (4175, 0.012503148677407093), (3677, 0.012502751811095874), (482, 0.012494307672488185), (2495, 0.0124624868815562), (3458, 0.01245016319958599), (2565, 0.012448683289239846), (2531, 0.012448074653794449), (1346, 0.012442665768779386), (1587, 0.01244180543336896), (3596, 0.012423477992833483), (1057, 0.01241970929386424), (2277, 0.012408050031094381), (3654, 0.012406211114333841), (830, 0.012398475535634485), (3234, 0.012397529834584805), (2689, 0.01239078545356116), (1930, 0.012381943537547565), (20, 0.012374019579348519), (1401, 0.012348051914962063), (2319, 0.012336959159142721), (2252, 0.012332550896079332), (4319, 0.012327073866694642), (3507, 0.012325324223053024), (2387, 0.01232213939224781), (748, 0.012303866267776152), (752, 0.012301037061395913), (2148, 0.012295884062329643), (573, 0.012287997501315533), (2940, 0.012285746757429735), (1594, 0.012248219606768362), (1577, 0.012244816639694263), (2586, 0.012240667372928449), (341, 0.012239881065965018), (2444, 0.012236952244855773), (1299, 0.012235343338644419), (1227, 0.012227364374828818), (2814, 0.012223806177641221), (2729, 0.012222334438823014), (3464, 0.012219355748347758), (1697, 0.01221751435366348), (1271, 0.012216879289180848), (2691, 0.012208768290610654), (189, 0.012202586661220814), (4404, 0.01219702986726941), (1645, 0.012190474054201492), (3963, 0.012178752460321395), (1588, 0.012177542362259477), (4755, 0.01217182937295425), (1262, 0.0121712530541618), (3930, 0.012162766141171935), (4431, 0.012152956508479877), (3515, 0.012145867916970355), (71, 0.012125580655677369), (4061, 0.012115353241665613), (1396, 0.012110371642917374), (1179, 0.012093409139354295), (74, 0.012059069785393084), (4089, 0.012056629607865648), (4332, 0.012055796206381569), (4210, 0.01205386713894847), (560, 0.012051301565610087), (923, 0.01204598077989601), (1163, 0.012040128580170393), (1602, 0.012026369062777618), (4184, 0.012014223884166453), (2640, 0.012004568558191752), (2421, 0.01200185425822689), (832, 0.011944121321177996), (2706, 0.011935077985073997), (297, 0.011928689936949075), (3368, 0.01192425097092603), (909, 0.011913095399789325), (718, 0.011912524629565751), (4640, 0.011894218200158716), (3067, 0.01188919973913028), (81, 0.011874942777529424), (864, 0.01186374384524786), (4283, 0.011852051087327639), (3568, 0.01182760343818074), (1338, 0.01182566623076381), (1476, 0.01182038247760564), (446, 0.011816142681896655), (2045, 0.011813663987960271), (4081, 0.01180910044849806), (821, 0.011806842262773233), (1919, 0.011793765007784125), (135, 0.011776416566112325), (490, 0.011775625517092846), (2061, 0.011765262904420632), (1515, 0.011755743943669784), (4587, 0.011749128529678472), (4303, 0.011745992126964162), (3456, 0.011731195276193889), (2121, 0.01172679865682492), (3765, 0.01172482035166286), (4206, 0.011720492246153827), (3784, 0.011707954026706135), (822, 0.011705413450038978), (1906, 0.01168582965698602), (1129, 0.011681316002704877), (3720, 0.011681133171927639), (1257, 0.01167560251532712), (945, 0.011657561546805504), (3786, 0.011652905296105413), (1442, 0.011644607424090889), (2965, 0.011637706033863292), (2582, 0.011633002175695564), (152, 0.011630344435826173), (4020, 0.011629024477647748), (261, 0.011615325827965137), (3998, 0.011613056556303009), (1953, 0.011596507419554257), (39, 0.011594395329236815), (3343, 0.01159243834670587), (2492, 0.011543024286564901), (1105, 0.011535514283221075), (2068, 0.011528388458605397), (1192, 0.011514420768152112), (1494, 0.011509378070572458), (846, 0.011507943648144383), (854, 0.011506934376472457), (4069, 0.01150622346987043), (4345, 0.011485862060093648), (1113, 0.011482117100753461), (4600, 0.011456066740975887), (1510, 0.011451904613449576), (541, 0.011451107652375541), (1517, 0.011450904868563613), (690, 0.011447295341755485), (1496, 0.01143249549522212), (3518, 0.01142941226477943), (2793, 0.011425181738839428), (4564, 0.011419533149500255), (1556, 0.011371481090055612), (1084, 0.011367919373334987), (4071, 0.011364737085069639), (3079, 0.01136030629406049), (1915, 0.011352439660047831), (1191, 0.01135116123404451), (2422, 0.011335858479676749), (300, 0.011325803664441697), (1319, 0.011309722350486924), (4327, 0.011292002237334751), (1220, 0.011259581964859267), (785, 0.011256875914018787), (1651, 0.011255351958911957), (1255, 0.011251378841655703), (1973, 0.011247936066411068), (1368, 0.011243004447165991), (4272, 0.011236032164849738), (768, 0.011234815404036229), (1472, 0.011206690280721411), (492, 0.01119988358954923), (974, 0.011199577398447545), (2862, 0.011199187750283349), (1304, 0.011195796744110842), (1420, 0.011191713748853058), (460, 0.011182834565652357), (1755, 0.01117702488956369), (1087, 0.011164279741857235), (2160, 0.01115048352341216), (3589, 0.011144303030122179), (2763, 0.011130544529858146), (2215, 0.011130019163615192), (1818, 0.011129847557095937), (1895, 0.011118716297541116), (1500, 0.011113055700777773), (963, 0.011111170113293545), (73, 0.011108452643075483), (2272, 0.011095271186943687), (284, 0.011079952180539542), (367, 0.011075924613934862), (1666, 0.01106991165007889), (776, 0.011054074056543906), (2498, 0.011053003714607322), (1118, 0.01104528236187726), (672, 0.011043902952168259), (2102, 0.011039821679865735), (4682, 0.011027128824405182), (3311, 0.011025448736170436), (1200, 0.011020478219950548), (3718, 0.011015963233030118), (3823, 0.011014919440183018), (1468, 0.01101134106944905), (962, 0.010998996500644485), (1173, 0.01097925268669105), (4359, 0.010976715123167082), (780, 0.010970451893002331), (3454, 0.010962571417830915), (2036, 0.01095913203974527), (1054, 0.010957861972475289), (1760, 0.010956710440114639), (2553, 0.010946332741059528), (1840, 0.010946017629432968), (590, 0.0109315657497854), (1825, 0.010930727500456934), (2765, 0.010928565767645745), (1197, 0.010922158314446416), (569, 0.010901822704133843), (1606, 0.010867437707867944), (3480, 0.010867403777887738), (995, 0.010867075079125583), (1668, 0.010862017521179134), (1823, 0.010849373136942224), (1480, 0.010839377578482271), (4205, 0.010838174177757166), (798, 0.010824141709358923), (4110, 0.010821180748214192), (1307, 0.010811401905214077), (327, 0.010809954117597616), (3970, 0.01079477614280852), (4576, 0.010780160514143097), (1219, 0.010775169386300906), (1987, 0.010767529493105197), (2682, 0.010763453239480567), (2058, 0.01075255197708323), (4282, 0.010739282708223595), (2062, 0.010707035671040973), (2771, 0.01070588237138342), (191, 0.010705156039103146), (2175, 0.01070230414002766), (1608, 0.010677193765991178), (2721, 0.010641012398892489), (1291, 0.01063795926330087), (1546, 0.010635143646775078), (1041, 0.010624051437973172), (594, 0.010622961151144321), (1772, 0.010621185993999822), (1033, 0.010619263074941392), (1249, 0.010616029601818627), (1029, 0.01061111748807971), (2168, 0.010606941947668577), (1764, 0.010591437153311383), (1787, 0.010574188584294932), (1352, 0.010570993106076471), (3933, 0.010566926217936144), (214, 0.010562287099451291), (912, 0.010551683155394013), (3420, 0.0105456769735126), (1423, 0.010544689187610062), (4106, 0.010535295608764367), (3336, 0.010532692761302573), (1569, 0.010507967088569454), (895, 0.010495646122331058), (1450, 0.010488491316684367), (2287, 0.010475343471310716), (2005, 0.010471753748945371), (2753, 0.010460930566895173), (779, 0.010456237122330833), (524, 0.010452871275265002), (1982, 0.010441789463912913), (4590, 0.010435352679734293), (4200, 0.010410781403445736), (2236, 0.01040519570919769), (428, 0.010402009626732038), (3980, 0.01038868529589409), (1650, 0.010364095045891605), (3238, 0.010362433460311824), (2762, 0.01031733451415597), (37, 0.010303331307103269), (1046, 0.010282403101632724), (1964, 0.010217777436105543), (2285, 0.010205200473624467), (1301, 0.010204924515307016), (2338, 0.010188836598419314), (3668, 0.01018334468514225), (2724, 0.010173825389399859), (2969, 0.010142783791944956), (2161, 0.01014068668386571), (357, 0.010138917363084182), (2074, 0.010114342911927487), (725, 0.010104348986911415), (78, 0.010086281497726845), (639, 0.01008325716713582), (3658, 0.01007832810351848), (699, 0.010066217759852237), (1535, 0.010041494025055869), (1530, 0.0100388939760513), (222, 0.01003157299389935), (288, 0.010027462515445569), (1039, 0.010017980586831772), (2975, 0.009978193278979652), (249, 0.009961942868783618), (1553, 0.00993317268013548), (538, 0.009923175170010193), (2509, 0.009922302273195169), (88, 0.009870641422292782), (762, 0.00986845729680673), (403, 0.009855442786647824), (469, 0.00983619690116742), (4201, 0.009833617951056433), (4596, 0.009817432823162954), (319, 0.009768797775959577), (1365, 0.009748203681938086), (4344, 0.009744309934503951), (1464, 0.009737239853289389), (3223, 0.009720525686861778), (477, 0.009707887670971459), (738, 0.009700686421787383), (159, 0.009611829176694028), (57, 0.009602940965913244), (1453, 0.009598084585620548), (1883, 0.00959254985284259), (726, 0.00958772071380235), (4705, 0.009573819909531127), (1957, 0.009569559962901597), (3344, 0.00955787077892431), (294, 0.009399469923988869), (3751, 0.00937491912643318), (691, 0.009351053997471043), (2022, 0.009321396060391951), (1418, 0.009316224190133008), (3875, 0.00929815039460875), (4652, 0.009251536029129767), (412, 0.009244040770330322), (4674, 0.009185518426908955), (789, 0.009169840034389434), (3703, 0.009155874336866736), (929, 0.0091319757982516), (2766, 0.009058202393760616), (3115, 0.009004818052871493), (3185, 0.008936913416962922), (3144, 0.008928927274318791), (775, 0.008918781877260477), (2998, 0.008913532645542527), (2376, 0.008904829098082118), (2937, 0.008793202742003462), (4202, 0.008785943834063854), (2064, 0.008762251674272092), (1648, 0.00874158526660191), (4541, 0.00873515734473977), (2667, 0.00864694373376761), (2562, 0.008586401391447515), (996, 0.008564619379572348), (2768, 0.008539920475116673), (2657, 0.008508492897297723), (2659, 0.008501128180111842), (336, 0.008468312667265235), (4725, 0.008421062178909627), (2990, 0.008374355511991196), (1306, 0.008354246815173522), (3715, 0.008312076973006172), (3635, 0.008276028842362303), (2922, 0.008206596155698645), (4646, 0.008205104517557196), (4444, 0.008182144576401125), (553, 0.008173144532245545), (2559, 0.008164685293035559), (3472, 0.00814857523372368), (2600, 0.008082358461388167), (4606, 0.00808153671422342), (2818, 0.008063557713706577), (1939, 0.008047458806538276), (2521, 0.007965523902868673), (330, 0.007956712195788201), (570, 0.007934975522009537), (2075, 0.007889190540966129), (2415, 0.007878912645946074), (4723, 0.007873477519026097), (2534, 0.007864258447251353), (4122, 0.007844538796928572), (4142, 0.00783649825007505), (4631, 0.007828460286629394), (4221, 0.00782449656402193), (3328, 0.007779385640558008), (2568, 0.0077742531627170595), (2864, 0.007702159631892915), (4698, 0.00768384533541647), (3145, 0.007662635058410919), (2530, 0.007639578989936564), (2378, 0.007540999581936246), (2778, 0.0075392277142535035), (4490, 0.007536268603932325), (4440, 0.00751326461122878), (4007, 0.007508526567284093), (3168, 0.007490914535818557), (2567, 0.007471433885822835), (4619, 0.007435299224762808), (4443, 0.007432982770652252), (670, 0.007428701526349056), (2428, 0.00741016367013821), (3588, 0.007396942857146739), (4653, 0.007379409556080472), (2479, 0.007375506854891316), (2772, 0.00735364235862521), (153, 0.007347640104172032), (3165, 0.007347122194925915), (3383, 0.007323019081620747), (3206, 0.007298489077248164), (2188, 0.007287401335841059), (2707, 0.007278764892307257), (3064, 0.00724453775912762), (1547, 0.007243621235647705), (1713, 0.007240197224101198), (4612, 0.00723644511832249), (2459, 0.007227906784022585), (3062, 0.007225295187207383), (3263, 0.007225140846484396), (3419, 0.007219921881302208), (4293, 0.007212857712478557), (2118, 0.00720991943163566), (4285, 0.007203692537628779), (1437, 0.007196600046489175), (3680, 0.007173310615905255), (4642, 0.007171828104138086), (1941, 0.007149937707587918), (1398, 0.007145894488437052), (2676, 0.007135729822707647), (2810, 0.007135644106059084), (787, 0.007133735953967412), (1466, 0.007125690394760642), (2881, 0.007112115258315132), (1708, 0.007109934197312459), (2670, 0.007106098497265435), (1548, 0.007100464162740386), (3059, 0.007095772783573454), (3578, 0.007095059963778052), (4276, 0.007089759575143356), (4238, 0.007088419459860547), (2673, 0.007087748799920357), (1014, 0.007086631299854129), (2164, 0.007074701726282983), (3560, 0.007069836382070407), (4131, 0.007064746876709133), (4742, 0.00705829844903687), (2476, 0.007041283096741378), (512, 0.007040158622976176), (3869, 0.007038561225764562), (69, 0.0070344487941115105), (1560, 0.007031536151725057), (4453, 0.007017223534802194), (3044, 0.007010787136714686), (2547, 0.006991819363715335), (4064, 0.006983142308432027), (2888, 0.006978812151189263), (2493, 0.006974428856478678), (1023, 0.006972153505543956), (40, 0.006970778371952059), (2672, 0.006970449911071795), (4194, 0.006970369103695633), (1240, 0.006958603598822194), (2754, 0.006957250582472727), (2576, 0.00694690903643663), (1208, 0.0069351430227519335), (2943, 0.006933636717107439), (2947, 0.006921382120725862), (3532, 0.006913847302939287), (208, 0.006906828922002645), (3468, 0.006905929636969463), (2710, 0.0069026066690662125), (3846, 0.006899871210693742), (2840, 0.0068973652158854535), (38, 0.006897331206826725), (2843, 0.006879729678714312), (2834, 0.006878798745504065), (2381, 0.006878771854947527), (2356, 0.006873867031074759), (2066, 0.006869508746143575), (4524, 0.0068594675956183855), (514, 0.006857553273237845), (4676, 0.006857056634732726), (3782, 0.006855379721994874), (139, 0.006850361842501742), (537, 0.006849563733322138), (3802, 0.006848104278419497), (716, 0.006848036490769179), (3972, 0.006838972055734338), (4493, 0.006819759100233059), (1091, 0.006813690149496725), (2383, 0.006806467633179177), (3834, 0.0068041113734943846), (4116, 0.0067946852721479335), (2555, 0.00678924679720564), (4098, 0.0067859077597513095), (3191, 0.00678557778002922), (3202, 0.006781756653551437), (2021, 0.006775914228346182), (2361, 0.006774091849880466), (688, 0.006772408109256345), (386, 0.006772060134104521), (1822, 0.006770153024218737), (2243, 0.006758350070433121), (1904, 0.006751983642669926), (3577, 0.0067439985365855045), (1007, 0.006743274993760522), (1894, 0.006739662224028279), (729, 0.006732315502690397), (3112, 0.006728760134407223), (1976, 0.006721594734107038), (1554, 0.006715671821597784), (2880, 0.006710167390299133), (3692, 0.006702854724893072), (3676, 0.0067013454093666465), (3132, 0.006695981927571116), (41, 0.0066929781985278014), (448, 0.006689576058161177), (4384, 0.006689544245177476), (2351, 0.006685201512613787), (550, 0.006684645863809671), (3787, 0.00668463910749271), (4249, 0.006682889336077028), (2860, 0.006681288263657705), (3404, 0.006678583573675323), (2819, 0.006678219195829886), (1687, 0.006677399222045883), (4419, 0.006676757049556143), (2955, 0.006667551403345102), (3438, 0.0066659058464645085), (3616, 0.006665075579093785), (715, 0.006664837015363641), (3697, 0.00666272222095072), (3610, 0.006658571591635965), (1513, 0.006654927536276413), (4630, 0.006654362469725756), (2626, 0.0066528089424940555), (2506, 0.0066512498899105685), (1570, 0.006648047837815039), (3997, 0.0066411158654989776), (2811, 0.006640747865956209), (826, 0.006636597628272957), (3866, 0.006630168298426147), (3310, 0.006625634012383663), (4128, 0.006619531779120042), (4062, 0.006619366155578622), (673, 0.00661908359031633), (3364, 0.006615685955354676), (1174, 0.006602364932338518), (2458, 0.006602287554846361), (1659, 0.006599400022112714), (956, 0.0065967644997680435), (225, 0.006593802152937176), (2085, 0.006590587016845452), (848, 0.006588966785001868), (595, 0.006587336270995171), (1454, 0.006579243023741158), (2088, 0.006575679716424113), (4430, 0.006571057407271252), (2067, 0.006570124488388072), (875, 0.006566441383062435), (2959, 0.0065661452275180415), (728, 0.00656338404911597), (990, 0.006558585234967428), (1732, 0.006558223804822566), (4093, 0.00655731629020201), (872, 0.0065557705132605545), (2015, 0.006553545071160687), (513, 0.006552821183036801), (4005, 0.006546107791192016), (4609, 0.006545646667971508), (3451, 0.006544928946650497), (3798, 0.006543613611094525), (4091, 0.006541498619305869), (232, 0.006541313619819238), (4267, 0.006539615651092048), (3724, 0.006539612655637425), (4281, 0.006536089630708978), (3604, 0.0065285967755664785), (4392, 0.00652587184688159), (3979, 0.006523593852228509), (3661, 0.006522938417563287), (1876, 0.006517826332862262), (1229, 0.006507146799508111), (4033, 0.006506142587864408), (1516, 0.006500696230578127), (2233, 0.006494970677010862), (3591, 0.006494040956709863), (4390, 0.006491762638695024), (2841, 0.006490337837677884), (3623, 0.006489707214007871), (1734, 0.0064862064171452094), (3850, 0.006486030538996311), (599, 0.00648349197876924), (2208, 0.0064829827208254245), (151, 0.006477899775037456), (1725, 0.0064748264916650805), (4100, 0.006474397109305644), (1031, 0.0064719293581377395), (3134, 0.0064718657897398), (2083, 0.00646571480477665), (4211, 0.006462771835399606), (1380, 0.006461248547129019), (118, 0.006455860483516877), (849, 0.006448377122577024), (2032, 0.006443757601116625), (2330, 0.006442826912435389), (1901, 0.006439102122740856), (4203, 0.0064379287517780425), (2554, 0.006436641394990653), (656, 0.006434850354739093), (1015, 0.006434563951104232), (3225, 0.006432756166444579), (3514, 0.006432477579232182), (3603, 0.0064318080308263656), (2081, 0.006429476257010727), (3747, 0.0064274557381680895), (3651, 0.006427134788176024), (3241, 0.006421233616717935), (1150, 0.0064200979378949774), (3908, 0.00641950242955572), (1168, 0.006418635718212539), (4056, 0.006417836079041428), (3968, 0.006412861318075102), (1108, 0.00641230611373049), (3849, 0.006411423582065948), (1887, 0.0063986445174060505), (2339, 0.006397310802361336), (2353, 0.0063966063805008), (2124, 0.006394462851638366), (1640, 0.006392503838200494), (3516, 0.006390366530532842), (1122, 0.006385399383157834), (631, 0.006383882349691196), (231, 0.0063784089484066235), (965, 0.006372043000280229), (1056, 0.00636783754663099), (793, 0.006367572980630093), (320, 0.006359971811259298), (845, 0.006359351308652904), (4456, 0.006358549117535564), (847, 0.006357949406270495), (1244, 0.006357840791717454), (3513, 0.006356717036991955), (1484, 0.0063545259796208495), (1502, 0.00635426175294043), (3840, 0.006352088944015851), (4549, 0.006351978624621223), (3156, 0.006347903185879369), (2518, 0.006347815784155377), (3332, 0.0063449604648985755), (1931, 0.0063408039349212245), (600, 0.006340101441320957), (375, 0.006337935464662931), (1045, 0.0063362607161321334), (3124, 0.006334647473161514), (258, 0.006332361082792043), (2217, 0.006328719838882296), (1847, 0.006328174380978259), (3443, 0.0063260886218746626), (4248, 0.006326062555178107), (1504, 0.006325554907299046), (1335, 0.006325163610372284), (1109, 0.006324194066704932), (2788, 0.006317572610712066), (1469, 0.006311757645617079), (644, 0.0063107424272933815), (2125, 0.006309724051921951), (1322, 0.006302761470314028), (3602, 0.00630258883091303), (3131, 0.006301511333150435), (946, 0.006296180887569361), (4363, 0.006292458005534223), (2560, 0.006291107285823193), (3858, 0.006289050439158819), (3169, 0.00628800557626087), (3814, 0.006275001483076849), (3618, 0.006274615205269088), (592, 0.006267820678162784), (1349, 0.006267072459907334), (4255, 0.0062667484110735545), (3937, 0.00626578424261728), (3897, 0.0062630696850275525), (3870, 0.006262818580816817), (674, 0.006262445669148496), (3807, 0.006261541371511745), (3174, 0.006257415897126571), (12, 0.006256020237645648), (1936, 0.006255124251614214), (902, 0.0062550368412684545), (4103, 0.006252864738419156), (528, 0.0062520577661620705), (3445, 0.006246772540554343), (4708, 0.006245513154761022), (2436, 0.006245467554576037), (1733, 0.006245318880863165), (3467, 0.006244696209854523), (498, 0.00623834113209612), (1740, 0.006235676789409668), (2755, 0.006234839186629999), (714, 0.0062319297659929294), (2873, 0.00623176939547821), (1269, 0.006230712017412546), (4351, 0.006229099933473103), (1536, 0.006227697982428959), (2647, 0.006226439769445904), (1302, 0.0062190460064059944), (2549, 0.006217176388846058), (250, 0.0062163909219055385), (233, 0.006215435963942793), (4226, 0.006206430823214029), (1702, 0.006199284316135554), (3441, 0.006196286224726269), (4224, 0.0061934766723254035), (1952, 0.006189670760729821), (3920, 0.006186344700637025), (1611, 0.006181238064574749), (59, 0.0061798079603892836), (3416, 0.006174353968150697), (1653, 0.006173318025623118), (572, 0.006167406803736014), (737, 0.006166880360668841), (3520, 0.006166108903680967), (615, 0.006165989351629234), (1285, 0.006163690820549314), (2418, 0.006159561251631373), (4515, 0.0061581648662959575), (3277, 0.006156938098596564), (4621, 0.006156029746695665), (539, 0.0061559380147820815), (3780, 0.006153871912960264), (3218, 0.006141434136174433), (677, 0.006140643716375535), (747, 0.006136687033913165), (3555, 0.00613484545924422), (4543, 0.006128667664626776), (1138, 0.006123674580200795), (4099, 0.006119564387725372), (1604, 0.006117630207384234), (3857, 0.006117312660339084), (3531, 0.006116120583626079), (3126, 0.0061158755119308465), (1704, 0.006114537512402874), (2263, 0.0061109314105497236), (2218, 0.006110217775082568), (321, 0.006107652846552503), (1907, 0.00610755619930307), (4037, 0.00610636414133488), (4439, 0.006106315656036658), (1226, 0.0061061262947999205), (3700, 0.006105955890783167), (4310, 0.006105875811552855), (3810, 0.0061057133558968385), (2153, 0.006104036238090493), (1282, 0.006103592067529497), (4550, 0.006101952043951668), (1520, 0.006099856936572601), (467, 0.006098618630544966), (2850, 0.006094967886640837), (1846, 0.006094641212151532), (2052, 0.0060934926690303), (4732, 0.006091754268572556), (1483, 0.006089326149018217), (4041, 0.006087546042909069), (4148, 0.006087064042808528), (2259, 0.006085464473036119), (2951, 0.006084057750704307), (982, 0.006083253998426403), (3822, 0.00607416355975507), (554, 0.006073909661209522), (1696, 0.006073043680959439), (2825, 0.0060712077454017814), (1893, 0.006068627377494005), (1679, 0.006067708947134487), (4264, 0.006067564399892352), (451, 0.006066524795256588), (342, 0.0060647801019810986), (3919, 0.006063568445921395), (4108, 0.006056925705107864), (3161, 0.006056392602528409), (3605, 0.006056216791913115), (2298, 0.006055801319814688), (1718, 0.00605134548477464), (3136, 0.0060505397544382234), (2847, 0.006049108139340773), (1749, 0.006047773953014211), (3461, 0.006047296736606805), (1851, 0.006046814190464354), (1390, 0.00604591990786047), (2232, 0.006045342267817961), (700, 0.0060425918352424255), (2103, 0.00604247040073964), (1315, 0.0060381740714724646), (315, 0.006037577634126855), (3264, 0.006036779452907839), (2911, 0.006035382735513336), (3100, 0.006033814958011986), (532, 0.0060337266380574486), (1495, 0.006032126467790614), (4044, 0.0060317664340753824), (619, 0.0060274050227326565), (1263, 0.006026793326437866), (2432, 0.006024002816667823), (101, 0.006016330078562088), (4754, 0.0060154111906738405), (2147, 0.006011128869778143), (1951, 0.006010042129692103), (704, 0.006009014411773488), (2241, 0.006006062418060018), (3773, 0.006004488567992215), (4509, 0.0060035726565295855), (2634, 0.006000217950497676), (4136, 0.005996050196278942), (472, 0.0059958619018905404), (3734, 0.005993603588808922), (292, 0.005993520201302111), (3595, 0.0059911260556175), (2184, 0.005987192759066699), (4613, 0.005985187798290123), (2712, 0.005980626120569278), (4447, 0.0059795944207086775), (1293, 0.005977371414703159), (3706, 0.005976824431087807), (567, 0.005973803655499911), (2303, 0.0059700927761301556), (890, 0.005969085359579785), (192, 0.005961007621270021), (1207, 0.005955273312834997), (298, 0.00595474659354235), (4265, 0.005954457141688979), (930, 0.0059542248767869834), (2674, 0.005951271036357686), (272, 0.0059484640624382565), (1545, 0.005947696303298747), (4262, 0.005947244622060686), (4695, 0.005945658427233701), (2429, 0.005944211732068305), (2798, 0.005943462423188625), (2117, 0.0059433622333264595), (3678, 0.005942881245749534), (344, 0.005942247987276206), (217, 0.005942047820733577), (2166, 0.005940649985582483), (717, 0.005937992287095916), (781, 0.0059361518804166916), (1135, 0.005934338117136623), (4591, 0.005930887506099618), (84, 0.0059295988815331055), (2816, 0.00592673787055528), (3600, 0.005923742315271832), (4376, 0.005923603467091434), (1154, 0.005922422993690782), (2809, 0.005920907408501605), (4395, 0.005920240771173112), (1796, 0.005917300326388318), (2610, 0.005914563511382589), (3283, 0.005913789330929472), (2900, 0.005913784723103416), (4534, 0.0059126201304431384), (1082, 0.005909892268507339), (11, 0.00590716196734144), (2150, 0.005906665061700753), (3660, 0.005906362322387182), (1006, 0.005904053435986955), (3233, 0.0059034447011735115), (3085, 0.005902139291128215), (3386, 0.005901117370233133), (3643, 0.005900429144049816), (2504, 0.005898277791793501), (1660, 0.005892191338917326), (3549, 0.005890909034191479), (1140, 0.005887746142113745), (1898, 0.005886886393865777), (3599, 0.005885877903622704), (2725, 0.005884348231438279), (1619, 0.005882627298452236), (1478, 0.005881873284991781), (3723, 0.005881779352893062), (2431, 0.005881391362383439), (3551, 0.005876595664378626), (216, 0.005875916516725377), (3783, 0.0058754917831123745), (2072, 0.005867446430809796), (3795, 0.005862527627559185), (2935, 0.005859556138462848), (4274, 0.005857960166830086), (3648, 0.005857707224781131), (661, 0.005851918228314137), (2139, 0.005851691460735611), (3526, 0.005851428483971379), (525, 0.005850636176666984), (3689, 0.005850304414620968), (868, 0.005848397930062312), (1402, 0.0058477753877102575), (4193, 0.005846582005096653), (1688, 0.005844888546689381), (1613, 0.005841481434257773), (2494, 0.00584039736675608), (2971, 0.005836967246358541), (3722, 0.005836749594998201), (2511, 0.00583245671015502), (4025, 0.005828618023346441), (3114, 0.005824625483079968), (3133, 0.005822572296719375), (2424, 0.00581692723788544), (1447, 0.005816119164671041), (2416, 0.005813547853248892), (1155, 0.00581046896856122), (1048, 0.005810226526680202), (1908, 0.005810066916544547), (3125, 0.005808855187495876), (2278, 0.005805115379452345), (1223, 0.0058005017411413), (2899, 0.00579938895144687), (2732, 0.005797786469048815), (169, 0.005797649787656275), (1357, 0.005796884624284365), (1751, 0.005790461536022992), (2246, 0.0057903376610608254), (3466, 0.005789281242250853), (523, 0.0057884679565926665), (92, 0.005786231777887454), (1689, 0.0057858518731750234), (2792, 0.005782155889651526), (28, 0.005782058815911028), (585, 0.005780536458448293), (504, 0.005780182362918258), (4649, 0.005779809462195051), (46, 0.005778232656117236), (971, 0.005776913456528205), (56, 0.005776415233503869), (1076, 0.0057700619795619116), (468, 0.005765737506861655), (4467, 0.005762336600517011), (1411, 0.005760985605875989), (3917, 0.005760810878006763), (3361, 0.005759744561639953), (1146, 0.005758572596733667), (1525, 0.005757686757943192), (1310, 0.005755444145902332), (32, 0.005755106913619246), (2807, 0.005753225899700263), (1461, 0.005752348025420858), (3321, 0.005751803379960983), (897, 0.005751562188603575), (3446, 0.005750851680154101), (3150, 0.005748969747084782), (3594, 0.005748696167062542), (632, 0.005745290330924224), (2003, 0.005745134922191771), (3491, 0.005744210131317813), (3265, 0.005742019534797722), (4592, 0.005737321475263933), (1077, 0.005736392264635695), (1726, 0.005733088548512014), (382, 0.005729865584245749), (2803, 0.005729457102286711), (3818, 0.00572679416732469), (3330, 0.005726098521206177), (4186, 0.005725416681848224), (3650, 0.005720038599190902), (2193, 0.005718358271231137), (529, 0.005716722475190766), (2268, 0.00571194074859405), (2198, 0.005708846532706595), (182, 0.0057043711798013905), (2414, 0.005704064991813306), (548, 0.005704014964890884), (1239, 0.00569563641419741), (1501, 0.005693830958317788), (3073, 0.005693301256077885), (2169, 0.005693183624066924), (2812, 0.005693125167386943), (417, 0.00569174801702879), (736, 0.00569025027395275), (4218, 0.005689208123056741), (2017, 0.005687281811288921), (3701, 0.00568706274972907), (4153, 0.005686584773987683), (4135, 0.005683601383600838), (521, 0.005683498354717011), (3033, 0.005679046050841591), (3923, 0.0056788352955580825), (3193, 0.005677825560568473), (993, 0.00567706243582626), (610, 0.005675726274268651), (2399, 0.005674526909734053), (160, 0.005673646207498789), (347, 0.005672764721239351), (1768, 0.005669409457320354), (1273, 0.005666811630580276), (3738, 0.005665914029786902), (2315, 0.005660730996392219), (2426, 0.005659997457959974), (3143, 0.005655801297261698), (2503, 0.005655008205705154), (4687, 0.005653012598319256), (3630, 0.00565112053065187), (3053, 0.005648794478032127), (769, 0.005646486046541212), (3525, 0.005646333351144622), (2109, 0.005643525977347932), (427, 0.005642416906771385), (2433, 0.005642371293134136), (804, 0.005640147945490906), (4429, 0.005640122564614442), (894, 0.00563454205148885), (2389, 0.005634119191684916), (1627, 0.005633325417257297), (1092, 0.005629929769024664), (1373, 0.005625598342582806), (938, 0.0056236531898282375), (150, 0.00562334767055794), (1526, 0.005622687596130752), (3247, 0.005621698529840364), (1567, 0.005620818183811069), (1022, 0.005619398026760194), (1857, 0.0056150636414483675), (439, 0.00561395998414694), (3237, 0.005612544498690193), (4157, 0.005611004911470845), (2027, 0.005610786009181474), (346, 0.005607590212541702), (1620, 0.00560710416868519), (1809, 0.005602243649692724), (3966, 0.005601707536750732), (2185, 0.0056013526041326245), (3066, 0.005601255015352483), (851, 0.005600024738748956), (565, 0.005598814307312662), (3477, 0.005597772843746279), (3557, 0.005594636257286961), (3739, 0.005594484019499968), (1281, 0.005592793474789869), (3746, 0.005590485516630633), (1794, 0.00558971170081507), (1, 0.0055876866832971035), (4137, 0.005584840817918309), (4504, 0.0055848306482366855), (3566, 0.00558223266047575), (1870, 0.0055813863570333576), (973, 0.005577964123251945), (1366, 0.005577674335524396), (3151, 0.005575884446176774), (1888, 0.005574422976533883), (1059, 0.005571972309242336), (348, 0.005570539303246494), (2167, 0.005569364852784797), (1984, 0.00556467045346559), (379, 0.005562071871854508), (2317, 0.005560862104108572), (1934, 0.0055600638946202135), (2612, 0.005559844899153084), (3693, 0.005558044026190495), (171, 0.0055565297030529745), (80, 0.005553852526783649), (2480, 0.005549352333320846), (2698, 0.005548811360706358), (4438, 0.005547979474216804), (2329, 0.0055478676213168345), (519, 0.0055463925954919065), (3260, 0.005544765127640938), (3868, 0.00554293641273959), (2128, 0.005542265891375436), (3994, 0.005540796133511417), (1431, 0.005540516757692416), (1692, 0.005540006571999346), (2195, 0.005539357093044273), (2056, 0.005538659341238735), (1977, 0.005532480013215976), (2439, 0.005531427009543617), (507, 0.005531341167230215), (72, 0.005524673121601353), (223, 0.005524062612926344), (3065, 0.005522415094033853), (2430, 0.005521484975238648), (2033, 0.005519395611762957), (618, 0.005510526783161336), (29, 0.005509624747381317), (800, 0.005509560430587758), (883, 0.005508671349009545), (1458, 0.005499191642993271), (3121, 0.005497377422374188), (3819, 0.00549488281214948), (1060, 0.005494051597815155), (2227, 0.005493140327783941), (1446, 0.005490986871278473), (3295, 0.005489528265768533), (4647, 0.005486504260732302), (1617, 0.005486247744712585), (3696, 0.00548584784484528), (3011, 0.005483549085437275), (3886, 0.0054825281898638915), (3010, 0.00547893371703526), (119, 0.005477827668848307), (4353, 0.0054752305736033595), (1745, 0.005474998100527573), (2029, 0.0054746520174776174), (1742, 0.005472303779795547), (3407, 0.005471319561651981), (2322, 0.005470053961344437), (1782, 0.0054677827475469055), (4217, 0.00546651556488142), (138, 0.005465792956551231), (4339, 0.005463365416013925), (2409, 0.005462456152705131), (1130, 0.005449324932048878), (4733, 0.005448928550801312), (3556, 0.005448001491175497), (773, 0.0054470897235487205), (3646, 0.005442367197565424), (2446, 0.0054410753395454136), (3046, 0.005440753757034043), (3891, 0.005439945290687881), (3562, 0.005438306941464661), (2820, 0.0054376106524461456), (3657, 0.005436260076714586), (2294, 0.005434546544327349), (3776, 0.005430750588443162), (1793, 0.005429677923650747), (215, 0.005424167641568159), (1988, 0.005423840630285497), (3149, 0.005423637582645691), (334, 0.0054234762711306075), (3083, 0.0054183635604069065), (3320, 0.005416726957101685), (3826, 0.00541124440419071), (2822, 0.00540269094579306), (388, 0.005401490883913287), (1404, 0.005399832407624312), (1778, 0.005399824792460011), (3240, 0.005395221396430026), (2859, 0.005395067724686501), (2892, 0.005389865163360775), (3412, 0.005388926163554151), (4432, 0.005387491613909903), (4472, 0.0053870217477142565), (356, 0.005386748787063562), (2666, 0.005383939494671814), (409, 0.005382126686093896), (3096, 0.005381865915647938), (1493, 0.005378233210761631), (1642, 0.005374258038549285), (3028, 0.005373570435628127), (907, 0.005371801076515792), (3215, 0.005371089808799748), (602, 0.005370503399567923), (3339, 0.005369420772805682), (3481, 0.005367672866067158), (4399, 0.005366852484799798), (1379, 0.005363571293255162), (549, 0.005359466208105073), (1451, 0.005355786550526317), (9, 0.005352478394758193), (3894, 0.00534964836879229), (3447, 0.0053460933125294855), (2631, 0.0053453186926613935), (372, 0.005343984583414865), (345, 0.005342353339945282), (4626, 0.005342033948953492), (2291, 0.005339232782145922), (1309, 0.005336597267488012), (1430, 0.00533646232422144), (1824, 0.005331022239590191), (2552, 0.00532262996511539), (1212, 0.005320248343132376), (4523, 0.005319136669387808), (4155, 0.005318074923093929), (1267, 0.005314939010259553), (1746, 0.005312051471272828), (2954, 0.0053111018495043075), (1682, 0.005310262965551252), (4176, 0.005305884427969222), (234, 0.005303525537894203), (4009, 0.0053030036578906575), (2311, 0.0053015237952760514), (1487, 0.005301305247541202), (3127, 0.005301126465259516), (4174, 0.005300140439411889), (1828, 0.005299119783533519), (4689, 0.005299116117723816), (411, 0.005296837504641027), (3342, 0.0052964861402923814), (1662, 0.005294413503546268), (3633, 0.005293341047874403), (2197, 0.005291414194535239), (3563, 0.005287888811526016), (1308, 0.005284011515313517), (4473, 0.005281410920843997), (3841, 0.005274073424861331), (2367, 0.005273843686935252), (44, 0.005272689939687628), (2491, 0.005271906037789692), (1052, 0.005269062400372309), (3071, 0.005265368732370877), (1555, 0.005264848426497177), (4459, 0.005260290766688209), (3825, 0.005259442889688199), (1482, 0.005259239848964326), (442, 0.005254261022550567), (4348, 0.005251168322924821), (279, 0.005247690010815969), (338, 0.0052463583527554165), (621, 0.005244283772093448), (291, 0.005237223634528737), (14, 0.005236238152654647), (899, 0.005236203476005461), (788, 0.005236026372775561), (4402, 0.005231550752612538), (4568, 0.005231364792539579), (454, 0.005227575854989039), (511, 0.005225079739081431), (1171, 0.005224447426210876), (1521, 0.005223141244540495), (575, 0.005220937596834587), (354, 0.0052186736259793465), (3027, 0.005218391699780155), (2301, 0.005214918212057777), (2608, 0.005214905528597018), (1114, 0.005214803835785171), (1568, 0.005214402328619794), (3459, 0.005212249526567848), (324, 0.005209944275033846), (1503, 0.005208920866458023), (1914, 0.005206783336475085), (3226, 0.005205156952436142), (1010, 0.005204997485544563), (1025, 0.005204928531694705), (1157, 0.005201758153280862), (3213, 0.005201131254954439), (1817, 0.005200847958868958), (2145, 0.005195157239164862), (352, 0.0051941837980356885), (1808, 0.005192220800764892), (2573, 0.0051847402012819), (1477, 0.005181831473312524), (810, 0.005178722554271486), (4057, 0.005177533106435131), (1990, 0.005177133531903788), (1456, 0.005176028383997223), (3405, 0.0051754982173244915), (2525, 0.005172188523785174), (1903, 0.005171088025210271), (1296, 0.005169487365791018), (2855, 0.0051676574817913976), (820, 0.005166768731698982), (744, 0.0051655744047918815), (2615, 0.005165555004742507), (4143, 0.005162300808037386), (2906, 0.005161932920241354), (3411, 0.005154385403303937), (3579, 0.005153504519985128), (4297, 0.005149063428482682), (2697, 0.005148682862795417), (583, 0.005148224483159206), (2262, 0.005147130924353162), (957, 0.0051404412038284055), (1784, 0.0051402913968756426), (885, 0.0051375339622883485), (1728, 0.005137449074618127), (3045, 0.0051368532703527274), (410, 0.005136214140712746), (3655, 0.0051345236516752105), (2611, 0.005127510517353353), (1326, 0.005124737564314834), (1719, 0.005123016847199677), (1994, 0.005120656902013067), (1576, 0.00512043624900092), (2010, 0.0051189489767191915), (3231, 0.0051175468030805185), (1539, 0.005113812572227134), (4109, 0.005113062535803459), (3752, 0.00511253592781188), (722, 0.005109975853538668), (978, 0.005103966238417458), (1762, 0.00510261137221078), (1095, 0.005090007504113005), (898, 0.005087361354335234), (1886, 0.005087348842812061), (2654, 0.005078584355751562), (3327, 0.005072343277360138), (33, 0.005070644183800807), (1312, 0.005065667092317374), (1136, 0.005064291245143141), (4074, 0.005052222153359516), (3748, 0.005039344603653796), (2587, 0.005034803919637344), (2156, 0.005026007331195078), (3914, 0.005018982226580324), (3928, 0.005016251916772617), (3211, 0.005010615110465926), (2078, 0.005010241170748439), (3360, 0.005007775059449405), (3393, 0.005002272300182856), (2646, 0.005001550956370649), (2942, 0.005001037704899565), (2933, 0.004997339723432723), (2801, 0.004980170921115044), (64, 0.004978959242291707), (4748, 0.004975870880321498), (1524, 0.00497534333397183), (3944, 0.004975287664217461), (1465, 0.004974768213227412), (3803, 0.004973027027719664), (97, 0.0049638131468326), (1194, 0.004954382547636932), (545, 0.004953125884514005), (1120, 0.004945418894783459), (60, 0.004932704576665938), (1394, 0.004927434179048991), (3409, 0.004921834886927952), (1215, 0.004909807852444619), (2047, 0.004900318700180829), (1559, 0.004898649068550082), (4156, 0.0048963316975125576), (2767, 0.004895355198467815), (2, 0.004890293732693799), (3674, 0.004884982402020998), (1178, 0.004883840634853291), (2842, 0.004872549561205106), (195, 0.004872328048413997), (2204, 0.004868699211134531), (2603, 0.0048584842616331645), (186, 0.004854928477114085), (2211, 0.004851597721520223), (177, 0.004835020009925364), (924, 0.004828217626793466), (3821, 0.0048219851490693254), (3222, 0.004810511680984598), (2481, 0.004803293015744348), (2526, 0.004802655379501313), (2761, 0.004802613059947104), (1743, 0.004795882985317223), (1221, 0.004790338624723778), (2326, 0.004788255290274819), (2789, 0.004779020503751626), (2985, 0.0047722582812018514), (1691, 0.004771925920028508), (1279, 0.004759504555878158), (4373, 0.004755234424142007), (1950, 0.004750150732461607), (4414, 0.004744301743961272), (3362, 0.004721639911390753), (332, 0.004717574323204688), (2377, 0.004695593323942515), (3152, 0.004634610796673503), (309, 0.004619751546368594), (381, 0.00461081878280064), (1153, 0.004609890030010091), (3410, 0.0046070599271824724), (237, 0.004595926888238549), (2734, 0.004574044835206068), (168, 0.004556895711824122), (807, 0.00455097937425953), (510, 0.004525021591077429), (3199, 0.004506397267796491), (1695, 0.004505095211019635), (3429, 0.004483516573229126), (3316, 0.004447485126040159), (3626, 0.004425103435475935), (2398, 0.0044236083987927366), (562, 0.004419404517575798), (3983, 0.0043844457417589085), (3546, 0.004285289445754779), (2544, 0.004280018733832296), (2636, 0.004254797141448029), (293, 0.004163635352295944), (1351, 0.004159294943949451), (4171, 0.004064255652965253), (1509, 0.003961037704612238), (2443, 0.0038485981997071466), (4, 0.0), (8, 0.0), (13, 0.0), (15, 0.0), (17, 0.0), (22, 0.0), (23, 0.0), (24, 0.0), (26, 0.0), (27, 0.0), (31, 0.0), (36, 0.0), (42, 0.0), (47, 0.0), (49, 0.0), (50, 0.0), (53, 0.0), (54, 0.0), (55, 0.0), (58, 0.0), (61, 0.0), (62, 0.0), (65, 0.0), (66, 0.0), (70, 0.0), (77, 0.0), (79, 0.0), (98, 0.0), (99, 0.0), (100, 0.0), (103, 0.0), (107, 0.0), (109, 0.0), (110, 0.0), (111, 0.0), (113, 0.0), (114, 0.0), (115, 0.0), (116, 0.0), (117, 0.0), (121, 0.0), (126, 0.0), (127, 0.0), (129, 0.0), (132, 0.0), (133, 0.0), (134, 0.0), (136, 0.0), (140, 0.0), (141, 0.0), (142, 0.0), (146, 0.0), (154, 0.0), (155, 0.0), (156, 0.0), (157, 0.0), (158, 0.0), (161, 0.0), (163, 0.0), (164, 0.0), (167, 0.0), (173, 0.0), (174, 0.0), (175, 0.0), (176, 0.0), (178, 0.0), (183, 0.0), (185, 0.0), (187, 0.0), (188, 0.0), (190, 0.0), (193, 0.0), (194, 0.0), (196, 0.0), (197, 0.0), (198, 0.0), (200, 0.0), (203, 0.0), (204, 0.0), (205, 0.0), (211, 0.0), (213, 0.0), (218, 0.0), (219, 0.0), (226, 0.0), (227, 0.0), (229, 0.0), (230, 0.0), (238, 0.0), (242, 0.0), (245, 0.0), (246, 0.0), (247, 0.0), (248, 0.0), (252, 0.0), (253, 0.0), (255, 0.0), (256, 0.0), (257, 0.0), (265, 0.0), (267, 0.0), (268, 0.0), (273, 0.0), (274, 0.0), (278, 0.0), (280, 0.0), (282, 0.0), (283, 0.0), (286, 0.0), (296, 0.0), (302, 0.0), (304, 0.0), (307, 0.0), (308, 0.0), (311, 0.0), (312, 0.0), (313, 0.0), (317, 0.0), (318, 0.0), (325, 0.0), (326, 0.0), (329, 0.0), (331, 0.0), (335, 0.0), (337, 0.0), (339, 0.0), (343, 0.0), (349, 0.0), (351, 0.0), (353, 0.0), (355, 0.0), (358, 0.0), (359, 0.0), (361, 0.0), (362, 0.0), (363, 0.0), (364, 0.0), (365, 0.0), (366, 0.0), (373, 0.0), (374, 0.0), (376, 0.0), (377, 0.0), (378, 0.0), (383, 0.0), (384, 0.0), (387, 0.0), (389, 0.0), (391, 0.0), (392, 0.0), (393, 0.0), (395, 0.0), (398, 0.0), (399, 0.0), (400, 0.0), (401, 0.0), (402, 0.0), (404, 0.0), (405, 0.0), (406, 0.0), (413, 0.0), (414, 0.0), (415, 0.0), (416, 0.0), (419, 0.0), (420, 0.0), (421, 0.0), (423, 0.0), (430, 0.0), (431, 0.0), (432, 0.0), (433, 0.0), (436, 0.0), (437, 0.0), (438, 0.0), (440, 0.0), (444, 0.0), (445, 0.0), (449, 0.0), (453, 0.0), (456, 0.0), (457, 0.0), (459, 0.0), (462, 0.0), (464, 0.0), (465, 0.0), (466, 0.0), (470, 0.0), (471, 0.0), (473, 0.0), (474, 0.0), (475, 0.0), (476, 0.0), (478, 0.0), (479, 0.0), (480, 0.0), (481, 0.0), (484, 0.0), (487, 0.0), (488, 0.0), (489, 0.0), (493, 0.0), (499, 0.0), (503, 0.0), (505, 0.0), (506, 0.0), (509, 0.0), (518, 0.0), (520, 0.0), (522, 0.0), (526, 0.0), (527, 0.0), (531, 0.0), (535, 0.0), (536, 0.0), (546, 0.0), (551, 0.0), (552, 0.0), (556, 0.0), (557, 0.0), (558, 0.0), (559, 0.0), (563, 0.0), (574, 0.0), (576, 0.0), (579, 0.0), (580, 0.0), (586, 0.0), (587, 0.0), (588, 0.0), (589, 0.0), (591, 0.0), (593, 0.0), (596, 0.0), (598, 0.0), (603, 0.0), (604, 0.0), (605, 0.0), (606, 0.0), (607, 0.0), (608, 0.0), (611, 0.0), (612, 0.0), (616, 0.0), (617, 0.0), (623, 0.0), (624, 0.0), (625, 0.0), (626, 0.0), (627, 0.0), (628, 0.0), (630, 0.0), (633, 0.0), (634, 0.0), (636, 0.0), (637, 0.0), (638, 0.0), (641, 0.0), (642, 0.0), (645, 0.0), (646, 0.0), (647, 0.0), (648, 0.0), (649, 0.0), (650, 0.0), (652, 0.0), (655, 0.0), (659, 0.0), (660, 0.0), (662, 0.0), (665, 0.0), (671, 0.0), (678, 0.0), (679, 0.0), (680, 0.0), (681, 0.0), (689, 0.0), (693, 0.0), (694, 0.0), (696, 0.0), (697, 0.0), (698, 0.0), (702, 0.0), (703, 0.0), (705, 0.0), (707, 0.0), (708, 0.0), (709, 0.0), (710, 0.0), (711, 0.0), (713, 0.0), (720, 0.0), (724, 0.0), (730, 0.0), (732, 0.0), (734, 0.0), (735, 0.0), (739, 0.0), (740, 0.0), (741, 0.0), (743, 0.0), (746, 0.0), (750, 0.0), (754, 0.0), (755, 0.0), (758, 0.0), (759, 0.0), (761, 0.0), (766, 0.0), (767, 0.0), (770, 0.0), (771, 0.0), (774, 0.0), (777, 0.0), (778, 0.0), (782, 0.0), (783, 0.0), (784, 0.0), (786, 0.0), (791, 0.0), (794, 0.0), (796, 0.0), (797, 0.0), (802, 0.0), (805, 0.0), (808, 0.0), (811, 0.0), (812, 0.0), (814, 0.0), (815, 0.0), (817, 0.0), (818, 0.0), (819, 0.0), (823, 0.0), (824, 0.0), (831, 0.0), (834, 0.0), (835, 0.0), (836, 0.0), (838, 0.0), (839, 0.0), (841, 0.0), (843, 0.0), (844, 0.0), (850, 0.0), (855, 0.0), (857, 0.0), (858, 0.0), (859, 0.0), (861, 0.0), (865, 0.0), (867, 0.0), (871, 0.0), (873, 0.0), (876, 0.0), (877, 0.0), (880, 0.0), (882, 0.0), (884, 0.0), (886, 0.0), (887, 0.0), (888, 0.0), (889, 0.0), (892, 0.0), (893, 0.0), (900, 0.0), (901, 0.0), (903, 0.0), (910, 0.0), (917, 0.0), (920, 0.0), (921, 0.0), (922, 0.0), (925, 0.0), (926, 0.0), (927, 0.0), (932, 0.0), (933, 0.0), (936, 0.0), (940, 0.0), (944, 0.0), (951, 0.0), (952, 0.0), (953, 0.0), (955, 0.0), (958, 0.0), (959, 0.0), (960, 0.0), (961, 0.0), (964, 0.0), (968, 0.0), (969, 0.0), (970, 0.0), (972, 0.0), (975, 0.0), (977, 0.0), (979, 0.0), (980, 0.0), (983, 0.0), (985, 0.0), (987, 0.0), (998, 0.0), (999, 0.0), (1003, 0.0), (1004, 0.0), (1008, 0.0), (1009, 0.0), (1013, 0.0), (1019, 0.0), (1020, 0.0), (1021, 0.0), (1026, 0.0), (1027, 0.0), (1028, 0.0), (1030, 0.0), (1032, 0.0), (1034, 0.0), (1036, 0.0), (1037, 0.0), (1038, 0.0), (1040, 0.0), (1042, 0.0), (1043, 0.0), (1047, 0.0), (1049, 0.0), (1051, 0.0), (1055, 0.0), (1062, 0.0), (1067, 0.0), (1070, 0.0), (1072, 0.0), (1073, 0.0), (1075, 0.0), (1078, 0.0), (1079, 0.0), (1080, 0.0), (1081, 0.0), (1083, 0.0), (1085, 0.0), (1086, 0.0), (1088, 0.0), (1093, 0.0), (1094, 0.0), (1097, 0.0), (1098, 0.0), (1100, 0.0), (1103, 0.0), (1107, 0.0), (1110, 0.0), (1117, 0.0), (1121, 0.0), (1124, 0.0), (1126, 0.0), (1131, 0.0), (1133, 0.0), (1139, 0.0), (1142, 0.0), (1143, 0.0), (1144, 0.0), (1145, 0.0), (1147, 0.0), (1149, 0.0), (1152, 0.0), (1156, 0.0), (1158, 0.0), (1161, 0.0), (1165, 0.0), (1166, 0.0), (1167, 0.0), (1169, 0.0), (1170, 0.0), (1172, 0.0), (1175, 0.0), (1176, 0.0), (1177, 0.0), (1180, 0.0), (1181, 0.0), (1182, 0.0), (1186, 0.0), (1187, 0.0), (1188, 0.0), (1189, 0.0), (1190, 0.0), (1193, 0.0), (1196, 0.0), (1198, 0.0), (1199, 0.0), (1201, 0.0), (1202, 0.0), (1203, 0.0), (1204, 0.0), (1205, 0.0), (1206, 0.0), (1209, 0.0), (1211, 0.0), (1213, 0.0), (1217, 0.0), (1218, 0.0), (1222, 0.0), (1228, 0.0), (1233, 0.0), (1235, 0.0), (1238, 0.0), (1242, 0.0), (1245, 0.0), (1247, 0.0), (1250, 0.0), (1251, 0.0), (1256, 0.0), (1260, 0.0), (1261, 0.0), (1264, 0.0), (1268, 0.0), (1272, 0.0), (1277, 0.0), (1283, 0.0), (1284, 0.0), (1286, 0.0), (1287, 0.0), (1288, 0.0), (1289, 0.0), (1294, 0.0), (1297, 0.0), (1298, 0.0), (1303, 0.0), (1311, 0.0), (1313, 0.0), (1316, 0.0), (1318, 0.0), (1323, 0.0), (1327, 0.0), (1330, 0.0), (1331, 0.0), (1336, 0.0), (1340, 0.0), (1342, 0.0), (1344, 0.0), (1345, 0.0), (1347, 0.0), (1353, 0.0), (1355, 0.0), (1356, 0.0), (1358, 0.0), (1359, 0.0), (1361, 0.0), (1362, 0.0), (1363, 0.0), (1367, 0.0), (1370, 0.0), (1372, 0.0), (1374, 0.0), (1375, 0.0), (1376, 0.0), (1382, 0.0), (1383, 0.0), (1386, 0.0), (1389, 0.0), (1391, 0.0), (1392, 0.0), (1397, 0.0), (1399, 0.0), (1400, 0.0), (1403, 0.0), (1405, 0.0), (1407, 0.0), (1408, 0.0), (1409, 0.0), (1410, 0.0), (1414, 0.0), (1415, 0.0), (1421, 0.0), (1422, 0.0), (1424, 0.0), (1426, 0.0), (1427, 0.0), (1428, 0.0), (1429, 0.0), (1433, 0.0), (1434, 0.0), (1435, 0.0), (1438, 0.0), (1441, 0.0), (1444, 0.0), (1445, 0.0), (1448, 0.0), (1449, 0.0), (1457, 0.0), (1462, 0.0), (1463, 0.0), (1470, 0.0), (1473, 0.0), (1474, 0.0), (1475, 0.0), (1479, 0.0), (1481, 0.0), (1485, 0.0), (1488, 0.0), (1489, 0.0), (1490, 0.0), (1497, 0.0), (1499, 0.0), (1505, 0.0), (1507, 0.0), (1508, 0.0), (1518, 0.0), (1519, 0.0), (1523, 0.0), (1528, 0.0), (1529, 0.0), (1531, 0.0), (1532, 0.0), (1533, 0.0), (1534, 0.0), (1538, 0.0), (1541, 0.0), (1543, 0.0), (1549, 0.0), (1550, 0.0), (1557, 0.0), (1558, 0.0), (1561, 0.0), (1562, 0.0), (1563, 0.0), (1565, 0.0), (1566, 0.0), (1571, 0.0), (1574, 0.0), (1575, 0.0), (1578, 0.0), (1580, 0.0), (1582, 0.0), (1589, 0.0), (1590, 0.0), (1593, 0.0), (1596, 0.0), (1598, 0.0), (1600, 0.0), (1601, 0.0), (1603, 0.0), (1605, 0.0), (1607, 0.0), (1609, 0.0), (1610, 0.0), (1612, 0.0), (1614, 0.0), (1615, 0.0), (1616, 0.0), (1618, 0.0), (1622, 0.0), (1623, 0.0), (1624, 0.0), (1625, 0.0), (1628, 0.0), (1631, 0.0), (1632, 0.0), (1633, 0.0), (1634, 0.0), (1635, 0.0), (1638, 0.0), (1639, 0.0), (1641, 0.0), (1644, 0.0), (1646, 0.0), (1647, 0.0), (1654, 0.0), (1655, 0.0), (1656, 0.0), (1658, 0.0), (1661, 0.0), (1663, 0.0), (1664, 0.0), (1667, 0.0), (1669, 0.0), (1672, 0.0), (1673, 0.0), (1676, 0.0), (1677, 0.0), (1684, 0.0), (1685, 0.0), (1686, 0.0), (1690, 0.0), (1693, 0.0), (1699, 0.0), (1703, 0.0), (1706, 0.0), (1710, 0.0), (1711, 0.0), (1712, 0.0), (1715, 0.0), (1717, 0.0), (1720, 0.0), (1722, 0.0), (1723, 0.0), (1724, 0.0), (1729, 0.0), (1730, 0.0), (1731, 0.0), (1737, 0.0), (1744, 0.0), (1747, 0.0), (1748, 0.0), (1750, 0.0), (1752, 0.0), (1753, 0.0), (1757, 0.0), (1759, 0.0), (1761, 0.0), (1763, 0.0), (1765, 0.0), (1766, 0.0), (1767, 0.0), (1769, 0.0), (1770, 0.0), (1771, 0.0), (1773, 0.0), (1775, 0.0), (1777, 0.0), (1779, 0.0), (1780, 0.0), (1783, 0.0), (1785, 0.0), (1786, 0.0), (1790, 0.0), (1792, 0.0), (1795, 0.0), (1800, 0.0), (1801, 0.0), (1803, 0.0), (1804, 0.0), (1805, 0.0), (1807, 0.0), (1811, 0.0), (1813, 0.0), (1819, 0.0), (1820, 0.0), (1826, 0.0), (1827, 0.0), (1829, 0.0), (1830, 0.0), (1831, 0.0), (1833, 0.0), (1834, 0.0), (1835, 0.0), (1836, 0.0), (1837, 0.0), (1838, 0.0), (1839, 0.0), (1842, 0.0), (1843, 0.0), (1844, 0.0), (1849, 0.0), (1852, 0.0), (1855, 0.0), (1856, 0.0), (1860, 0.0), (1862, 0.0), (1864, 0.0), (1865, 0.0), (1866, 0.0), (1867, 0.0), (1868, 0.0), (1869, 0.0), (1871, 0.0), (1872, 0.0), (1873, 0.0), (1875, 0.0), (1877, 0.0), (1878, 0.0), (1879, 0.0), (1880, 0.0), (1882, 0.0), (1884, 0.0), (1885, 0.0), (1889, 0.0), (1891, 0.0), (1892, 0.0), (1897, 0.0), (1899, 0.0), (1900, 0.0), (1902, 0.0), (1905, 0.0), (1909, 0.0), (1911, 0.0), (1912, 0.0), (1913, 0.0), (1916, 0.0), (1917, 0.0), (1918, 0.0), (1920, 0.0), (1923, 0.0), (1924, 0.0), (1926, 0.0), (1927, 0.0), (1928, 0.0), (1929, 0.0), (1932, 0.0), (1933, 0.0), (1938, 0.0), (1940, 0.0), (1943, 0.0), (1947, 0.0), (1954, 0.0), (1956, 0.0), (1958, 0.0), (1959, 0.0), (1960, 0.0), (1962, 0.0), (1963, 0.0), (1965, 0.0), (1966, 0.0), (1972, 0.0), (1974, 0.0), (1975, 0.0), (1978, 0.0), (1979, 0.0), (1980, 0.0), (1983, 0.0), (1986, 0.0), (1989, 0.0), (1991, 0.0), (1993, 0.0), (1995, 0.0), (1996, 0.0), (1999, 0.0), (2001, 0.0), (2002, 0.0), (2004, 0.0), (2006, 0.0), (2007, 0.0), (2008, 0.0), (2009, 0.0), (2019, 0.0), (2030, 0.0), (2034, 0.0), (2035, 0.0), (2038, 0.0), (2039, 0.0), (2041, 0.0), (2042, 0.0), (2046, 0.0), (2048, 0.0), (2049, 0.0), (2050, 0.0), (2051, 0.0), (2054, 0.0), (2057, 0.0), (2059, 0.0), (2060, 0.0), (2063, 0.0), (2069, 0.0), (2086, 0.0), (2087, 0.0), (2089, 0.0), (2090, 0.0), (2092, 0.0), (2095, 0.0), (2096, 0.0), (2098, 0.0), (2099, 0.0), (2100, 0.0), (2101, 0.0), (2104, 0.0), (2105, 0.0), (2106, 0.0), (2108, 0.0), (2111, 0.0), (2115, 0.0), (2116, 0.0), (2120, 0.0), (2122, 0.0), (2123, 0.0), (2127, 0.0), (2129, 0.0), (2130, 0.0), (2132, 0.0), (2133, 0.0), (2135, 0.0), (2137, 0.0), (2138, 0.0), (2140, 0.0), (2141, 0.0), (2142, 0.0), (2143, 0.0), (2144, 0.0), (2146, 0.0), (2149, 0.0), (2151, 0.0), (2152, 0.0), (2154, 0.0), (2155, 0.0), (2157, 0.0), (2159, 0.0), (2162, 0.0), (2163, 0.0), (2165, 0.0), (2170, 0.0), (2171, 0.0), (2172, 0.0), (2173, 0.0), (2176, 0.0), (2179, 0.0), (2182, 0.0), (2183, 0.0), (2186, 0.0), (2187, 0.0), (2189, 0.0), (2190, 0.0), (2191, 0.0), (2192, 0.0), (2194, 0.0), (2200, 0.0), (2201, 0.0), (2202, 0.0), (2203, 0.0), (2207, 0.0), (2209, 0.0), (2213, 0.0), (2219, 0.0), (2220, 0.0), (2223, 0.0), (2225, 0.0), (2226, 0.0), (2228, 0.0), (2229, 0.0), (2230, 0.0), (2231, 0.0), (2234, 0.0), (2238, 0.0), (2240, 0.0), (2242, 0.0), (2244, 0.0), (2247, 0.0), (2248, 0.0), (2249, 0.0), (2251, 0.0), (2255, 0.0), (2256, 0.0), (2257, 0.0), (2258, 0.0), (2260, 0.0), (2261, 0.0), (2265, 0.0), (2266, 0.0), (2267, 0.0), (2269, 0.0), (2270, 0.0), (2271, 0.0), (2281, 0.0), (2282, 0.0), (2283, 0.0), (2286, 0.0), (2288, 0.0), (2289, 0.0), (2290, 0.0), (2292, 0.0), (2293, 0.0), (2295, 0.0), (2297, 0.0), (2299, 0.0), (2300, 0.0), (2302, 0.0), (2304, 0.0), (2305, 0.0), (2306, 0.0), (2307, 0.0), (2308, 0.0), (2309, 0.0), (2310, 0.0), (2312, 0.0), (2313, 0.0), (2314, 0.0), (2321, 0.0), (2323, 0.0), (2324, 0.0), (2325, 0.0), (2327, 0.0), (2328, 0.0), (2331, 0.0), (2332, 0.0), (2333, 0.0), (2335, 0.0), (2336, 0.0), (2337, 0.0), (2340, 0.0), (2341, 0.0), (2342, 0.0), (2343, 0.0), (2344, 0.0), (2347, 0.0), (2349, 0.0), (2350, 0.0), (2352, 0.0), (2354, 0.0), (2355, 0.0), (2357, 0.0), (2358, 0.0), (2359, 0.0), (2360, 0.0), (2362, 0.0), (2364, 0.0), (2365, 0.0), (2366, 0.0), (2368, 0.0), (2369, 0.0), (2371, 0.0), (2372, 0.0), (2373, 0.0), (2374, 0.0), (2375, 0.0), (2379, 0.0), (2380, 0.0), (2382, 0.0), (2384, 0.0), (2385, 0.0), (2386, 0.0), (2388, 0.0), (2390, 0.0), (2391, 0.0), (2392, 0.0), (2393, 0.0), (2394, 0.0), (2395, 0.0), (2396, 0.0), (2397, 0.0), (2400, 0.0), (2401, 0.0), (2402, 0.0), (2405, 0.0), (2407, 0.0), (2408, 0.0), (2410, 0.0), (2411, 0.0), (2417, 0.0), (2419, 0.0), (2420, 0.0), (2423, 0.0), (2425, 0.0), (2434, 0.0), (2435, 0.0), (2437, 0.0), (2438, 0.0), (2440, 0.0), (2441, 0.0), (2445, 0.0), (2448, 0.0), (2449, 0.0), (2450, 0.0), (2451, 0.0), (2453, 0.0), (2454, 0.0), (2456, 0.0), (2457, 0.0), (2460, 0.0), (2461, 0.0), (2462, 0.0), (2463, 0.0), (2465, 0.0), (2469, 0.0), (2471, 0.0), (2472, 0.0), (2473, 0.0), (2475, 0.0), (2482, 0.0), (2483, 0.0), (2484, 0.0), (2488, 0.0), (2490, 0.0), (2496, 0.0), (2497, 0.0), (2499, 0.0), (2500, 0.0), (2502, 0.0), (2505, 0.0), (2507, 0.0), (2508, 0.0), (2515, 0.0), (2516, 0.0), (2517, 0.0), (2519, 0.0), (2520, 0.0), (2523, 0.0), (2524, 0.0), (2527, 0.0), (2528, 0.0), (2532, 0.0), (2533, 0.0), (2535, 0.0), (2536, 0.0), (2537, 0.0), (2538, 0.0), (2541, 0.0), (2542, 0.0), (2543, 0.0), (2545, 0.0), (2548, 0.0), (2551, 0.0), (2556, 0.0), (2557, 0.0), (2558, 0.0), (2563, 0.0), (2564, 0.0), (2569, 0.0), (2570, 0.0), (2571, 0.0), (2572, 0.0), (2574, 0.0), (2577, 0.0), (2578, 0.0), (2579, 0.0), (2580, 0.0), (2583, 0.0), (2585, 0.0), (2588, 0.0), (2589, 0.0), (2590, 0.0), (2591, 0.0), (2592, 0.0), (2593, 0.0), (2594, 0.0), (2595, 0.0), (2596, 0.0), (2597, 0.0), (2598, 0.0), (2599, 0.0), (2601, 0.0), (2604, 0.0), (2605, 0.0), (2606, 0.0), (2609, 0.0), (2613, 0.0), (2614, 0.0), (2618, 0.0), (2619, 0.0), (2620, 0.0), (2621, 0.0), (2623, 0.0), (2624, 0.0), (2628, 0.0), (2629, 0.0), (2635, 0.0), (2637, 0.0), (2639, 0.0), (2643, 0.0), (2644, 0.0), (2648, 0.0), (2650, 0.0), (2651, 0.0), (2653, 0.0), (2655, 0.0), (2658, 0.0), (2661, 0.0), (2663, 0.0), (2664, 0.0), (2669, 0.0), (2671, 0.0), (2677, 0.0), (2678, 0.0), (2679, 0.0), (2681, 0.0), (2683, 0.0), (2684, 0.0), (2685, 0.0), (2686, 0.0), (2687, 0.0), (2688, 0.0), (2690, 0.0), (2693, 0.0), (2694, 0.0), (2696, 0.0), (2699, 0.0), (2700, 0.0), (2701, 0.0), (2702, 0.0), (2703, 0.0), (2704, 0.0), (2705, 0.0), (2708, 0.0), (2709, 0.0), (2715, 0.0), (2716, 0.0), (2717, 0.0), (2719, 0.0), (2722, 0.0), (2723, 0.0), (2726, 0.0), (2728, 0.0), (2733, 0.0), (2735, 0.0), (2737, 0.0), (2743, 0.0), (2744, 0.0), (2745, 0.0), (2746, 0.0), (2747, 0.0), (2748, 0.0), (2750, 0.0), (2757, 0.0), (2758, 0.0), (2759, 0.0), (2760, 0.0), (2764, 0.0), (2769, 0.0), (2770, 0.0), (2773, 0.0), (2775, 0.0), (2776, 0.0), (2781, 0.0), (2783, 0.0), (2785, 0.0), (2786, 0.0), (2794, 0.0), (2796, 0.0), (2797, 0.0), (2799, 0.0), (2800, 0.0), (2802, 0.0), (2804, 0.0), (2805, 0.0), (2806, 0.0), (2813, 0.0), (2821, 0.0), (2823, 0.0), (2824, 0.0), (2828, 0.0), (2829, 0.0), (2830, 0.0), (2831, 0.0), (2833, 0.0), (2835, 0.0), (2836, 0.0), (2837, 0.0), (2838, 0.0), (2839, 0.0), (2845, 0.0), (2846, 0.0), (2848, 0.0), (2851, 0.0), (2852, 0.0), (2856, 0.0), (2857, 0.0), (2861, 0.0), (2863, 0.0), (2865, 0.0), (2866, 0.0), (2868, 0.0), (2870, 0.0), (2872, 0.0), (2875, 0.0), (2876, 0.0), (2877, 0.0), (2879, 0.0), (2883, 0.0), (2884, 0.0), (2885, 0.0), (2887, 0.0), (2889, 0.0), (2890, 0.0), (2891, 0.0), (2893, 0.0), (2894, 0.0), (2896, 0.0), (2901, 0.0), (2902, 0.0), (2904, 0.0), (2905, 0.0), (2907, 0.0), (2909, 0.0), (2912, 0.0), (2914, 0.0), (2915, 0.0), (2916, 0.0), (2917, 0.0), (2923, 0.0), (2924, 0.0), (2926, 0.0), (2927, 0.0), (2928, 0.0), (2936, 0.0), (2941, 0.0), (2945, 0.0), (2946, 0.0), (2948, 0.0), (2949, 0.0), (2952, 0.0), (2953, 0.0), (2956, 0.0), (2957, 0.0), (2958, 0.0), (2964, 0.0), (2966, 0.0), (2967, 0.0), (2968, 0.0), (2970, 0.0), (2972, 0.0), (2973, 0.0), (2974, 0.0), (2976, 0.0), (2977, 0.0), (2979, 0.0), (2980, 0.0), (2982, 0.0), (2983, 0.0), (2984, 0.0), (2986, 0.0), (2987, 0.0), (2988, 0.0), (2989, 0.0), (2993, 0.0), (2994, 0.0), (2995, 0.0), (2997, 0.0), (2999, 0.0), (3000, 0.0), (3001, 0.0), (3002, 0.0), (3004, 0.0), (3005, 0.0), (3006, 0.0), (3012, 0.0), (3013, 0.0), (3014, 0.0), (3015, 0.0), (3016, 0.0), (3017, 0.0), (3020, 0.0), (3021, 0.0), (3023, 0.0), (3025, 0.0), (3026, 0.0), (3029, 0.0), (3030, 0.0), (3031, 0.0), (3032, 0.0), (3034, 0.0), (3035, 0.0), (3036, 0.0), (3037, 0.0), (3038, 0.0), (3039, 0.0), (3040, 0.0), (3041, 0.0), (3042, 0.0), (3047, 0.0), (3048, 0.0), (3049, 0.0), (3050, 0.0), (3051, 0.0), (3052, 0.0), (3054, 0.0), (3055, 0.0), (3056, 0.0), (3057, 0.0), (3058, 0.0), (3060, 0.0), (3061, 0.0), (3063, 0.0), (3068, 0.0), (3069, 0.0), (3072, 0.0), (3075, 0.0), (3077, 0.0), (3078, 0.0), (3080, 0.0), (3081, 0.0), (3082, 0.0), (3084, 0.0), (3087, 0.0), (3088, 0.0), (3089, 0.0), (3090, 0.0), (3091, 0.0), (3092, 0.0), (3093, 0.0), (3094, 0.0), (3101, 0.0), (3102, 0.0), (3103, 0.0), (3104, 0.0), (3105, 0.0), (3106, 0.0), (3107, 0.0), (3109, 0.0), (3113, 0.0), (3116, 0.0), (3117, 0.0), (3120, 0.0), (3123, 0.0), (3128, 0.0), (3130, 0.0), (3137, 0.0), (3138, 0.0), (3139, 0.0), (3140, 0.0), (3146, 0.0), (3147, 0.0), (3148, 0.0), (3153, 0.0), (3157, 0.0), (3160, 0.0), (3162, 0.0), (3164, 0.0), (3166, 0.0), (3167, 0.0), (3170, 0.0), (3173, 0.0), (3175, 0.0), (3176, 0.0), (3177, 0.0), (3178, 0.0), (3179, 0.0), (3180, 0.0), (3182, 0.0), (3183, 0.0), (3184, 0.0), (3186, 0.0), (3188, 0.0), (3189, 0.0), (3190, 0.0), (3194, 0.0), (3195, 0.0), (3196, 0.0), (3197, 0.0), (3198, 0.0), (3200, 0.0), (3204, 0.0), (3207, 0.0), (3208, 0.0), (3209, 0.0), (3212, 0.0), (3214, 0.0), (3216, 0.0), (3217, 0.0), (3219, 0.0), (3220, 0.0), (3224, 0.0), (3228, 0.0), (3229, 0.0), (3230, 0.0), (3235, 0.0), (3236, 0.0), (3242, 0.0), (3243, 0.0), (3244, 0.0), (3246, 0.0), (3248, 0.0), (3249, 0.0), (3250, 0.0), (3251, 0.0), (3252, 0.0), (3254, 0.0), (3255, 0.0), (3256, 0.0), (3257, 0.0), (3258, 0.0), (3261, 0.0), (3262, 0.0), (3266, 0.0), (3268, 0.0), (3269, 0.0), (3271, 0.0), (3272, 0.0), (3273, 0.0), (3274, 0.0), (3278, 0.0), (3280, 0.0), (3281, 0.0), (3282, 0.0), (3285, 0.0), (3286, 0.0), (3287, 0.0), (3288, 0.0), (3289, 0.0), (3290, 0.0), (3291, 0.0), (3292, 0.0), (3296, 0.0), (3298, 0.0), (3299, 0.0), (3300, 0.0), (3301, 0.0), (3302, 0.0), (3304, 0.0), (3305, 0.0), (3307, 0.0), (3308, 0.0), (3309, 0.0), (3313, 0.0), (3314, 0.0), (3315, 0.0), (3318, 0.0), (3319, 0.0), (3322, 0.0), (3324, 0.0), (3325, 0.0), (3326, 0.0), (3329, 0.0), (3331, 0.0), (3333, 0.0), (3335, 0.0), (3337, 0.0), (3338, 0.0), (3341, 0.0), (3346, 0.0), (3347, 0.0), (3348, 0.0), (3349, 0.0), (3350, 0.0), (3352, 0.0), (3353, 0.0), (3355, 0.0), (3356, 0.0), (3358, 0.0), (3359, 0.0), (3363, 0.0), (3366, 0.0), (3369, 0.0), (3371, 0.0), (3372, 0.0), (3375, 0.0), (3376, 0.0), (3378, 0.0), (3379, 0.0), (3380, 0.0), (3387, 0.0), (3388, 0.0), (3390, 0.0), (3391, 0.0), (3392, 0.0), (3394, 0.0), (3395, 0.0), (3396, 0.0), (3400, 0.0), (3401, 0.0), (3402, 0.0), (3406, 0.0), (3408, 0.0), (3413, 0.0), (3417, 0.0), (3421, 0.0), (3422, 0.0), (3423, 0.0), (3425, 0.0), (3426, 0.0), (3428, 0.0), (3430, 0.0), (3431, 0.0), (3433, 0.0), (3434, 0.0), (3439, 0.0), (3442, 0.0), (3452, 0.0), (3455, 0.0), (3462, 0.0), (3471, 0.0), (3473, 0.0), (3474, 0.0), (3475, 0.0), (3476, 0.0), (3478, 0.0), (3479, 0.0), (3482, 0.0), (3485, 0.0), (3487, 0.0), (3488, 0.0), (3490, 0.0), (3492, 0.0), (3493, 0.0), (3494, 0.0), (3495, 0.0), (3496, 0.0), (3497, 0.0), (3498, 0.0), (3499, 0.0), (3500, 0.0), (3503, 0.0), (3505, 0.0), (3506, 0.0), (3508, 0.0), (3509, 0.0), (3510, 0.0), (3511, 0.0), (3512, 0.0), (3517, 0.0), (3519, 0.0), (3521, 0.0), (3523, 0.0), (3524, 0.0), (3527, 0.0), (3528, 0.0), (3529, 0.0), (3530, 0.0), (3533, 0.0), (3534, 0.0), (3537, 0.0), (3538, 0.0), (3539, 0.0), (3540, 0.0), (3542, 0.0), (3543, 0.0), (3544, 0.0), (3545, 0.0), (3547, 0.0), (3548, 0.0), (3550, 0.0), (3552, 0.0), (3558, 0.0), (3561, 0.0), (3564, 0.0), (3565, 0.0), (3569, 0.0), (3570, 0.0), (3571, 0.0), (3572, 0.0), (3573, 0.0), (3574, 0.0), (3575, 0.0), (3576, 0.0), (3580, 0.0), (3581, 0.0), (3583, 0.0), (3584, 0.0), (3585, 0.0), (3587, 0.0), (3590, 0.0), (3601, 0.0), (3606, 0.0), (3607, 0.0), (3608, 0.0), (3609, 0.0), (3611, 0.0), (3613, 0.0), (3614, 0.0), (3615, 0.0), (3617, 0.0), (3619, 0.0), (3620, 0.0), (3621, 0.0), (3622, 0.0), (3624, 0.0), (3625, 0.0), (3627, 0.0), (3628, 0.0), (3631, 0.0), (3632, 0.0), (3634, 0.0), (3636, 0.0), (3638, 0.0), (3640, 0.0), (3641, 0.0), (3644, 0.0), (3647, 0.0), (3649, 0.0), (3653, 0.0), (3656, 0.0), (3662, 0.0), (3663, 0.0), (3664, 0.0), (3665, 0.0), (3667, 0.0), (3669, 0.0), (3671, 0.0), (3672, 0.0), (3673, 0.0), (3679, 0.0), (3682, 0.0), (3683, 0.0), (3685, 0.0), (3687, 0.0), (3688, 0.0), (3691, 0.0), (3695, 0.0), (3702, 0.0), (3705, 0.0), (3707, 0.0), (3712, 0.0), (3713, 0.0), (3714, 0.0), (3716, 0.0), (3717, 0.0), (3719, 0.0), (3721, 0.0), (3725, 0.0), (3726, 0.0), (3727, 0.0), (3728, 0.0), (3729, 0.0), (3732, 0.0), (3733, 0.0), (3735, 0.0), (3737, 0.0), (3740, 0.0), (3745, 0.0), (3749, 0.0), (3750, 0.0), (3753, 0.0), (3754, 0.0), (3755, 0.0), (3758, 0.0), (3759, 0.0), (3760, 0.0), (3761, 0.0), (3762, 0.0), (3763, 0.0), (3764, 0.0), (3767, 0.0), (3770, 0.0), (3772, 0.0), (3774, 0.0), (3779, 0.0), (3781, 0.0), (3785, 0.0), (3788, 0.0), (3789, 0.0), (3790, 0.0), (3791, 0.0), (3792, 0.0), (3793, 0.0), (3796, 0.0), (3800, 0.0), (3804, 0.0), (3805, 0.0), (3806, 0.0), (3808, 0.0), (3809, 0.0), (3811, 0.0), (3812, 0.0), (3813, 0.0), (3815, 0.0), (3817, 0.0), (3820, 0.0), (3824, 0.0), (3827, 0.0), (3829, 0.0), (3830, 0.0), (3831, 0.0), (3832, 0.0), (3833, 0.0), (3835, 0.0), (3836, 0.0), (3837, 0.0), (3838, 0.0), (3839, 0.0), (3843, 0.0), (3844, 0.0), (3845, 0.0), (3847, 0.0), (3848, 0.0), (3851, 0.0), (3853, 0.0), (3855, 0.0), (3856, 0.0), (3859, 0.0), (3861, 0.0), (3863, 0.0), (3864, 0.0), (3865, 0.0), (3867, 0.0), (3871, 0.0), (3872, 0.0), (3873, 0.0), (3874, 0.0), (3876, 0.0), (3877, 0.0), (3878, 0.0), (3879, 0.0), (3880, 0.0), (3882, 0.0), (3883, 0.0), (3884, 0.0), (3885, 0.0), (3887, 0.0), (3888, 0.0), (3889, 0.0), (3892, 0.0), (3895, 0.0), (3896, 0.0), (3898, 0.0), (3899, 0.0), (3900, 0.0), (3901, 0.0), (3902, 0.0), (3904, 0.0), (3905, 0.0), (3906, 0.0), (3909, 0.0), (3910, 0.0), (3911, 0.0), (3912, 0.0), (3915, 0.0), (3916, 0.0), (3918, 0.0), (3922, 0.0), (3925, 0.0), (3926, 0.0), (3927, 0.0), (3929, 0.0), (3931, 0.0), (3932, 0.0), (3934, 0.0), (3935, 0.0), (3936, 0.0), (3938, 0.0), (3939, 0.0), (3940, 0.0), (3942, 0.0), (3943, 0.0), (3945, 0.0), (3948, 0.0), (3949, 0.0), (3950, 0.0), (3951, 0.0), (3952, 0.0), (3953, 0.0), (3954, 0.0), (3956, 0.0), (3958, 0.0), (3960, 0.0), (3962, 0.0), (3964, 0.0), (3967, 0.0), (3969, 0.0), (3971, 0.0), (3973, 0.0), (3974, 0.0), (3975, 0.0), (3976, 0.0), (3981, 0.0), (3984, 0.0), (3985, 0.0), (3986, 0.0), (3987, 0.0), (3988, 0.0), (3989, 0.0), (3990, 0.0), (3991, 0.0), (3996, 0.0), (3999, 0.0), (4002, 0.0), (4003, 0.0), (4006, 0.0), (4008, 0.0), (4010, 0.0), (4011, 0.0), (4014, 0.0), (4016, 0.0), (4017, 0.0), (4018, 0.0), (4021, 0.0), (4022, 0.0), (4024, 0.0), (4026, 0.0), (4027, 0.0), (4028, 0.0), (4030, 0.0), (4034, 0.0), (4035, 0.0), (4036, 0.0), (4040, 0.0), (4042, 0.0), (4043, 0.0), (4049, 0.0), (4050, 0.0), (4053, 0.0), (4054, 0.0), (4058, 0.0), (4063, 0.0), (4065, 0.0), (4066, 0.0), (4067, 0.0), (4072, 0.0), (4073, 0.0), (4075, 0.0), (4078, 0.0), (4079, 0.0), (4080, 0.0), (4082, 0.0), (4083, 0.0), (4084, 0.0), (4085, 0.0), (4086, 0.0), (4087, 0.0), (4090, 0.0), (4092, 0.0), (4101, 0.0), (4102, 0.0), (4104, 0.0), (4105, 0.0), (4111, 0.0), (4113, 0.0), (4120, 0.0), (4123, 0.0), (4125, 0.0), (4126, 0.0), (4127, 0.0), (4129, 0.0), (4134, 0.0), (4138, 0.0), (4139, 0.0), (4140, 0.0), (4144, 0.0), (4146, 0.0), (4147, 0.0), (4149, 0.0), (4150, 0.0), (4151, 0.0), (4154, 0.0), (4159, 0.0), (4160, 0.0), (4161, 0.0), (4162, 0.0), (4163, 0.0), (4166, 0.0), (4167, 0.0), (4168, 0.0), (4169, 0.0), (4170, 0.0), (4172, 0.0), (4173, 0.0), (4177, 0.0), (4182, 0.0), (4183, 0.0), (4185, 0.0), (4191, 0.0), (4195, 0.0), (4197, 0.0), (4198, 0.0), (4204, 0.0), (4207, 0.0), (4208, 0.0), (4209, 0.0), (4212, 0.0), (4213, 0.0), (4214, 0.0), (4215, 0.0), (4219, 0.0), (4225, 0.0), (4228, 0.0), (4229, 0.0), (4230, 0.0), (4237, 0.0), (4240, 0.0), (4241, 0.0), (4243, 0.0), (4245, 0.0), (4247, 0.0), (4250, 0.0), (4251, 0.0), (4252, 0.0), (4253, 0.0), (4254, 0.0), (4256, 0.0), (4258, 0.0), (4259, 0.0), (4260, 0.0), (4263, 0.0), (4266, 0.0), (4270, 0.0), (4271, 0.0), (4273, 0.0), (4275, 0.0), (4277, 0.0), (4278, 0.0), (4279, 0.0), (4280, 0.0), (4284, 0.0), (4287, 0.0), (4291, 0.0), (4292, 0.0), (4295, 0.0), (4296, 0.0), (4298, 0.0), (4299, 0.0), (4300, 0.0), (4302, 0.0), (4304, 0.0), (4305, 0.0), (4306, 0.0), (4307, 0.0), (4308, 0.0), (4309, 0.0), (4311, 0.0), (4313, 0.0), (4314, 0.0), (4315, 0.0), (4316, 0.0), (4317, 0.0), (4318, 0.0), (4320, 0.0), (4321, 0.0), (4322, 0.0), (4324, 0.0), (4326, 0.0), (4329, 0.0), (4331, 0.0), (4333, 0.0), (4334, 0.0), (4336, 0.0), (4337, 0.0), (4340, 0.0), (4342, 0.0), (4343, 0.0), (4346, 0.0), (4347, 0.0), (4349, 0.0), (4350, 0.0), (4352, 0.0), (4354, 0.0), (4355, 0.0), (4356, 0.0), (4357, 0.0), (4358, 0.0), (4360, 0.0), (4361, 0.0), (4362, 0.0), (4364, 0.0), (4365, 0.0), (4367, 0.0), (4368, 0.0), (4369, 0.0), (4370, 0.0), (4371, 0.0), (4372, 0.0), (4375, 0.0), (4377, 0.0), (4378, 0.0), (4381, 0.0), (4382, 0.0), (4383, 0.0), (4385, 0.0), (4386, 0.0), (4388, 0.0), (4389, 0.0), (4391, 0.0), (4393, 0.0), (4394, 0.0), (4396, 0.0), (4397, 0.0), (4398, 0.0), (4400, 0.0), (4405, 0.0), (4407, 0.0), (4408, 0.0), (4409, 0.0), (4410, 0.0), (4412, 0.0), (4413, 0.0), (4416, 0.0), (4417, 0.0), (4420, 0.0), (4421, 0.0), (4422, 0.0), (4423, 0.0), (4424, 0.0), (4425, 0.0), (4426, 0.0), (4427, 0.0), (4428, 0.0), (4433, 0.0), (4434, 0.0), (4437, 0.0), (4441, 0.0), (4445, 0.0), (4446, 0.0), (4449, 0.0), (4451, 0.0), (4452, 0.0), (4454, 0.0), (4455, 0.0), (4457, 0.0), (4458, 0.0), (4461, 0.0), (4463, 0.0), (4464, 0.0), (4466, 0.0), (4468, 0.0), (4470, 0.0), (4471, 0.0), (4476, 0.0), (4478, 0.0), (4479, 0.0), (4480, 0.0), (4482, 0.0), (4483, 0.0), (4484, 0.0), (4485, 0.0), (4487, 0.0), (4488, 0.0), (4489, 0.0), (4491, 0.0), (4492, 0.0), (4495, 0.0), (4496, 0.0), (4497, 0.0), (4498, 0.0), (4499, 0.0), (4500, 0.0), (4501, 0.0), (4505, 0.0), (4506, 0.0), (4507, 0.0), (4508, 0.0), (4513, 0.0), (4514, 0.0), (4516, 0.0), (4517, 0.0), (4518, 0.0), (4520, 0.0), (4521, 0.0), (4522, 0.0), (4525, 0.0), (4526, 0.0), (4527, 0.0), (4528, 0.0), (4529, 0.0), (4530, 0.0), (4532, 0.0), (4533, 0.0), (4536, 0.0), (4537, 0.0), (4538, 0.0), (4539, 0.0), (4540, 0.0), (4542, 0.0), (4544, 0.0), (4545, 0.0), (4546, 0.0), (4547, 0.0), (4552, 0.0), (4555, 0.0), (4556, 0.0), (4558, 0.0), (4559, 0.0), (4560, 0.0), (4561, 0.0), (4562, 0.0), (4563, 0.0), (4565, 0.0), (4566, 0.0), (4567, 0.0), (4569, 0.0), (4570, 0.0), (4572, 0.0), (4573, 0.0), (4574, 0.0), (4575, 0.0), (4577, 0.0), (4578, 0.0), (4579, 0.0), (4580, 0.0), (4582, 0.0), (4583, 0.0), (4584, 0.0), (4585, 0.0), (4588, 0.0), (4593, 0.0), (4594, 0.0), (4595, 0.0), (4598, 0.0), (4599, 0.0), (4601, 0.0), (4603, 0.0), (4604, 0.0), (4611, 0.0), (4614, 0.0), (4615, 0.0), (4616, 0.0), (4617, 0.0), (4618, 0.0), (4620, 0.0), (4622, 0.0), (4625, 0.0), (4627, 0.0), (4628, 0.0), (4632, 0.0), (4635, 0.0), (4636, 0.0), (4637, 0.0), (4638, 0.0), (4639, 0.0), (4641, 0.0), (4643, 0.0), (4644, 0.0), (4645, 0.0), (4648, 0.0), (4650, 0.0), (4651, 0.0), (4654, 0.0), (4655, 0.0), (4657, 0.0), (4659, 0.0), (4660, 0.0), (4662, 0.0), (4663, 0.0), (4664, 0.0), (4665, 0.0), (4666, 0.0), (4667, 0.0), (4668, 0.0), (4670, 0.0), (4671, 0.0), (4672, 0.0), (4675, 0.0), (4677, 0.0), (4678, 0.0), (4681, 0.0), (4683, 0.0), (4685, 0.0), (4691, 0.0), (4692, 0.0), (4693, 0.0), (4694, 0.0), (4696, 0.0), (4697, 0.0), (4699, 0.0), (4700, 0.0), (4701, 0.0), (4702, 0.0), (4703, 0.0), (4704, 0.0), (4706, 0.0), (4707, 0.0), (4710, 0.0), (4711, 0.0), (4713, 0.0), (4714, 0.0), (4715, 0.0), (4717, 0.0), (4718, 0.0), (4719, 0.0), (4720, 0.0), (4721, 0.0), (4726, 0.0), (4729, 0.0), (4730, 0.0), (4731, 0.0), (4734, 0.0), (4736, 0.0), (4737, 0.0), (4738, 0.0), (4740, 0.0), (4741, 0.0), (4744, 0.0), (4745, 0.0), (4746, 0.0), (4749, 0.0), (4750, 0.0), (4751, 0.0), (4753, 0.0), (4756, 0.0), (4757, 0.0), (4758, 0.0), (4759, 0.0)]\n"
          ]
        }
      ]
    },
    {
      "cell_type": "code",
      "source": [
        "print(\"Top 30 suggested movies for you :\")\n",
        "i=1\n",
        "for movie in Sorted_similar_movies:\n",
        "  index=movie[0]\n",
        "  title_from_index=df[df.index==index]['Movie_Title'].values[0]\n",
        "  if(i<31):\n",
        "    print(i , '' ,title_from_index)\n",
        "    i+=1"
      ],
      "metadata": {
        "colab": {
          "base_uri": "https://localhost:8080/"
        },
        "id": "ye-uEsKgkVGL",
        "outputId": "ffc2c0d6-d4a1-4dfc-b986-2329424e8b9e"
      },
      "execution_count": 52,
      "outputs": [
        {
          "output_type": "stream",
          "name": "stdout",
          "text": [
            "Top 30 suggested movies for you :\n",
            "1  Batman Begins\n",
            "2  The Dark Knight Rises\n",
            "3  The Dark Knight\n",
            "4  The Prestige\n",
            "5  Batman & Robin\n",
            "6  Batman Returns\n",
            "7  Superman\n",
            "8  Batman\n",
            "9  Batman Forever\n",
            "10  Harry Brown\n",
            "11  Taken\n",
            "12  Superman Returns\n",
            "13  Man of Steel\n",
            "14  Jonah Hex\n",
            "15  GoldenEye\n",
            "16  The Green Hornet\n",
            "17  Mad Money\n",
            "18  Shaft\n",
            "19  Wonder Boys\n",
            "20  The Son of No One\n",
            "21  Interstellar\n",
            "22  TMNT\n",
            "23  Catwoman\n",
            "24  Mr. Nice Guy\n",
            "25  Pieces of April\n",
            "26  Kickboxer: Vengeance\n",
            "27  Superman II\n",
            "28  Jack and Jill\n",
            "29  True Romance\n",
            "30  Public Enemies\n"
          ]
        }
      ]
    },
    {
      "cell_type": "code",
      "source": [
        "import difflib\n",
        "\n",
        "Movie_Name = input('Enter your favorite movie name: ')\n",
        "\n",
        "list_of_all_titles = df['Movie_Title'].tolist()\n",
        "\n",
        "\n",
        "close_matches = difflib.get_close_matches(Movie_Name, list_of_all_titles)\n",
        "\n",
        "if close_matches:\n",
        "    closest_match = close_matches[0]\n",
        "    Index_of_Movie = df[df.Movie_Title == closest_match]['Movie_ID'].values[0]\n",
        "\n",
        "    Recommendation_Score = list(enumerate(Similarity_score[Index_of_Movie]))\n",
        "\n",
        "    sorted_similar_movies = sorted(Recommendation_Score, key=lambda x: x[1], reverse=True)\n",
        "\n",
        "    print('Top 10 Movies suggested for you: \\n')\n",
        "\n",
        "    i = 1\n",
        "\n",
        "    for movie in sorted_similar_movies:\n",
        "        index = movie[0]\n",
        "        if index < len(df):\n",
        "            title_from_index = df[df.Movie_ID == index]['Movie_Title'].values[0]\n",
        "            print(i, '.', title_from_index)\n",
        "            i += 1\n",
        "        else:\n",
        "            print(\"Invalid index:\", index)\n",
        "\n",
        "        if i > 10:\n",
        "            break\n",
        "else:\n",
        "    print('No close matches found for the entered movie name.')"
      ],
      "metadata": {
        "colab": {
          "base_uri": "https://localhost:8080/"
        },
        "id": "nNJzYh9Qm5Pr",
        "outputId": "79819ae6-7f6e-490d-8e79-c93caf962588"
      },
      "execution_count": 55,
      "outputs": [
        {
          "output_type": "stream",
          "name": "stdout",
          "text": [
            "Enter your favorite movie name: spidderman\n",
            "Top 10 Movies suggested for you: \n",
            "\n",
            "1 . Spider-Man\n",
            "2 . Spider-Man 2\n",
            "3 . Fight Club\n",
            "4 . Wolves\n",
            "5 . American Psycho\n",
            "6 . Minority Report\n",
            "7 . Wrong Turn\n",
            "8 . The Inkwell\n",
            "9 . The Watcher\n",
            "10 . Enemy at the Gates\n"
          ]
        }
      ]
    },
    {
      "cell_type": "markdown",
      "source": [
        "# Conclusion"
      ],
      "metadata": {
        "id": "Rc1CC0ManXB3"
      }
    },
    {
      "cell_type": "markdown",
      "source": [
        "Movie Match, the advanced Movie Recommendation System, is powered by the Close Match algorithm, ensuring precise and personalized movie suggestions. By employing fuzzy matching techniques, it adeptly handles minor input variations, such as typos or incomplete titles. This innovative approach guarantees spot-on recommendations, tailored exclusively for each user's cinematic taste."
      ],
      "metadata": {
        "id": "rlCuWkw3nauL"
      }
    }
  ]
}